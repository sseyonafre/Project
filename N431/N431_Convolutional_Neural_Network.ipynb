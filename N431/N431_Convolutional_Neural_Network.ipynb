{
  "nbformat": 4,
  "nbformat_minor": 0,
  "metadata": {
    "colab": {
      "name": "N431_Convolutional_Neural_Network.ipynb",
      "provenance": [],
      "collapsed_sections": [
        "joZkbxIjRSpe",
        "GS_pFnv4I8CA"
      ],
      "machine_shape": "hm",
      "toc_visible": true
    },
    "kernelspec": {
      "name": "python3",
      "display_name": "Python 3"
    },
    "language_info": {
      "name": "python"
    },
    "accelerator": "GPU"
  },
  "cells": [
    {
      "cell_type": "markdown",
      "metadata": {
        "id": "joZkbxIjRSpe"
      },
      "source": [
        "<img src='https://user-images.githubusercontent.com/6457691/90080969-0f758d00-dd47-11ea-8191-fa12fd2054a7.png' width = '200' align = 'right'>\n",
        "\n",
        "## *AIB / SECTION 4 / SPRINT 3 / NOTE 1*\n",
        "\n",
        "---"
      ]
    },
    {
      "cell_type": "markdown",
      "metadata": {
        "id": "1Q_qCsRbRhJ0"
      },
      "source": [
        "# N431. 합성곱 신경망(Convolutional Neural Network)과 전이 학습(Transfer Learning)"
      ]
    },
    {
      "cell_type": "markdown",
      "source": [
        "## 컴퓨터 비전(Computer Vision)"
      ],
      "metadata": {
        "id": "GS_pFnv4I8CA"
      }
    },
    {
      "cell_type": "markdown",
      "source": [
        "## CNN(Convolutional Neural Network, 합성곱 신경망)과 CNN의 구조"
      ],
      "metadata": {
        "id": "EFY-bjSLJ5YK"
      }
    },
    {
      "cell_type": "markdown",
      "source": [
        "이번 시간에는 **컴퓨터 비전(Computer Vision)**에서 자주 사용되는 **<font color=\"ff6f61\">합성곱 신경망(Convolutional Neural Network, CNN)</font>**을 알아보도록 하겠습니다.\n",
        "\n",
        "합성곱 신경망(CNN)이 이미지 분류에서 주목받은 시기는 2012년인데요.<br/>\n",
        "매년 열리는 이미지넷(ImageNet) 데이터셋 분류 경진대회인 ILSVRC 에서 2012년에 우승한 AlexNet 덕분이었습니다."
      ],
      "metadata": {
        "id": "iXw29Cewn4eE"
      }
    },
    {
      "cell_type": "markdown",
      "source": [
        "합성곱 신경망이 이미지 분류에서 주목받게 된 이유는 무엇일까요?\n",
        "\n",
        "이미지는 위치에 맞는 **공간적인 특성**을 가지고 있습니다.<br/>\n",
        "하지만 여러분이 Sprint 1 에서 구축해보셨던 다층 퍼셉트론 신경망(MLP)은<br/>\n",
        "**모든 입력 값을 `Flatten`으로 펴준 뒤에 연산**하기 때문에 이런 공간적 특성을 잘 살려내지 못합니다.\n",
        "\n",
        "MNIST 데이터 처럼 간단한 이미지 데이터는 MLP로도 분류가 가능하지만<br/>\n",
        "패턴이 복잡한 컬러 이미지를 이런 방식으로 분류하는 것은 쉽지 않은데요.<br/>\n",
        "\n",
        "반면 합성곱 신경망은 학습 과정에서 이런 공간적 특성을 보존하며 학습할 수 있습니다.<br/>\n",
        "합성곱 층은 이미지의 일부분을 훑으면서 연산이 진행되며 특징을 잡아내어 학습하기 때문에<br/>\n",
        "층이 깊어지더라도 공간적 특성을 최대한 보존할 수 있습니다.\n",
        "\n",
        "\n"
      ],
      "metadata": {
        "id": "R6dSe-37n4ZA"
      }
    },
    {
      "cell_type": "markdown",
      "source": [
        "### CNN의 구조"
      ],
      "metadata": {
        "id": "G2bWzF-f5wse"
      }
    },
    {
      "cell_type": "markdown",
      "source": [
        "기본적인 CNN의 구조는 아래 그림과 같이 특징 추출 부분(1), 분류를 위한 신경망(2)의 2단계로 나눌 수 있습니다.\n"
      ],
      "metadata": {
        "id": "Jw4qHA_vRHsv"
      }
    },
    {
      "cell_type": "markdown",
      "source": [
        "<img src=\"https://i.imgur.com/yVw7una.png\" height=\"500\">\n"
      ],
      "metadata": {
        "id": "JuwxaZ9Ba9Lk"
      }
    },
    {
      "cell_type": "markdown",
      "source": [
        "먼저 특징이 추출되는 부분인 **합성곱 층(Convolution Layer)**과 **풀링 층(Pooling Layer)**에 대해서 알아보도록 하겠습니다."
      ],
      "metadata": {
        "id": "zv68vwVhLxEf"
      }
    },
    {
      "cell_type": "markdown",
      "metadata": {
        "id": "TmhyZl21SrRM"
      },
      "source": [
        "## 합성곱(Convolution) 과 풀링(Pooling)"
      ]
    },
    {
      "cell_type": "markdown",
      "metadata": {
        "id": "2mTzSvWGiRUE"
      },
      "source": [
        "### 합성곱(Convolution)"
      ]
    },
    {
      "cell_type": "markdown",
      "source": [
        "먼저 합성곱 층에 대해 알아보도록 하겠습니다.<br/>\n",
        "합성곱 층에서는 **<font color=\"ff6f61\">합성곱 필터(Convolution Filter)</font>**가 **슬라이딩(Sliding)**하며 이미지 부분부분의 특징을 읽어나갑니다.\n",
        "\n",
        "아래는 필터가 슬라이딩하며 연산되는 모습을 나타낸 gif 입니다."
      ],
      "metadata": {
        "id": "sOIHghPgMCXO"
      }
    },
    {
      "cell_type": "markdown",
      "metadata": {
        "id": "HCf1wc1XeHLX"
      },
      "source": [
        "<img src=\"https://cdn-images-1.medium.com/max/800/1*MrGSULUtkXc0Ou07QouV8A.gif\" height=\"250\">"
      ]
    },
    {
      "cell_type": "markdown",
      "metadata": {
        "id": "qoQd17O0eI9I"
      },
      "source": [
        "위 이미지에서 볼 수 있듯 필터가 왼쪽 위부터 차례로 슬라이딩하며 합성곱을 진행해나갑니다.<br/>\n",
        "\n",
        "한번에 여러개가 보이니, 보기 어려울 수 있으니 정지된 상황에서의 예시를 한번 보겠습니다. \n",
        "\n",
        "<img src=\"https://ds-lecture-data.s3.ap-northeast-2.amazonaws.com/etc/note_image/conv_ex1-1.png\">\n",
        "\n",
        "같은 방식으로 9번의 연산이 이뤄지면서, 9칸이 모두 채워지는 것을 위 Gif를 통해서 확인하실 수 있습니다. <br>\n",
        "아래 그림은 각 패치(Patch)단위로 어떠한 방식으로 합성곱이 연산되는 지를 보여주고 있습니다.\n",
        "\n",
        "여기까지 이해하시면, 가장 기본적인 Convolution에 대해서 이해하신 것입니다. 그림으로 이해하더라도, 실제 코드로 한번 실습해보시는 것는 추천드립니다"
      ]
    },
    {
      "cell_type": "markdown",
      "source": [
        "#### 패딩(Padding)"
      ],
      "metadata": {
        "id": "n5lRBJ3Cd3nO"
      }
    },
    {
      "cell_type": "markdown",
      "metadata": {
        "id": "LnuJvghteg3k"
      },
      "source": [
        "다음으로는 Convolution에 적용할 수 있는 **패딩(Padding)**과 **스트라이드(Stride)**에 대해서 알아보도록 하겠습니다.\n",
        "\n"
      ]
    },
    {
      "cell_type": "markdown",
      "metadata": {
        "id": "VswD5Bi3i-Bh"
      },
      "source": [
        "**<font color=\"ff6f61\">패딩(Padding)</font>**은 이미지 외부를 특정한 값으로 둘러싸서 처리해주는 방식입니다.<br/>\n",
        "아래 그림처럼 '0'으로 둘러싸주는 제로-패딩(Zero-Padding)이 가장 많이 사용됩니다.\n",
        "\n",
        "> 패딩을 사용하면 가장자리의 숫자의 정보손실이 덜하다 (예를들면 처음 60이 패딩을 사용하지않으면 1번밖에 사용되지않음.)"
      ]
    },
    {
      "cell_type": "markdown",
      "metadata": {
        "id": "EiiG6zBAjneL"
      },
      "source": [
        "<img src=\"https://i.imgur.com/GRDbmHF.gif\" height=\"300\">"
      ]
    },
    {
      "cell_type": "markdown",
      "source": [
        "세희의 노트 \n",
        ">커널이 합쳐져서 필터가 된다.\n",
        "예를 들면 6x6x3 의 input 이 4x4크기의 필터 7개를 가진 convolution 층을 지난다고 가정하면 이때 커널은 1개의 필터당 3개씩 생김(r,g,b). 그리고 채널 수는 7개가 됨.(conv 층을 지나면 무조건 채널이 1개로 변하기 때문)  <br/> 필터가 커널보다 더 포괄적인 개념."
      ],
      "metadata": {
        "id": "UaFiJf7xp_oF"
      }
    },
    {
      "cell_type": "markdown",
      "source": [
        "![스크린샷 2022-09-21 오전 1.16.44.png](data:image/png;base64,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)"
      ],
      "metadata": {
        "id": "0H2DG6Utr-U-"
      }
    },
    {
      "cell_type": "markdown",
      "source": [
        "여기서 파라미터 갯수는 몇개일까? \n",
        "> 가중치 : 3(필터갯수) x 5 x 5(필터의 크기) x3(채널수)<br/>\n",
        "편향 : 3(필터갯수) <br/>총 258개\n"
      ],
      "metadata": {
        "id": "q7_B5PCRsLTK"
      }
    },
    {
      "cell_type": "markdown",
      "source": [
        "연산되어 나오는 Output, 즉 Feature map 의 크기를 조절하고 실제 이미지 값을 충분히 활용하기 위해 사용됩니다."
      ],
      "metadata": {
        "id": "XMpl0BhpgE_6"
      }
    },
    {
      "cell_type": "markdown",
      "source": [
        "#### 스트라이드(Stride)"
      ],
      "metadata": {
        "id": "_3BIcjj3gbBc"
      }
    },
    {
      "cell_type": "markdown",
      "metadata": {
        "id": "-8XEooeujsn_"
      },
      "source": [
        "**<font color=\"ff6f61\">스트라이드(Stride)</font>**는 '보폭'이라는 뜻을 가진 단어입니다.<br/>\n",
        "Stride 를 조절하면 슬라이딩(Sliding)시에 몇 칸 씩 건너뛸지를 나타냅니다.\n",
        "\n",
        "위에서 살펴본 것처럼 필터가 한 칸씩 슬라이딩하려면 **`Stride=1`** 로 해주어야 하며<br/>\n",
        "두 칸씩 슬라이딩하려면 **`Stride=2`** 로 설정해주어야 합니다.\n",
        "\n",
        "두 가지 경우에 대해 아래 그림을 보며 알아보도록 하겠습니다.\n",
        "\n",
        "> ❗️ ***아래 그림에서 Stride가 변함에 따라 출력되는 Feature map의 크기가 어떻게 변하는지 주목해봅시다.***"
      ]
    },
    {
      "cell_type": "markdown",
      "metadata": {
        "id": "GyaPAVo0iOOw"
      },
      "source": [
        "- **Stride = 1**\n",
        "\n",
        "<img src=\"https://adeshpande3.github.io/assets/Stride1.png\"/>\n",
        "\n",
        "- **Stride = 2**\n",
        "\n",
        "<img src=\"https://adeshpande3.github.io/assets/Stride2.png\"/>"
      ]
    },
    {
      "cell_type": "markdown",
      "source": [
        "- **필터 크기(Filter size), 패딩(Padding), 스트라이드(Stride)에 따른 Feature map 크기 변화**\n",
        "\n",
        "$$\n",
        "N_{\\text{out}} = \\bigg[\\frac{N_{\\text{in}} + 2p - k}{s}\\bigg] + 1\n",
        "$$\n",
        "\n",
        "$N_{\\text{in}}$ : 입력되는 이미지의 크기(=피처 수) <br/>\n",
        "$N_{\\text{out}}$ : 출력되는 이미지의 크기(=피처 수) <br/>\n",
        "$k$ : 합성곱에 사용되는 커널(=필터)의 크기 <br/>\n",
        "$p$ : 합성곱에 적용한 패딩 값 <br/>\n",
        "$s$ : 합성곱에 적용한 스트라이드 값"
      ],
      "metadata": {
        "id": "3mKnqO9hh3JU"
      }
    },
    {
      "cell_type": "markdown",
      "source": [
        "### 풀링(Pooling)"
      ],
      "metadata": {
        "id": "RTGx-oIvqNrs"
      }
    },
    {
      "cell_type": "markdown",
      "source": [
        "가로, 세로 방향의 공간을 줄이기 위한 **<font color=\"ff6f61\">풀링(Pooling)</font>**을 수행합니다.\n",
        "\n",
        "풀링 방법에는 **최대 풀링(Max pooling)**과 **평균 풀링(Average pooling)**이 있습니다. <br/>\n",
        "최대 풀링은 정해진 범위 내에서 가장 큰 값을 꺼내오는 방식이며 평균 풀링은 정해진 범위 내에 있는 모든 요소의 평균을 가져오는 방식입니다.<br/>\n",
        "일반적으로 이미지를 처리할 때에는 각 부분의 특징을 최대로 보존하기 위해서 최대 풀링을 사용합니다.<br/>\n",
        "아래 그림은 $2×2$ 크기의 최대 풀링과 평균 풀링을 처리하는 과정을 비교하여 나타낸 것입니다."
      ],
      "metadata": {
        "id": "TEgga8hnlVbp"
      }
    },
    {
      "cell_type": "markdown",
      "source": [
        "<img src=\"https://i.imgur.com/ZuJLMFi.png\" height=\"350\">"
      ],
      "metadata": {
        "id": "oRPICim2m82Z"
      }
    },
    {
      "cell_type": "markdown",
      "source": [
        "위 그림에서 왼쪽은 최대 풀링으로 각각의 2×2의 범위 내에서 가장 큰 요소인 100,184,12,45 출력 데이터로 가져옵니다.<br/>\n",
        "오른쪽은 평균 풀링으로 각각의 2×2의 범위 내 요소의 평균값인 36,80,12,15 를 출력 데이터로 가져옵니다.\n",
        "\n",
        "풀링 층은 학습해야 할 **가중치가 없으며 채널 수가 변하지 않는다**는 특징을 가지고 있습니다. \n",
        ">채널이란 예를들면 흑백은 1, 컬러는 3 이당"
      ],
      "metadata": {
        "id": "xJh9rCxenRfe"
      }
    },
    {
      "cell_type": "markdown",
      "source": [
        "### 완전 연결 신경망(Fully Connected Layer)"
      ],
      "metadata": {
        "id": "GxUvevp0rTMG"
      }
    },
    {
      "cell_type": "markdown",
      "source": [
        "합성곱 층(Convolutional Layer)와 풀링 층(Pooling Layer)에서 충분히 특징을 추출했다면,<br/>\n",
        "다음은 분류를 위한 완전 연결 신경망을 구축할 차례입니다.\n",
        "\n",
        "완전 연결 신경망은 여러분이 이전에 구축했던 다층 퍼셉트론 신경망으로 구성되어 있으며<br/>\n",
        "풀어야 하는 문제에 따라서 출력층을 잘 설계해주는 것이 중요합니다."
      ],
      "metadata": {
        "id": "JxzWkZZsrbh_"
      }
    },
    {
      "cell_type": "markdown",
      "source": [
        "### CNN의 학습"
      ],
      "metadata": {
        "id": "sE9PzC_in4es"
      }
    },
    {
      "cell_type": "markdown",
      "source": [
        "그렇다면 CNN에서는 어떤 부분이 학습될까요?<br/>\n",
        "영상을 잠깐 멈추고 지금까지 배운 층에서 어떤 부분에 학습되는 가중치가 있었을 지 알아보도록 합시다."
      ],
      "metadata": {
        "id": "ulvrdHmvq_7z"
      }
    },
    {
      "cell_type": "markdown",
      "source": [
        "이미 위 내용을 학습하면서 눈치채신 분들도 계시겠지만<br/>\n",
        "정답은 Convolution 층에 있는 **Filter의 가중치**입니다.\n",
        "\n",
        "그렇다면 학습된 필터의 모습은 어떻게 생겼을까요?<br/>\n",
        "아래 그림은 ImageNet 데이터를 학습한 CNN의 첫 번째 Convolution 층의 Filter 가중치를 시각화한 이미지입니다."
      ],
      "metadata": {
        "id": "O8VjlBaDnDwy"
      }
    },
    {
      "cell_type": "markdown",
      "metadata": {
        "id": "D_-V8usaYgA4"
      },
      "source": [
        "<img src=\"https://ds-lecture-data.s3.ap-northeast-2.amazonaws.com/etc/note431/CNN3.png\" height = \"300\"/>"
      ]
    },
    {
      "cell_type": "markdown",
      "source": [
        "그럼 층이 깊어지면 필터는 어떤 특징을 잡아낼까요?<br/>\n",
        "Convolution 층과 Pooling 층을 거치면서 이미지가 작아지고 Convolution 층의 Filter는 더 큰 특징을 포착하게 됩니다.\n",
        "\n",
        "아래는 CNN층이 깊어지면서 필터가 어떤 부분을 학습하게 되는 지를 나타낸 이미지입니다."
      ],
      "metadata": {
        "id": "NVLVPDny0kTD"
      }
    },
    {
      "cell_type": "markdown",
      "source": [
        "<img src=\"https://i.imgur.com/0mOlT1j.jpg\" height=\"450\">"
      ],
      "metadata": {
        "id": "8E19cnxf0Prb"
      }
    },
    {
      "cell_type": "markdown",
      "source": [
        "그림을 보면 낮은 층에서는 가로, 세로 등의 특징을 학습함을 볼 수 있고, 층이 깊어지면서 물체의 일부를 포착하게 됩니다.<br/>\n",
        "그리고 층이 더욱 깊어지게 되면 물체 전체의 윤곽에 해당하는 특징을 학습함을 알 수 있습니다."
      ],
      "metadata": {
        "id": "cGF4DVqQ1D5q"
      }
    },
    {
      "cell_type": "markdown",
      "source": [
        "### Example"
      ],
      "metadata": {
        "id": "ZmO175F-E06B"
      }
    },
    {
      "cell_type": "markdown",
      "source": [
        "일반적인 이미지를 10개의 클래스로 분류하는 데이터셋인 **Cifar10 데이터셋**을 직접 구축한 CNN을 통해 분류하는 예제를 풀어보도록 하겠습니다. "
      ],
      "metadata": {
        "id": "nZS3uGWPE3cN"
      }
    },
    {
      "cell_type": "markdown",
      "source": [
        "> ❓ ***Cifar10 예제는 이진 분류, 다중 분류, 회귀 중 어디에 속할까요? <br/>\n",
        "<font color=\"ff6f61\">항상 문제를 풀기 전에 자신이 풀고자 하는 문제가 어디에 속하는지 생각</font>해보도록 합시다.***"
      ],
      "metadata": {
        "id": "cUD3jcOA2Bok"
      }
    },
    {
      "cell_type": "markdown",
      "source": [
        "1. **먼저 필요한 패키지와 라이브러리를 불러옵니다.**"
      ],
      "metadata": {
        "id": "D1WIUhRN2T1Z"
      }
    },
    {
      "cell_type": "code",
      "source": [
        "from tensorflow.keras.datasets import cifar10\n",
        "from tensorflow.keras import Sequential\n",
        "from tensorflow.keras.layers import Dense, Conv2D, MaxPooling2D, Flatten\n",
        "from tensorflow.keras.layers import Dense, Flatten\n",
        "from tensorflow.keras.models import Sequential\n",
        "from tensorflow.keras.datasets import cifar10\n",
        "\n",
        "from sklearn.model_selection import train_test_split\n",
        "\n",
        "import numpy as np\n",
        "import tensorflow as tf"
      ],
      "metadata": {
        "id": "a3_oj5cBF4xx"
      },
      "execution_count": 1,
      "outputs": []
    },
    {
      "cell_type": "markdown",
      "source": [
        "2. **시드(Seed)를 고정합니다.**"
      ],
      "metadata": {
        "id": "MJnJ4fba2bVp"
      }
    },
    {
      "cell_type": "code",
      "source": [
        "np.random.seed(42)\n",
        "tf.random.set_seed(42)"
      ],
      "metadata": {
        "id": "DkMQjH2DGHRM"
      },
      "execution_count": 2,
      "outputs": []
    },
    {
      "cell_type": "markdown",
      "source": [
        "3. **데이터셋을 불러온 후 학습 데이터셋(Train Dataset)과 시험 데이터셋(Test Dataset)으로 나누어(Split)주고 픽셀값을 정규화 하여줍니다.**"
      ],
      "metadata": {
        "id": "IyerYNv02dPA"
      }
    },
    {
      "cell_type": "code",
      "source": [
        "(X_train, y_train), (X_test, y_test) = cifar10.load_data()"
      ],
      "metadata": {
        "id": "dZkwnB1IGI9A",
        "colab": {
          "base_uri": "https://localhost:8080/"
        },
        "outputId": "48c986dd-6f4a-4a2f-e015-644c7084b6ed"
      },
      "execution_count": 3,
      "outputs": [
        {
          "output_type": "stream",
          "name": "stdout",
          "text": [
            "Downloading data from https://www.cs.toronto.edu/~kriz/cifar-10-python.tar.gz\n",
            "170500096/170498071 [==============================] - 13s 0us/step\n",
            "170508288/170498071 [==============================] - 13s 0us/step\n"
          ]
        }
      ]
    },
    {
      "cell_type": "code",
      "source": [
        "X_train = X_train.astype('float32') / 255.\n",
        "X_test = X_test.astype('float32') / 255."
      ],
      "metadata": {
        "id": "EZcCmUp3GLmB"
      },
      "execution_count": 4,
      "outputs": []
    },
    {
      "cell_type": "code",
      "source": [
        "X_train, X_val, y_train, y_val = train_test_split(X_train, y_train, test_size=.2)"
      ],
      "metadata": {
        "id": "VNAzT2gxGNW2"
      },
      "execution_count": 5,
      "outputs": []
    },
    {
      "cell_type": "markdown",
      "source": [
        "4. **이제 본격적으로 신경망 모델을 구축해보겠습니다.**\n",
        "\n",
        "    3개의 Convolution 층 사이에 Pooling 층을 끼워넣어 특징 추출 부분을 구성하고<br/>\n",
        "1개의 은닉층과 출력층으로 구성된 완전 연결 신경망으로 분류기를 구축합니다.\n",
        "\n",
        "    > ❗️ ***아래 주어진 예시 코드 이외에도 층을 추가해보거나 제외해보면서<br/>\n",
        "모델 구조를 다양하게 바꾸어 성능을 테스트 해봅시다.***"
      ],
      "metadata": {
        "id": "xpMHG1EX2jpE"
      }
    },
    {
      "cell_type": "code",
      "source": [
        "model = Sequential()\n",
        "model.add(Conv2D(32, (3,3), padding='same', activation='relu')) #32는 필터의 갯수,필터를 병렬적으로 여러개 사용.\n",
        "model.add(MaxPooling2D(2,2))\n",
        "model.add(Conv2D(64, (3,3), padding='same', activation='relu')) \n",
        "model.add(MaxPooling2D(2,2))\n",
        "model.add(Conv2D(64, (3,3), padding='same', activation='relu'))\n",
        "model.add(Flatten())\n",
        "model.add(Dense(128, activation='relu'))\n",
        "model.add(Dense(10, activation='softmax'))"
      ],
      "metadata": {
        "id": "-5YpsDB0F5Sk"
      },
      "execution_count": 6,
      "outputs": []
    },
    {
      "cell_type": "code",
      "source": [
        "model.compile(optimizer='adam',\n",
        "              loss='sparse_categorical_crossentropy',\n",
        "              metrics=['accuracy'])"
      ],
      "metadata": {
        "id": "T9MwYE1HGE-A"
      },
      "execution_count": 7,
      "outputs": []
    },
    {
      "cell_type": "code",
      "source": [
        "model.fit(X_train, y_train,\n",
        "          batch_size=128,\n",
        "          validation_data=(X_val, y_val),\n",
        "          epochs=10)"
      ],
      "metadata": {
        "colab": {
          "base_uri": "https://localhost:8080/"
        },
        "id": "J6O4H7Q3Gggx",
        "outputId": "5c312ffb-c184-47fb-977f-6f52ed88c29e"
      },
      "execution_count": 8,
      "outputs": [
        {
          "output_type": "stream",
          "name": "stdout",
          "text": [
            "Epoch 1/10\n",
            "313/313 [==============================] - 15s 9ms/step - loss: 1.6073 - accuracy: 0.4160 - val_loss: 1.3617 - val_accuracy: 0.5124\n",
            "Epoch 2/10\n",
            "313/313 [==============================] - 2s 7ms/step - loss: 1.1851 - accuracy: 0.5808 - val_loss: 1.0738 - val_accuracy: 0.6185\n",
            "Epoch 3/10\n",
            "313/313 [==============================] - 2s 7ms/step - loss: 1.0055 - accuracy: 0.6445 - val_loss: 1.0155 - val_accuracy: 0.6415\n",
            "Epoch 4/10\n",
            "313/313 [==============================] - 2s 7ms/step - loss: 0.8866 - accuracy: 0.6895 - val_loss: 0.9384 - val_accuracy: 0.6648\n",
            "Epoch 5/10\n",
            "313/313 [==============================] - 2s 7ms/step - loss: 0.7974 - accuracy: 0.7196 - val_loss: 0.8695 - val_accuracy: 0.6945\n",
            "Epoch 6/10\n",
            "313/313 [==============================] - 2s 7ms/step - loss: 0.7156 - accuracy: 0.7497 - val_loss: 0.8405 - val_accuracy: 0.7115\n",
            "Epoch 7/10\n",
            "313/313 [==============================] - 3s 8ms/step - loss: 0.6425 - accuracy: 0.7772 - val_loss: 0.8683 - val_accuracy: 0.7037\n",
            "Epoch 8/10\n",
            "313/313 [==============================] - 2s 7ms/step - loss: 0.5811 - accuracy: 0.7957 - val_loss: 0.8481 - val_accuracy: 0.7141\n",
            "Epoch 9/10\n",
            "313/313 [==============================] - 3s 8ms/step - loss: 0.5155 - accuracy: 0.8193 - val_loss: 0.8529 - val_accuracy: 0.7159\n",
            "Epoch 10/10\n",
            "313/313 [==============================] - 2s 8ms/step - loss: 0.4506 - accuracy: 0.8420 - val_loss: 0.8592 - val_accuracy: 0.7212\n"
          ]
        },
        {
          "output_type": "execute_result",
          "data": {
            "text/plain": [
              "<keras.callbacks.History at 0x7f31c0366e50>"
            ]
          },
          "metadata": {},
          "execution_count": 8
        }
      ]
    },
    {
      "cell_type": "markdown",
      "source": [
        "5. **학습한 신경망 모델을 사용하여 평가합니다.**"
      ],
      "metadata": {
        "id": "Nyttu_ZW4B0s"
      }
    },
    {
      "cell_type": "code",
      "source": [
        "model.evaluate(X_test, y_test, verbose=2)"
      ],
      "metadata": {
        "colab": {
          "base_uri": "https://localhost:8080/"
        },
        "id": "_2GZgwmqGg_u",
        "outputId": "822b0252-c693-431c-cbfa-39b4d82117e4"
      },
      "execution_count": 9,
      "outputs": [
        {
          "output_type": "stream",
          "name": "stdout",
          "text": [
            "313/313 - 1s - loss: 0.8703 - accuracy: 0.7153 - 802ms/epoch - 3ms/step\n"
          ]
        },
        {
          "output_type": "execute_result",
          "data": {
            "text/plain": [
              "[0.8703230619430542, 0.7153000235557556]"
            ]
          },
          "metadata": {},
          "execution_count": 9
        }
      ]
    },
    {
      "cell_type": "markdown",
      "source": [
        "## 전이학습 (Transfer Learning)\n"
      ],
      "metadata": {
        "id": "B94pA-ImrmDs"
      }
    },
    {
      "cell_type": "markdown",
      "source": [
        "논문 등 여러 학술자료를 검색할 수 있는 [구글 스칼라(Google Scholar)](https://scholar.google.com/)로 가면 다음과 같은 말을 볼 수 있습니다."
      ],
      "metadata": {
        "id": "G71z-HBEOgIs"
      }
    },
    {
      "cell_type": "markdown",
      "source": [
        "<img src=\"https://i.imgur.com/0AgnMo3.png\" height=\"250\"/>\n"
      ],
      "metadata": {
        "id": "9U7OX1YdOk_H"
      }
    },
    {
      "cell_type": "markdown",
      "source": [
        "위 페이지에서 볼 수 있는 **\"거인의 어깨에 올라서서 더 넓은 세상을 바라보라\"**는 말은<br/>\n",
        "'이미 잘 정립된 지식을 바탕으로 하여 더 높은 곳에 이를 수 있었다'는 뜻을 가지고 있는데요.\n",
        "\n",
        "이를 신경망 학습에 적용한 것이 바로 **<font color=\"ff6f61\">전이 학습(Transfer Learning)</font>** 입니다.<br/>\n",
        "일반적으로 전이 학습은 대량의 데이터를 학습한 **사전 학습 모델(Pre-trained Model)**의 가중치를 그대로 가져온 뒤<br/>\n",
        "분류기, 즉 완전 연결 신경망 부분만 추가로 설계하여 사용합니다.\n",
        "\n",
        "다음 이미지는 전이 학습을 나타낸 이미지입니다.<br/>\n",
        "사전 학습 모델(위)을 바탕으로 새로운 모델(아래)을 구축합니다."
      ],
      "metadata": {
        "id": "f3ha8RPjPRPP"
      }
    },
    {
      "cell_type": "markdown",
      "source": [
        "<img src=\"https://i.imgur.com/LT79Yw1.jpg\" height=\"400\"/>\n",
        "\n"
      ],
      "metadata": {
        "id": "qfqNMbc6rtbx"
      }
    },
    {
      "cell_type": "markdown",
      "source": [
        "사전 학습 모델의 가중치는 대량의 데이터를 학습하여 얻어지는데요.<br/>\n",
        "여러 데이터의 일반적인 특징을 많이 학습하였기 때문에 어떠한 데이터를 넣더라도 준수한 성능을 보입니다.\n",
        "\n",
        "일반적으로 사전 학습 가중치는 학습되지 않도록 고정(**`freeze`**)한 채로 진행되기 때문에<br/>\n",
        "빠르게 좋은 결과를 얻을 수 있다는 장점이 있습니다."
      ],
      "metadata": {
        "id": "qJUXF_GhZonI"
      }
    },
    {
      "cell_type": "markdown",
      "source": [
        "#### 이미지 분류를 위한 주요 사전 학습 모델(Pre-trained Model)"
      ],
      "metadata": {
        "id": "DjmfDav-sLLK"
      }
    },
    {
      "cell_type": "markdown",
      "source": [
        "다음으로는 이미지 분류에서 사용되는 주요 사전 학습 모델인 **VGG, Inception, ResNet** 에 대해 알아보도록 하겠습니다.\n",
        "\n",
        "> ❗️ ***모델의 구조를 모두 외울 필요는 없습니다. 각 모델의 이름 정도만 알고 넘어가도 충분합니다.***"
      ],
      "metadata": {
        "id": "mlTm66WtbKI5"
      }
    },
    {
      "cell_type": "markdown",
      "source": [
        "- **VGG**"
      ],
      "metadata": {
        "id": "Y2xbXvK9sQ1X"
      }
    },
    {
      "cell_type": "markdown",
      "source": [
        "VGG는 2014년 ILSVRC 에서 우승을 거둔 모델입니다.<br/>\n",
        "층의 개수에 따라 VGG13, VGG16, VGG19 가 있는데요.<br/>\n",
        "모든 VGG는 아래와 같은 3가지 특징을 가지고 있습니다.\n",
        "\n",
        "1. 모든 합성곱 층에서 **3×3 크기의 필터 사용**<br/>\n",
        "    - 대신 층을 깊게 쌓음으로써 기존 7×7, 11×11 크기의 필터 이상의 표현력을 가질 수 있도록 함<br/> (보통 3x3 을 많이 사용하는데 왜 홀수를 사용할까요?)\n",
        "    \n",
        "2. 활성화 함수로 **ReLU를 사용**하고 가중치 초깃값으로는 **He 초기화**을 사용<br/>\n",
        "    - 층을 깊게 쌓았음에도 기울기 소실(Gradient vanishing)문제기 빌셍하지 않음\n",
        "3. 마지막으로 완전 연결 층에 드롭아웃(Dropout)을 사용하여 과적합 방지 및 옵티마이저는 아담(Adam)  사용\n",
        "\n",
        "VGG16의 모델 구조는 아래와 같습니다."
      ],
      "metadata": {
        "id": "AbjSMd8p2CNc"
      }
    },
    {
      "cell_type": "markdown",
      "source": [
        "<img src=\"https://i.imgur.com/2egGDNg.png\" height=\"300\"/>"
      ],
      "metadata": {
        "id": "xIW8vYF1fymb"
      }
    },
    {
      "cell_type": "markdown",
      "source": [
        "- **GoogLeNet(Inception)**"
      ],
      "metadata": {
        "id": "RYsuGOpKojF6"
      }
    },
    {
      "cell_type": "markdown",
      "source": [
        "GoogleNet은 2015년 ILSVRC 에서 우승을 거둔 모델입니다.<br/>\n",
        "GoogLeNet 역시 기본적인 합성곱 신경망이 결합된 형태를 띠고 있는데요.<br/>\n",
        "하지만 세로 방향의 깊이 뿐만 아니라 **가로 방향으로도 넓은 신경망 층**을 가지고 있다는 것이 특징입니다.\n",
        "\n",
        "GoogLeNet의 구조는 아래와 같습니다.\n"
      ],
      "metadata": {
        "id": "pm7eIZmt2DOS"
      }
    },
    {
      "cell_type": "markdown",
      "source": [
        "<img src=\"https://i.imgur.com/zt5ND1y.png\" height=\"300\"/>\n"
      ],
      "metadata": {
        "id": "WYjE1ioxgK6t"
      }
    },
    {
      "cell_type": "markdown",
      "source": [
        "이렇게 가로 방향으로 층을 넓게 구성한 것을 **인셉션(Inception)** 구조라고 하는데요.<br/>\n",
        "위와 같은 인셉션 구조를 활용하여 크기가 다른 필터와 풀링을 병렬적으로 적용한 뒤 결과를 조합합니다."
      ],
      "metadata": {
        "id": "eJaibJAMhr0W"
      }
    },
    {
      "cell_type": "markdown",
      "source": [
        "세희의 노트\n",
        "> 1x1 convolution 이 많이 사용되었는데 이유는? 파라미터를 많이 줄일 수 있기 때문이다. \n",
        "conv 층을 지나면 모든 채널이 하나로 합쳐진다. 그리고 필터 갯수만큼 채널이 생기게 된다. 즉, input shape 이 (3,3,160) 이라면 1x1 의 필터가 n개 있다고 할때 conv층을 지난 output 의 shape 은 (3,3,n) 이 된다. 그랬을 때에 같은 height 과 weight 이라도 채널수가 줄면서 파라미터가 줄어들게 된다."
      ],
      "metadata": {
        "id": "8H1jKpWipm6c"
      }
    },
    {
      "cell_type": "markdown",
      "source": [
        "- **ResNet**"
      ],
      "metadata": {
        "id": "G9EChig7omfE"
      }
    },
    {
      "cell_type": "markdown",
      "source": [
        "ResNet은 2016년 ILSVRC 에서 우승을 거둔 모델입니다.<br/>\n",
        "먼저 ResNet의 구조를 나타낸 이미지를 살펴보겠습니다. (152층)"
      ],
      "metadata": {
        "id": "GfZ4nGbQiX-2"
      }
    },
    {
      "cell_type": "markdown",
      "source": [
        "<img src=\"https://i.imgur.com/DWcwuKl.png\" height=\"400\"/>\n",
        "\n"
      ],
      "metadata": {
        "id": "UCT2mOKNoPs5"
      }
    },
    {
      "cell_type": "markdown",
      "source": [
        "  위 이미지에서 층을 넘어 이어지는 화살표를 볼 수 있는데요.<br/>\n",
        "  이 화살표는 ResNet의 특징인 **Residual Connection(=Skipped Connection)** 입니다.<br/>\n",
        "  Residual Connection를 이미지로 나타내면 아래와 같은데요."
      ],
      "metadata": {
        "id": "x3o0S0PjsT9X"
      }
    },
    {
      "cell_type": "markdown",
      "source": [
        "<img src=\"https://i.imgur.com/xdNL4LC.jpg\" height=\"300\"/>"
      ],
      "metadata": {
        "id": "Pk8Q_4axyZ0n"
      }
    },
    {
      "cell_type": "markdown",
      "source": [
        "층을 거친 데이터의 출력에 거치지 않은 출력을 더해주게 됩니다.<br/>\n",
        "이 방법을 사용하면 역전파 과정에서 미분을 적용하더라도 1 이상의 값으로 보존되기 때문에<br/>\n",
        "층이 깊어짐에 따라 발생하는 기울기 소실(Vanishing Gradient) 문제를 어느정도 해결할 수 있습니다.\n",
        "\n",
        "다음은 이러한 사전 학습 모델을 Keras 코드를 통해 어떻게 적용할 수 있을지에 대해 알아보겠습니다."
      ],
      "metadata": {
        "id": "QEFjHExUyeUE"
      }
    },
    {
      "cell_type": "markdown",
      "source": [
        "보통 50층 까지 사용한다. 이 후에는 bottleneck 이란걸 사용해야함."
      ],
      "metadata": {
        "id": "DloeIPQrqMS6"
      }
    },
    {
      "cell_type": "markdown",
      "source": [
        "#### Example"
      ],
      "metadata": {
        "id": "XxrarPeTxg_2"
      }
    },
    {
      "cell_type": "markdown",
      "source": [
        "일반적인 이미지를 10개의 클래스로 분류하는 데이터셋인 **Cifar10 데이터셋**을 VGG를 통해 분류하는 예제를 풀어보도록 하겠습니다. "
      ],
      "metadata": {
        "id": "HlLsIVB1tNhH"
      }
    },
    {
      "cell_type": "markdown",
      "source": [
        "1. **먼저 필요한 패키지와 라이브러리를 불러옵니다.**"
      ],
      "metadata": {
        "id": "n-XFSj4DtoVU"
      }
    },
    {
      "cell_type": "code",
      "source": [
        "from tensorflow.keras.applications.vgg16 import VGG16\n",
        "from tensorflow.keras.layers import Dense, GlobalAveragePooling2D\n",
        "from tensorflow.keras.models import Sequential\n",
        "from tensorflow.keras.datasets import cifar10\n",
        "\n",
        "from sklearn.model_selection import train_test_split\n",
        "\n",
        "import numpy as np\n",
        "import tensorflow as tf"
      ],
      "metadata": {
        "id": "pvsxOyPuz9sD"
      },
      "execution_count": 10,
      "outputs": []
    },
    {
      "cell_type": "markdown",
      "source": [
        "2. **시드(Seed)를 고정합니다.**"
      ],
      "metadata": {
        "id": "gb8GyrNZtqyt"
      }
    },
    {
      "cell_type": "code",
      "source": [
        "np.random.seed(42)\n",
        "tf.random.set_seed(42)"
      ],
      "metadata": {
        "id": "Su3Kxz-j1SdE"
      },
      "execution_count": 11,
      "outputs": []
    },
    {
      "cell_type": "markdown",
      "source": [
        "3. **데이터셋을 불러온 후 학습 데이터셋(Train Dataset)과 시험 데이터셋(Test Dataset)으로 나누어(Split)주고 픽셀값을 정규화 하여줍니다.**"
      ],
      "metadata": {
        "id": "hIX277tVttyE"
      }
    },
    {
      "cell_type": "code",
      "source": [
        "(X_train, y_train), (X_test, y_test) = cifar10.load_data()"
      ],
      "metadata": {
        "id": "PV-gE1jF1fFc"
      },
      "execution_count": 12,
      "outputs": []
    },
    {
      "cell_type": "code",
      "source": [
        "X_train = X_train.astype('float32') / 255.\n",
        "X_test = X_test.astype('float32') / 255."
      ],
      "metadata": {
        "id": "BwpD7xhu2BOq"
      },
      "execution_count": 13,
      "outputs": []
    },
    {
      "cell_type": "code",
      "source": [
        "X_train, X_val, y_train, y_val = train_test_split(X_train, y_train, test_size=.2)"
      ],
      "metadata": {
        "id": "ufUGQnqq2OnA"
      },
      "execution_count": 14,
      "outputs": []
    },
    {
      "cell_type": "markdown",
      "source": [
        "4. **사전 학습 모델을 불러옵니다.**"
      ],
      "metadata": {
        "id": "ROvPKZcltxei"
      }
    },
    {
      "cell_type": "code",
      "source": [
        "pretrained_model = VGG16(weights='imagenet', include_top=False) #이미지넷 학습한 가중치를 그대로 들고오고, include_top 은 vgg분류할때 사용했던 분류기를 그대로 가지고 올거냐? 해서 false 해주고 필요한 분류기부분을 추가해줌. 특징추출부분만 가져오기!!!!!!"
      ],
      "metadata": {
        "id": "TRj-27RJ0Lh9",
        "colab": {
          "base_uri": "https://localhost:8080/"
        },
        "outputId": "61e23d75-fb91-46fd-a56e-c06978367902"
      },
      "execution_count": 15,
      "outputs": [
        {
          "output_type": "stream",
          "name": "stdout",
          "text": [
            "Downloading data from https://storage.googleapis.com/tensorflow/keras-applications/vgg16/vgg16_weights_tf_dim_ordering_tf_kernels_notop.h5\n",
            "58892288/58889256 [==============================] - 0s 0us/step\n",
            "58900480/58889256 [==============================] - 0s 0us/step\n"
          ]
        }
      ]
    },
    {
      "cell_type": "markdown",
      "source": [
        "5. **사전 학습 모델 위에 완전 연결 신경망을 추가합니다.**\n",
        "\n",
        "    아래에 추가된 **`GlobalAveragePooling2d()`** 층은<br/>\n",
        "    데이터 Shape을 **`(None, None, None, 512)`**에서 **`(None, 512)`**로 변화시켜주는 역할을 합니다."
      ],
      "metadata": {
        "id": "Ikt9_l4tt3Fv"
      }
    },
    {
      "cell_type": "code",
      "source": [
        "model = Sequential()\n",
        "model.add(pretrained_model)\n",
        "model.add(GlobalAveragePooling2D()) #이미지가 2d 라서. flatten 대신에 사용한다. -> mxm 을 1x1 로 바꿔줌 3x3x3 을 1x1x3으로 바꿔줌. (averagepooling 을 채널별로해준다)\n",
        "model.add(Dense(128,activation='relu'))\n",
        "model.add(Dense(10,activation='softmax'))"
      ],
      "metadata": {
        "id": "8tCaq8JI0T5h"
      },
      "execution_count": 16,
      "outputs": []
    },
    {
      "cell_type": "code",
      "source": [
        "model.summary() #none,none,none,512 ->batchsize,height,width,channel(512) 인데 globalaveragepooling 하면서 height 과 weight 이 1로 변한다. 그래서 none,512로 변함.\n",
        "\n"
      ],
      "metadata": {
        "colab": {
          "base_uri": "https://localhost:8080/"
        },
        "id": "dEuLadvP38ad",
        "outputId": "d38af3f1-5e30-4296-91eb-306f71f6fb5f"
      },
      "execution_count": 17,
      "outputs": [
        {
          "output_type": "stream",
          "name": "stdout",
          "text": [
            "Model: \"sequential_1\"\n",
            "_________________________________________________________________\n",
            " Layer (type)                Output Shape              Param #   \n",
            "=================================================================\n",
            " vgg16 (Functional)          (None, None, None, 512)   14714688  \n",
            "                                                                 \n",
            " global_average_pooling2d (G  (None, 512)              0         \n",
            " lobalAveragePooling2D)                                          \n",
            "                                                                 \n",
            " dense_2 (Dense)             (None, 128)               65664     \n",
            "                                                                 \n",
            " dense_3 (Dense)             (None, 10)                1290      \n",
            "                                                                 \n",
            "=================================================================\n",
            "Total params: 14,781,642\n",
            "Trainable params: 14,781,642\n",
            "Non-trainable params: 0\n",
            "_________________________________________________________________\n"
          ]
        }
      ]
    },
    {
      "cell_type": "code",
      "source": [
        "model.compile(optimizer='adam',\n",
        "              loss='sparse_categorical_crossentropy',\n",
        "              metrics=['accuracy'])"
      ],
      "metadata": {
        "id": "7pC6Za0c3_Gn"
      },
      "execution_count": 18,
      "outputs": []
    },
    {
      "cell_type": "code",
      "source": [
        "model.fit(X_train, y_train,\n",
        "          batch_size=128,\n",
        "          validation_data=(X_val, y_val),\n",
        "          epochs=10)"
      ],
      "metadata": {
        "colab": {
          "base_uri": "https://localhost:8080/"
        },
        "id": "zlDI_OGK4I8h",
        "outputId": "10df4056-068d-4136-fa53-da3f6b55f7b2"
      },
      "execution_count": 19,
      "outputs": [
        {
          "output_type": "stream",
          "name": "stdout",
          "text": [
            "Epoch 1/10\n",
            "313/313 [==============================] - 23s 64ms/step - loss: 1.9141 - accuracy: 0.2357 - val_loss: 1.7080 - val_accuracy: 0.3077\n",
            "Epoch 2/10\n",
            "313/313 [==============================] - 18s 59ms/step - loss: 1.4108 - accuracy: 0.4514 - val_loss: 1.2190 - val_accuracy: 0.5317\n",
            "Epoch 3/10\n",
            "313/313 [==============================] - 18s 59ms/step - loss: 1.0752 - accuracy: 0.6096 - val_loss: 0.9632 - val_accuracy: 0.6549\n",
            "Epoch 4/10\n",
            "313/313 [==============================] - 19s 60ms/step - loss: 0.8371 - accuracy: 0.7070 - val_loss: 0.8636 - val_accuracy: 0.7051\n",
            "Epoch 5/10\n",
            "313/313 [==============================] - 19s 60ms/step - loss: 0.6917 - accuracy: 0.7628 - val_loss: 0.7545 - val_accuracy: 0.7502\n",
            "Epoch 6/10\n",
            "313/313 [==============================] - 19s 59ms/step - loss: 0.5748 - accuracy: 0.8081 - val_loss: 0.7165 - val_accuracy: 0.7634\n",
            "Epoch 7/10\n",
            "313/313 [==============================] - 19s 59ms/step - loss: 0.4884 - accuracy: 0.8367 - val_loss: 0.8002 - val_accuracy: 0.7485\n",
            "Epoch 8/10\n",
            "313/313 [==============================] - 19s 60ms/step - loss: 0.4298 - accuracy: 0.8578 - val_loss: 0.6774 - val_accuracy: 0.7863\n",
            "Epoch 9/10\n",
            "313/313 [==============================] - 19s 60ms/step - loss: 0.3566 - accuracy: 0.8822 - val_loss: 0.7730 - val_accuracy: 0.7723\n",
            "Epoch 10/10\n",
            "313/313 [==============================] - 19s 60ms/step - loss: 0.2999 - accuracy: 0.9006 - val_loss: 0.7359 - val_accuracy: 0.7879\n"
          ]
        },
        {
          "output_type": "execute_result",
          "data": {
            "text/plain": [
              "<keras.callbacks.History at 0x7f3150271810>"
            ]
          },
          "metadata": {},
          "execution_count": 19
        }
      ]
    },
    {
      "cell_type": "markdown",
      "source": [
        "5. **학습한 신경망 모델을 사용하여 평가합니다.**"
      ],
      "metadata": {
        "id": "F5FpsKxzw5Z_"
      }
    },
    {
      "cell_type": "code",
      "source": [
        "model.evaluate(X_test, y_test, verbose=2)"
      ],
      "metadata": {
        "colab": {
          "base_uri": "https://localhost:8080/"
        },
        "id": "ga3CxGi_4SRt",
        "outputId": "7f88bd24-3153-4fb4-a936-28bc850c1020"
      },
      "execution_count": 20,
      "outputs": [
        {
          "output_type": "stream",
          "name": "stdout",
          "text": [
            "313/313 - 3s - loss: 0.7801 - accuracy: 0.7825 - 3s/epoch - 10ms/step\n"
          ]
        },
        {
          "output_type": "execute_result",
          "data": {
            "text/plain": [
              "[0.7801482677459717, 0.7825000286102295]"
            ]
          },
          "metadata": {},
          "execution_count": 20
        }
      ]
    },
    {
      "cell_type": "markdown",
      "source": [
        "## 이미지 증강(Image Augmentation)"
      ],
      "metadata": {
        "id": "tNM8WlYhscY-"
      }
    },
    {
      "cell_type": "markdown",
      "source": [
        "기본적인 **이미지 증강(Image Augmentation)** 방법에 대해서 알아보겠습니다.<br/>\n",
        "이미지 증강이란 회전, 반전, 자르기, 밝기 혹은 채도 변화 등을 통해 데이터를 늘리는 방법인데요.\n",
        "\n",
        "아마 여러분들은 대부분 아래 사진에 있는 동물이 무엇인지 판단하실 수 있을 겁니다."
      ],
      "metadata": {
        "id": "9HWFMQh-qYKy"
      }
    },
    {
      "cell_type": "markdown",
      "source": [
        "<img src=\"https://i.imgur.com/7nP1Kv2.jpg\" height=\"300\"/>\n",
        "<img src=\"https://i.imgur.com/VQIdbd3.jpg\" height=\"300\"/>\n"
      ],
      "metadata": {
        "id": "-KEgCqSo7DOt"
      }
    },
    {
      "cell_type": "markdown",
      "source": [
        "하지만 우리가 가지고 있는 데이터셋은 대부분 정면의 고양이 사진을 가지고 학습하게 되는데요.<br/>\n",
        "그렇기 때문에 우리의 모델은 위와 같이 판단해야 하는 물체가 기울어져 있거나 뒤집어진 이미지에서는 잘 예측하지 못한다는 취약점을 가지고 있습니다.\n",
        "\n",
        "사람처럼 **일반화(Generalization)**가 잘 되는 모델을 만들기 위해서 학습 데이터셋에 있는 이미지를 일부러 회전하거나 기울여서 나타내는데요.<br/>\n",
        "이러한 방법을 **<font color=\"ff6f61\">이미지 데이터 증강(Image Data Augmentation)</font>** 이라고 합니다. \n",
        "\n",
        "이미지 증강을 사용하면 이미지를 랜덤하게 회전하거나, 늘리고 줄이거나, 확대하거나, 좌우 반전한 이미지 등을 훈련 데이터셋으로 사용할 수 있습니다.<br/>\n",
        "이를 통해 더욱 **강건(Robust)**한 모델을 만들 수 있습니다.\n",
        "\n",
        "> ❗️ ***이미지 증강을 위한 코드가 궁금하다면 Reference 자료를 통해 알아보도록 합시다***"
      ],
      "metadata": {
        "id": "fTcWMNMjHX4s"
      }
    }
  ]
}