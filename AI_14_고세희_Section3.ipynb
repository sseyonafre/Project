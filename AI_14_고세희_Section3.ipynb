{
  "nbformat": 4,
  "nbformat_minor": 0,
  "metadata": {
    "colab": {
      "name": "Untitled6.ipynb",
      "provenance": [],
      "collapsed_sections": [],
      "authorship_tag": "ABX9TyPv6KyL58outAx5SjEMVv2q",
      "include_colab_link": true
    },
    "kernelspec": {
      "name": "python3",
      "display_name": "Python 3"
    },
    "language_info": {
      "name": "python"
    }
  },
  "cells": [
    {
      "cell_type": "markdown",
      "metadata": {
        "id": "view-in-github",
        "colab_type": "text"
      },
      "source": [
        "<a href=\"https://colab.research.google.com/github/sseyonafre/Project/blob/main/%08AI_14_%EA%B3%A0%EC%84%B8%ED%9D%AC_Section3.ipynb\" target=\"_parent\"><img src=\"https://colab.research.google.com/assets/colab-badge.svg\" alt=\"Open In Colab\"/></a>"
      ]
    },
    {
      "cell_type": "code",
      "execution_count": 114,
      "metadata": {
        "colab": {
          "resources": {
            "http://localhost:8080/nbextensions/google.colab/files.js": {
              "data": "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",
              "ok": true,
              "headers": [
                [
                  "content-type",
                  "application/javascript"
                ]
              ],
              "status": 200,
              "status_text": ""
            }
          },
          "base_uri": "https://localhost:8080/",
          "height": 74
        },
        "id": "fG68oFsmyfmW",
        "outputId": "1d56b411-15d6-4a56-c041-9610c27ba4d8"
      },
      "outputs": [
        {
          "output_type": "display_data",
          "data": {
            "text/plain": [
              "<IPython.core.display.HTML object>"
            ],
            "text/html": [
              "\n",
              "     <input type=\"file\" id=\"files-4237a1af-1821-4940-8287-93773cea1aaa\" name=\"files[]\" multiple disabled\n",
              "        style=\"border:none\" />\n",
              "     <output id=\"result-4237a1af-1821-4940-8287-93773cea1aaa\">\n",
              "      Upload widget is only available when the cell has been executed in the\n",
              "      current browser session. Please rerun this cell to enable.\n",
              "      </output>\n",
              "      <script src=\"/nbextensions/google.colab/files.js\"></script> "
            ]
          },
          "metadata": {}
        },
        {
          "output_type": "stream",
          "name": "stdout",
          "text": [
            "Saving user.csv to user (1).csv\n"
          ]
        }
      ],
      "source": [
        "from google.colab import files\n",
        "uploaded = files.upload()\n"
      ]
    },
    {
      "cell_type": "code",
      "source": [
        "df = pd.read_csv('user.csv',index_col = 0) "
      ],
      "metadata": {
        "id": "qsBNfpZJZDOK"
      },
      "execution_count": 116,
      "outputs": []
    },
    {
      "cell_type": "code",
      "source": [
        "df.info()"
      ],
      "metadata": {
        "colab": {
          "base_uri": "https://localhost:8080/"
        },
        "id": "Hxr1usHsR9l4",
        "outputId": "8fd7fe38-fabc-4e1e-8f5c-fc293523f2f6"
      },
      "execution_count": 117,
      "outputs": [
        {
          "output_type": "stream",
          "name": "stdout",
          "text": [
            "<class 'pandas.core.frame.DataFrame'>\n",
            "Int64Index: 15318 entries, 0 to 15317\n",
            "Data columns (total 19 columns):\n",
            " #   Column            Non-Null Count  Dtype  \n",
            "---  ------            --------------  -----  \n",
            " 0   id                15318 non-null  int64  \n",
            " 1   ageClass          15318 non-null  int64  \n",
            " 2   ageDegree         15318 non-null  int64  \n",
            " 3   ageGbn            15318 non-null  object \n",
            " 4   certGbn           15318 non-null  object \n",
            " 5   height            15318 non-null  float64\n",
            " 6   weight            15318 non-null  float64\n",
            " 7   crunch            15318 non-null  object \n",
            " 8   jump              15318 non-null  object \n",
            " 9   trunkFlexion      15318 non-null  object \n",
            " 10  IllinoisAgility   15318 non-null  object \n",
            " 11  BMI               15318 non-null  float64\n",
            " 12  situp             15318 non-null  object \n",
            " 13  standinglongjump  15318 non-null  object \n",
            " 14  standsit          15318 non-null  object \n",
            " 15  twominwalk        15318 non-null  object \n",
            " 16  threeMwalk        15318 non-null  object \n",
            " 17  exercise          15318 non-null  object \n",
            " 18  testYm            15318 non-null  int64  \n",
            "dtypes: float64(3), int64(4), object(12)\n",
            "memory usage: 2.3+ MB\n"
          ]
        }
      ]
    },
    {
      "cell_type": "code",
      "source": [
        "df.ageGbn.unique()\n"
      ],
      "metadata": {
        "colab": {
          "base_uri": "https://localhost:8080/"
        },
        "id": "_fMP7Azl2Rz_",
        "outputId": "7ad4fb0d-fb1c-43d6-8a86-a736aa7aca01"
      },
      "execution_count": 119,
      "outputs": [
        {
          "output_type": "execute_result",
          "data": {
            "text/plain": [
              "array(['노인', '성인', '유소년', '청소년'], dtype=object)"
            ]
          },
          "metadata": {},
          "execution_count": 119
        }
      ]
    },
    {
      "cell_type": "code",
      "source": [
        "df1 = df.query(\"ageGbn=='노인'\")"
      ],
      "metadata": {
        "id": "n3XKMm-c6D2y"
      },
      "execution_count": 120,
      "outputs": []
    },
    {
      "cell_type": "code",
      "source": [
        "df2 = df.query(\"ageGbn=='성인'\")"
      ],
      "metadata": {
        "id": "WLJ8ADuQP7nW"
      },
      "execution_count": 121,
      "outputs": []
    },
    {
      "cell_type": "code",
      "source": [
        "df3 = df.query(\"ageGbn=='유소년'\")"
      ],
      "metadata": {
        "id": "Y5oVu0qqP-Mz"
      },
      "execution_count": 122,
      "outputs": []
    },
    {
      "cell_type": "code",
      "source": [
        "df4 = df.query(\"ageGbn=='청소년'\")"
      ],
      "metadata": {
        "id": "Pl8dUZt1QEaA"
      },
      "execution_count": 123,
      "outputs": []
    },
    {
      "cell_type": "code",
      "source": [
        "df.replace('-','',inplace=True)"
      ],
      "metadata": {
        "id": "fCqzAxZ87Bu3"
      },
      "execution_count": 124,
      "outputs": []
    },
    {
      "cell_type": "code",
      "source": [
        "df.certGbn.replace({'참가증':'4','1등급':'1','2등급':'2','3등급':'3'},inplace=True)"
      ],
      "metadata": {
        "id": "SlM8tQd0c6HK"
      },
      "execution_count": 125,
      "outputs": []
    },
    {
      "cell_type": "code",
      "source": [
        "df1.info() #노인 554명"
      ],
      "metadata": {
        "colab": {
          "base_uri": "https://localhost:8080/"
        },
        "id": "iVxHPirTOlhQ",
        "outputId": "06476bd8-7762-4e1f-99fa-68e411895f13"
      },
      "execution_count": 126,
      "outputs": [
        {
          "output_type": "stream",
          "name": "stdout",
          "text": [
            "<class 'pandas.core.frame.DataFrame'>\n",
            "Int64Index: 554 entries, 0 to 15138\n",
            "Data columns (total 19 columns):\n",
            " #   Column            Non-Null Count  Dtype  \n",
            "---  ------            --------------  -----  \n",
            " 0   id                554 non-null    int64  \n",
            " 1   ageClass          554 non-null    int64  \n",
            " 2   ageDegree         554 non-null    int64  \n",
            " 3   ageGbn            554 non-null    object \n",
            " 4   certGbn           554 non-null    object \n",
            " 5   height            554 non-null    float64\n",
            " 6   weight            554 non-null    float64\n",
            " 7   crunch            554 non-null    object \n",
            " 8   jump              554 non-null    object \n",
            " 9   trunkFlexion      554 non-null    object \n",
            " 10  IllinoisAgility   554 non-null    object \n",
            " 11  BMI               554 non-null    float64\n",
            " 12  situp             554 non-null    object \n",
            " 13  standinglongjump  554 non-null    object \n",
            " 14  standsit          554 non-null    object \n",
            " 15  twominwalk        554 non-null    object \n",
            " 16  threeMwalk        554 non-null    object \n",
            " 17  exercise          554 non-null    object \n",
            " 18  testYm            554 non-null    int64  \n",
            "dtypes: float64(3), int64(4), object(12)\n",
            "memory usage: 86.6+ KB\n"
          ]
        }
      ]
    },
    {
      "cell_type": "code",
      "source": [
        "df1.drop(columns=['crunch','jump','IllinoisAgility','situp','standinglongjump'],inplace=True)"
      ],
      "metadata": {
        "colab": {
          "base_uri": "https://localhost:8080/"
        },
        "id": "ScjtzBlOSOVW",
        "outputId": "cdd240d7-a969-43cb-85e5-62e5d20d354b"
      },
      "execution_count": 127,
      "outputs": [
        {
          "output_type": "stream",
          "name": "stderr",
          "text": [
            "/usr/local/lib/python3.7/dist-packages/pandas/core/frame.py:4913: SettingWithCopyWarning: \n",
            "A value is trying to be set on a copy of a slice from a DataFrame\n",
            "\n",
            "See the caveats in the documentation: https://pandas.pydata.org/pandas-docs/stable/user_guide/indexing.html#returning-a-view-versus-a-copy\n",
            "  errors=errors,\n"
          ]
        }
      ]
    },
    {
      "cell_type": "code",
      "source": [
        "df1.head()"
      ],
      "metadata": {
        "colab": {
          "base_uri": "https://localhost:8080/",
          "height": 250
        },
        "id": "aQ5QNW0aSJrC",
        "outputId": "fcdb975e-e582-4e59-e691-c5600a774786"
      },
      "execution_count": 128,
      "outputs": [
        {
          "output_type": "execute_result",
          "data": {
            "text/plain": [
              "      id  ageClass  ageDegree ageGbn certGbn  height  weight trunkFlexion  \\\n",
              "0      1        60         66     노인     2등급   163.6    64.1         12.0   \n",
              "1      2        60         68     노인     참가증   168.6    72.4          1.5   \n",
              "56    57        60         65     노인     참가증   167.8    57.6         17.1   \n",
              "153  154        60         65     노인     2등급   168.8    57.4         12.8   \n",
              "430  431        70         72     노인     참가증   153.8    48.6         16.2   \n",
              "\n",
              "      BMI standsit twominwalk threeMwalk  \\\n",
              "0    23.9       23        115      5.062   \n",
              "1    25.5       29        112       5.48   \n",
              "56   20.5       22         96       5.63   \n",
              "153  20.1       29        120          4   \n",
              "430  20.5       12         93       8.69   \n",
              "\n",
              "                                              exercise  testYm  \n",
              "0    준비운동:누워서 전신 뻗기,어깨 뒤쪽 스트레칭,아래 팔 스트레칭,엉덩이 스트레칭,대...  201912  \n",
              "1    본운동:엉덩이 스트레칭,넙다리 뒤쪽 스트레칭,넙다리 앞쪽 스트레칭,넙다리 안쪽 스트...  201912  \n",
              "56                       준비운동:고정식 트레드밀에서 걷기,스텝박스 오르내리기  202110  \n",
              "153                                  준비운동:달리기,실내 자전거타기  202110  \n",
              "430  준비운동:등/어깨 뒤쪽 스트레칭,어깨 뒤쪽 스트레칭,목 스트레칭 / 본운동:벽에서 ...  202112  "
            ],
            "text/html": [
              "\n",
              "  <div id=\"df-62c37d38-ab1a-4501-8633-f91bcf76759d\">\n",
              "    <div class=\"colab-df-container\">\n",
              "      <div>\n",
              "<style scoped>\n",
              "    .dataframe tbody tr th:only-of-type {\n",
              "        vertical-align: middle;\n",
              "    }\n",
              "\n",
              "    .dataframe tbody tr th {\n",
              "        vertical-align: top;\n",
              "    }\n",
              "\n",
              "    .dataframe thead th {\n",
              "        text-align: right;\n",
              "    }\n",
              "</style>\n",
              "<table border=\"1\" class=\"dataframe\">\n",
              "  <thead>\n",
              "    <tr style=\"text-align: right;\">\n",
              "      <th></th>\n",
              "      <th>id</th>\n",
              "      <th>ageClass</th>\n",
              "      <th>ageDegree</th>\n",
              "      <th>ageGbn</th>\n",
              "      <th>certGbn</th>\n",
              "      <th>height</th>\n",
              "      <th>weight</th>\n",
              "      <th>trunkFlexion</th>\n",
              "      <th>BMI</th>\n",
              "      <th>standsit</th>\n",
              "      <th>twominwalk</th>\n",
              "      <th>threeMwalk</th>\n",
              "      <th>exercise</th>\n",
              "      <th>testYm</th>\n",
              "    </tr>\n",
              "  </thead>\n",
              "  <tbody>\n",
              "    <tr>\n",
              "      <th>0</th>\n",
              "      <td>1</td>\n",
              "      <td>60</td>\n",
              "      <td>66</td>\n",
              "      <td>노인</td>\n",
              "      <td>2등급</td>\n",
              "      <td>163.6</td>\n",
              "      <td>64.1</td>\n",
              "      <td>12.0</td>\n",
              "      <td>23.9</td>\n",
              "      <td>23</td>\n",
              "      <td>115</td>\n",
              "      <td>5.062</td>\n",
              "      <td>준비운동:누워서 전신 뻗기,어깨 뒤쪽 스트레칭,아래 팔 스트레칭,엉덩이 스트레칭,대...</td>\n",
              "      <td>201912</td>\n",
              "    </tr>\n",
              "    <tr>\n",
              "      <th>1</th>\n",
              "      <td>2</td>\n",
              "      <td>60</td>\n",
              "      <td>68</td>\n",
              "      <td>노인</td>\n",
              "      <td>참가증</td>\n",
              "      <td>168.6</td>\n",
              "      <td>72.4</td>\n",
              "      <td>1.5</td>\n",
              "      <td>25.5</td>\n",
              "      <td>29</td>\n",
              "      <td>112</td>\n",
              "      <td>5.48</td>\n",
              "      <td>본운동:엉덩이 스트레칭,넙다리 뒤쪽 스트레칭,넙다리 앞쪽 스트레칭,넙다리 안쪽 스트...</td>\n",
              "      <td>201912</td>\n",
              "    </tr>\n",
              "    <tr>\n",
              "      <th>56</th>\n",
              "      <td>57</td>\n",
              "      <td>60</td>\n",
              "      <td>65</td>\n",
              "      <td>노인</td>\n",
              "      <td>참가증</td>\n",
              "      <td>167.8</td>\n",
              "      <td>57.6</td>\n",
              "      <td>17.1</td>\n",
              "      <td>20.5</td>\n",
              "      <td>22</td>\n",
              "      <td>96</td>\n",
              "      <td>5.63</td>\n",
              "      <td>준비운동:고정식 트레드밀에서 걷기,스텝박스 오르내리기</td>\n",
              "      <td>202110</td>\n",
              "    </tr>\n",
              "    <tr>\n",
              "      <th>153</th>\n",
              "      <td>154</td>\n",
              "      <td>60</td>\n",
              "      <td>65</td>\n",
              "      <td>노인</td>\n",
              "      <td>2등급</td>\n",
              "      <td>168.8</td>\n",
              "      <td>57.4</td>\n",
              "      <td>12.8</td>\n",
              "      <td>20.1</td>\n",
              "      <td>29</td>\n",
              "      <td>120</td>\n",
              "      <td>4</td>\n",
              "      <td>준비운동:달리기,실내 자전거타기</td>\n",
              "      <td>202110</td>\n",
              "    </tr>\n",
              "    <tr>\n",
              "      <th>430</th>\n",
              "      <td>431</td>\n",
              "      <td>70</td>\n",
              "      <td>72</td>\n",
              "      <td>노인</td>\n",
              "      <td>참가증</td>\n",
              "      <td>153.8</td>\n",
              "      <td>48.6</td>\n",
              "      <td>16.2</td>\n",
              "      <td>20.5</td>\n",
              "      <td>12</td>\n",
              "      <td>93</td>\n",
              "      <td>8.69</td>\n",
              "      <td>준비운동:등/어깨 뒤쪽 스트레칭,어깨 뒤쪽 스트레칭,목 스트레칭 / 본운동:벽에서 ...</td>\n",
              "      <td>202112</td>\n",
              "    </tr>\n",
              "  </tbody>\n",
              "</table>\n",
              "</div>\n",
              "      <button class=\"colab-df-convert\" onclick=\"convertToInteractive('df-62c37d38-ab1a-4501-8633-f91bcf76759d')\"\n",
              "              title=\"Convert this dataframe to an interactive table.\"\n",
              "              style=\"display:none;\">\n",
              "        \n",
              "  <svg xmlns=\"http://www.w3.org/2000/svg\" height=\"24px\"viewBox=\"0 0 24 24\"\n",
              "       width=\"24px\">\n",
              "    <path d=\"M0 0h24v24H0V0z\" fill=\"none\"/>\n",
              "    <path d=\"M18.56 5.44l.94 2.06.94-2.06 2.06-.94-2.06-.94-.94-2.06-.94 2.06-2.06.94zm-11 1L8.5 8.5l.94-2.06 2.06-.94-2.06-.94L8.5 2.5l-.94 2.06-2.06.94zm10 10l.94 2.06.94-2.06 2.06-.94-2.06-.94-.94-2.06-.94 2.06-2.06.94z\"/><path d=\"M17.41 7.96l-1.37-1.37c-.4-.4-.92-.59-1.43-.59-.52 0-1.04.2-1.43.59L10.3 9.45l-7.72 7.72c-.78.78-.78 2.05 0 2.83L4 21.41c.39.39.9.59 1.41.59.51 0 1.02-.2 1.41-.59l7.78-7.78 2.81-2.81c.8-.78.8-2.07 0-2.86zM5.41 20L4 18.59l7.72-7.72 1.47 1.35L5.41 20z\"/>\n",
              "  </svg>\n",
              "      </button>\n",
              "      \n",
              "  <style>\n",
              "    .colab-df-container {\n",
              "      display:flex;\n",
              "      flex-wrap:wrap;\n",
              "      gap: 12px;\n",
              "    }\n",
              "\n",
              "    .colab-df-convert {\n",
              "      background-color: #E8F0FE;\n",
              "      border: none;\n",
              "      border-radius: 50%;\n",
              "      cursor: pointer;\n",
              "      display: none;\n",
              "      fill: #1967D2;\n",
              "      height: 32px;\n",
              "      padding: 0 0 0 0;\n",
              "      width: 32px;\n",
              "    }\n",
              "\n",
              "    .colab-df-convert:hover {\n",
              "      background-color: #E2EBFA;\n",
              "      box-shadow: 0px 1px 2px rgba(60, 64, 67, 0.3), 0px 1px 3px 1px rgba(60, 64, 67, 0.15);\n",
              "      fill: #174EA6;\n",
              "    }\n",
              "\n",
              "    [theme=dark] .colab-df-convert {\n",
              "      background-color: #3B4455;\n",
              "      fill: #D2E3FC;\n",
              "    }\n",
              "\n",
              "    [theme=dark] .colab-df-convert:hover {\n",
              "      background-color: #434B5C;\n",
              "      box-shadow: 0px 1px 3px 1px rgba(0, 0, 0, 0.15);\n",
              "      filter: drop-shadow(0px 1px 2px rgba(0, 0, 0, 0.3));\n",
              "      fill: #FFFFFF;\n",
              "    }\n",
              "  </style>\n",
              "\n",
              "      <script>\n",
              "        const buttonEl =\n",
              "          document.querySelector('#df-62c37d38-ab1a-4501-8633-f91bcf76759d button.colab-df-convert');\n",
              "        buttonEl.style.display =\n",
              "          google.colab.kernel.accessAllowed ? 'block' : 'none';\n",
              "\n",
              "        async function convertToInteractive(key) {\n",
              "          const element = document.querySelector('#df-62c37d38-ab1a-4501-8633-f91bcf76759d');\n",
              "          const dataTable =\n",
              "            await google.colab.kernel.invokeFunction('convertToInteractive',\n",
              "                                                     [key], {});\n",
              "          if (!dataTable) return;\n",
              "\n",
              "          const docLinkHtml = 'Like what you see? Visit the ' +\n",
              "            '<a target=\"_blank\" href=https://colab.research.google.com/notebooks/data_table.ipynb>data table notebook</a>'\n",
              "            + ' to learn more about interactive tables.';\n",
              "          element.innerHTML = '';\n",
              "          dataTable['output_type'] = 'display_data';\n",
              "          await google.colab.output.renderOutput(dataTable, element);\n",
              "          const docLink = document.createElement('div');\n",
              "          docLink.innerHTML = docLinkHtml;\n",
              "          element.appendChild(docLink);\n",
              "        }\n",
              "      </script>\n",
              "    </div>\n",
              "  </div>\n",
              "  "
            ]
          },
          "metadata": {},
          "execution_count": 128
        }
      ]
    },
    {
      "cell_type": "code",
      "source": [
        "df2.drop(columns=['crunch','jump','IllinoisAgility','standsit','twominwalk','threeMwalk'],inplace=True)"
      ],
      "metadata": {
        "colab": {
          "base_uri": "https://localhost:8080/"
        },
        "id": "QI4QPeTLSnjO",
        "outputId": "0dabb990-4b16-4d41-dccd-f61c8f60758d"
      },
      "execution_count": 129,
      "outputs": [
        {
          "output_type": "stream",
          "name": "stderr",
          "text": [
            "/usr/local/lib/python3.7/dist-packages/pandas/core/frame.py:4913: SettingWithCopyWarning: \n",
            "A value is trying to be set on a copy of a slice from a DataFrame\n",
            "\n",
            "See the caveats in the documentation: https://pandas.pydata.org/pandas-docs/stable/user_guide/indexing.html#returning-a-view-versus-a-copy\n",
            "  errors=errors,\n"
          ]
        }
      ]
    },
    {
      "cell_type": "code",
      "source": [
        "df2.head()"
      ],
      "metadata": {
        "colab": {
          "base_uri": "https://localhost:8080/",
          "height": 206
        },
        "id": "S7bWyrzaSjMl",
        "outputId": "e358fba8-b5e9-4b67-9dc8-54b3cbefb178"
      },
      "execution_count": 130,
      "outputs": [
        {
          "output_type": "execute_result",
          "data": {
            "text/plain": [
              "   id  ageClass  ageDegree ageGbn certGbn  height  weight trunkFlexion   BMI  \\\n",
              "2   3        20         25     성인     3등급   177.8    85.7          7.5  27.1   \n",
              "3   4        30         31     성인     참가증   174.3    86.9          9.9  28.6   \n",
              "4   5        20         28     성인     참가증   175.2    81.1         11.2  26.4   \n",
              "5   6        20         23     성인     참가증   181.7    79.4          0.2  24.0   \n",
              "6   7        30         31     성인     참가증   174.3    86.9            -  28.6   \n",
              "\n",
              "  situp standinglongjump                                           exercise  \\\n",
              "2    39              229  준비운동:상지 루틴 스트레칭,하지 루틴 스트레칭1 / 본운동:버피운동,무릎 높여 제...   \n",
              "3    41              223  준비운동:상지 루틴 스트레칭,하지 루틴 스트레칭1 / 본운동:버피운동,무릎 높여 제...   \n",
              "4    56              217  준비운동:상지 루틴 스트레칭,하지 루틴 스트레칭1 / 본운동:버피운동,무릎 높여 제...   \n",
              "5    41              231  준비운동:상지 루틴 스트레칭,하지 루틴 스트레칭1 / 본운동:버피운동,무릎 높여 제...   \n",
              "6     -                -  준비운동:상지 루틴 스트레칭,하지 루틴 스트레칭1 / 본운동:버피운동,무릎 높여 제...   \n",
              "\n",
              "   testYm  \n",
              "2  202012  \n",
              "3  202012  \n",
              "4  202012  \n",
              "5  202012  \n",
              "6  202012  "
            ],
            "text/html": [
              "\n",
              "  <div id=\"df-f200174e-6bac-4315-9a33-de205bbdad54\">\n",
              "    <div class=\"colab-df-container\">\n",
              "      <div>\n",
              "<style scoped>\n",
              "    .dataframe tbody tr th:only-of-type {\n",
              "        vertical-align: middle;\n",
              "    }\n",
              "\n",
              "    .dataframe tbody tr th {\n",
              "        vertical-align: top;\n",
              "    }\n",
              "\n",
              "    .dataframe thead th {\n",
              "        text-align: right;\n",
              "    }\n",
              "</style>\n",
              "<table border=\"1\" class=\"dataframe\">\n",
              "  <thead>\n",
              "    <tr style=\"text-align: right;\">\n",
              "      <th></th>\n",
              "      <th>id</th>\n",
              "      <th>ageClass</th>\n",
              "      <th>ageDegree</th>\n",
              "      <th>ageGbn</th>\n",
              "      <th>certGbn</th>\n",
              "      <th>height</th>\n",
              "      <th>weight</th>\n",
              "      <th>trunkFlexion</th>\n",
              "      <th>BMI</th>\n",
              "      <th>situp</th>\n",
              "      <th>standinglongjump</th>\n",
              "      <th>exercise</th>\n",
              "      <th>testYm</th>\n",
              "    </tr>\n",
              "  </thead>\n",
              "  <tbody>\n",
              "    <tr>\n",
              "      <th>2</th>\n",
              "      <td>3</td>\n",
              "      <td>20</td>\n",
              "      <td>25</td>\n",
              "      <td>성인</td>\n",
              "      <td>3등급</td>\n",
              "      <td>177.8</td>\n",
              "      <td>85.7</td>\n",
              "      <td>7.5</td>\n",
              "      <td>27.1</td>\n",
              "      <td>39</td>\n",
              "      <td>229</td>\n",
              "      <td>준비운동:상지 루틴 스트레칭,하지 루틴 스트레칭1 / 본운동:버피운동,무릎 높여 제...</td>\n",
              "      <td>202012</td>\n",
              "    </tr>\n",
              "    <tr>\n",
              "      <th>3</th>\n",
              "      <td>4</td>\n",
              "      <td>30</td>\n",
              "      <td>31</td>\n",
              "      <td>성인</td>\n",
              "      <td>참가증</td>\n",
              "      <td>174.3</td>\n",
              "      <td>86.9</td>\n",
              "      <td>9.9</td>\n",
              "      <td>28.6</td>\n",
              "      <td>41</td>\n",
              "      <td>223</td>\n",
              "      <td>준비운동:상지 루틴 스트레칭,하지 루틴 스트레칭1 / 본운동:버피운동,무릎 높여 제...</td>\n",
              "      <td>202012</td>\n",
              "    </tr>\n",
              "    <tr>\n",
              "      <th>4</th>\n",
              "      <td>5</td>\n",
              "      <td>20</td>\n",
              "      <td>28</td>\n",
              "      <td>성인</td>\n",
              "      <td>참가증</td>\n",
              "      <td>175.2</td>\n",
              "      <td>81.1</td>\n",
              "      <td>11.2</td>\n",
              "      <td>26.4</td>\n",
              "      <td>56</td>\n",
              "      <td>217</td>\n",
              "      <td>준비운동:상지 루틴 스트레칭,하지 루틴 스트레칭1 / 본운동:버피운동,무릎 높여 제...</td>\n",
              "      <td>202012</td>\n",
              "    </tr>\n",
              "    <tr>\n",
              "      <th>5</th>\n",
              "      <td>6</td>\n",
              "      <td>20</td>\n",
              "      <td>23</td>\n",
              "      <td>성인</td>\n",
              "      <td>참가증</td>\n",
              "      <td>181.7</td>\n",
              "      <td>79.4</td>\n",
              "      <td>0.2</td>\n",
              "      <td>24.0</td>\n",
              "      <td>41</td>\n",
              "      <td>231</td>\n",
              "      <td>준비운동:상지 루틴 스트레칭,하지 루틴 스트레칭1 / 본운동:버피운동,무릎 높여 제...</td>\n",
              "      <td>202012</td>\n",
              "    </tr>\n",
              "    <tr>\n",
              "      <th>6</th>\n",
              "      <td>7</td>\n",
              "      <td>30</td>\n",
              "      <td>31</td>\n",
              "      <td>성인</td>\n",
              "      <td>참가증</td>\n",
              "      <td>174.3</td>\n",
              "      <td>86.9</td>\n",
              "      <td>-</td>\n",
              "      <td>28.6</td>\n",
              "      <td>-</td>\n",
              "      <td>-</td>\n",
              "      <td>준비운동:상지 루틴 스트레칭,하지 루틴 스트레칭1 / 본운동:버피운동,무릎 높여 제...</td>\n",
              "      <td>202012</td>\n",
              "    </tr>\n",
              "  </tbody>\n",
              "</table>\n",
              "</div>\n",
              "      <button class=\"colab-df-convert\" onclick=\"convertToInteractive('df-f200174e-6bac-4315-9a33-de205bbdad54')\"\n",
              "              title=\"Convert this dataframe to an interactive table.\"\n",
              "              style=\"display:none;\">\n",
              "        \n",
              "  <svg xmlns=\"http://www.w3.org/2000/svg\" height=\"24px\"viewBox=\"0 0 24 24\"\n",
              "       width=\"24px\">\n",
              "    <path d=\"M0 0h24v24H0V0z\" fill=\"none\"/>\n",
              "    <path d=\"M18.56 5.44l.94 2.06.94-2.06 2.06-.94-2.06-.94-.94-2.06-.94 2.06-2.06.94zm-11 1L8.5 8.5l.94-2.06 2.06-.94-2.06-.94L8.5 2.5l-.94 2.06-2.06.94zm10 10l.94 2.06.94-2.06 2.06-.94-2.06-.94-.94-2.06-.94 2.06-2.06.94z\"/><path d=\"M17.41 7.96l-1.37-1.37c-.4-.4-.92-.59-1.43-.59-.52 0-1.04.2-1.43.59L10.3 9.45l-7.72 7.72c-.78.78-.78 2.05 0 2.83L4 21.41c.39.39.9.59 1.41.59.51 0 1.02-.2 1.41-.59l7.78-7.78 2.81-2.81c.8-.78.8-2.07 0-2.86zM5.41 20L4 18.59l7.72-7.72 1.47 1.35L5.41 20z\"/>\n",
              "  </svg>\n",
              "      </button>\n",
              "      \n",
              "  <style>\n",
              "    .colab-df-container {\n",
              "      display:flex;\n",
              "      flex-wrap:wrap;\n",
              "      gap: 12px;\n",
              "    }\n",
              "\n",
              "    .colab-df-convert {\n",
              "      background-color: #E8F0FE;\n",
              "      border: none;\n",
              "      border-radius: 50%;\n",
              "      cursor: pointer;\n",
              "      display: none;\n",
              "      fill: #1967D2;\n",
              "      height: 32px;\n",
              "      padding: 0 0 0 0;\n",
              "      width: 32px;\n",
              "    }\n",
              "\n",
              "    .colab-df-convert:hover {\n",
              "      background-color: #E2EBFA;\n",
              "      box-shadow: 0px 1px 2px rgba(60, 64, 67, 0.3), 0px 1px 3px 1px rgba(60, 64, 67, 0.15);\n",
              "      fill: #174EA6;\n",
              "    }\n",
              "\n",
              "    [theme=dark] .colab-df-convert {\n",
              "      background-color: #3B4455;\n",
              "      fill: #D2E3FC;\n",
              "    }\n",
              "\n",
              "    [theme=dark] .colab-df-convert:hover {\n",
              "      background-color: #434B5C;\n",
              "      box-shadow: 0px 1px 3px 1px rgba(0, 0, 0, 0.15);\n",
              "      filter: drop-shadow(0px 1px 2px rgba(0, 0, 0, 0.3));\n",
              "      fill: #FFFFFF;\n",
              "    }\n",
              "  </style>\n",
              "\n",
              "      <script>\n",
              "        const buttonEl =\n",
              "          document.querySelector('#df-f200174e-6bac-4315-9a33-de205bbdad54 button.colab-df-convert');\n",
              "        buttonEl.style.display =\n",
              "          google.colab.kernel.accessAllowed ? 'block' : 'none';\n",
              "\n",
              "        async function convertToInteractive(key) {\n",
              "          const element = document.querySelector('#df-f200174e-6bac-4315-9a33-de205bbdad54');\n",
              "          const dataTable =\n",
              "            await google.colab.kernel.invokeFunction('convertToInteractive',\n",
              "                                                     [key], {});\n",
              "          if (!dataTable) return;\n",
              "\n",
              "          const docLinkHtml = 'Like what you see? Visit the ' +\n",
              "            '<a target=\"_blank\" href=https://colab.research.google.com/notebooks/data_table.ipynb>data table notebook</a>'\n",
              "            + ' to learn more about interactive tables.';\n",
              "          element.innerHTML = '';\n",
              "          dataTable['output_type'] = 'display_data';\n",
              "          await google.colab.output.renderOutput(dataTable, element);\n",
              "          const docLink = document.createElement('div');\n",
              "          docLink.innerHTML = docLinkHtml;\n",
              "          element.appendChild(docLink);\n",
              "        }\n",
              "      </script>\n",
              "    </div>\n",
              "  </div>\n",
              "  "
            ]
          },
          "metadata": {},
          "execution_count": 130
        }
      ]
    },
    {
      "cell_type": "code",
      "source": [
        "df2.info() #성인 3205명"
      ],
      "metadata": {
        "colab": {
          "base_uri": "https://localhost:8080/"
        },
        "id": "Ivv-0IL7QYRD",
        "outputId": "b6498587-8bb3-4b7c-cc26-fc620f19437b"
      },
      "execution_count": 131,
      "outputs": [
        {
          "output_type": "stream",
          "name": "stdout",
          "text": [
            "<class 'pandas.core.frame.DataFrame'>\n",
            "Int64Index: 3205 entries, 2 to 15317\n",
            "Data columns (total 13 columns):\n",
            " #   Column            Non-Null Count  Dtype  \n",
            "---  ------            --------------  -----  \n",
            " 0   id                3205 non-null   int64  \n",
            " 1   ageClass          3205 non-null   int64  \n",
            " 2   ageDegree         3205 non-null   int64  \n",
            " 3   ageGbn            3205 non-null   object \n",
            " 4   certGbn           3205 non-null   object \n",
            " 5   height            3205 non-null   float64\n",
            " 6   weight            3205 non-null   float64\n",
            " 7   trunkFlexion      3205 non-null   object \n",
            " 8   BMI               3205 non-null   float64\n",
            " 9   situp             3205 non-null   object \n",
            " 10  standinglongjump  3205 non-null   object \n",
            " 11  exercise          3205 non-null   object \n",
            " 12  testYm            3205 non-null   int64  \n",
            "dtypes: float64(3), int64(4), object(6)\n",
            "memory usage: 350.5+ KB\n"
          ]
        }
      ]
    },
    {
      "cell_type": "code",
      "source": [
        "df3.drop(columns=['jump','situp','standsit','twominwalk','threeMwalk'],inplace=True)"
      ],
      "metadata": {
        "colab": {
          "base_uri": "https://localhost:8080/"
        },
        "id": "aQcGx6FQS2_0",
        "outputId": "c3c93afb-016a-4637-f02a-bb16a9f8860d"
      },
      "execution_count": 132,
      "outputs": [
        {
          "output_type": "stream",
          "name": "stderr",
          "text": [
            "/usr/local/lib/python3.7/dist-packages/pandas/core/frame.py:4913: SettingWithCopyWarning: \n",
            "A value is trying to be set on a copy of a slice from a DataFrame\n",
            "\n",
            "See the caveats in the documentation: https://pandas.pydata.org/pandas-docs/stable/user_guide/indexing.html#returning-a-view-versus-a-copy\n",
            "  errors=errors,\n"
          ]
        }
      ]
    },
    {
      "cell_type": "code",
      "source": [
        "df3.head()"
      ],
      "metadata": {
        "colab": {
          "base_uri": "https://localhost:8080/",
          "height": 320
        },
        "id": "TwdNKUCCS0TG",
        "outputId": "2bf64f27-5047-4e4b-ac09-f9a13d8ce78b"
      },
      "execution_count": 133,
      "outputs": [
        {
          "output_type": "execute_result",
          "data": {
            "text/plain": [
              "    id  ageClass  ageDegree ageGbn certGbn  height  weight crunch  \\\n",
              "8    9        10         11    유소년     참가증   154.8    36.2     14   \n",
              "9   10        10         11    유소년     참가증   150.0    48.3      1   \n",
              "11  12        10         11    유소년     참가증   146.5    45.0     11   \n",
              "12  13        10         11    유소년     참가증   156.6    70.3      -   \n",
              "13  14        10         11    유소년     참가증   145.7    31.6     18   \n",
              "\n",
              "   trunkFlexion IllinoisAgility   BMI standinglongjump  \\\n",
              "8           8.5               -  15.1              135   \n",
              "9           3.5               -  21.5               73   \n",
              "11         18.0               -  21.0              154   \n",
              "12         -1.0               -  28.7              125   \n",
              "13          7.5               -  14.9              100   \n",
              "\n",
              "                                             exercise  testYm  \n",
              "8                     준비운동:벽패스,십(十)자 드리블,공 양손으로 주고 받기  202110  \n",
              "9   준비운동:윗몸말아올리기,팔굽혀펴기,앉았다 일어서기,반복 옆뛰기,2단 줄넘기,벽잡고 ...  202110  \n",
              "11  준비운동:1단 줄넘기,계단 오르기,왕복달리기,벽패스,십(十)자 드리블,공 양손으로 ...  202110  \n",
              "12  준비운동:윗몸말아올리기,팔굽혀펴기,다리 벌려 옆으로 상체 숙이기,발목 얹고 다리 잡...  202110  \n",
              "13  준비운동:1단 줄넘기,계단 오르기,왕복달리기,반복 옆뛰기,잔발치기,벽패스,십(十)자...  202110  "
            ],
            "text/html": [
              "\n",
              "  <div id=\"df-b6286a80-9ff4-4567-a8b2-1967121fa3b5\">\n",
              "    <div class=\"colab-df-container\">\n",
              "      <div>\n",
              "<style scoped>\n",
              "    .dataframe tbody tr th:only-of-type {\n",
              "        vertical-align: middle;\n",
              "    }\n",
              "\n",
              "    .dataframe tbody tr th {\n",
              "        vertical-align: top;\n",
              "    }\n",
              "\n",
              "    .dataframe thead th {\n",
              "        text-align: right;\n",
              "    }\n",
              "</style>\n",
              "<table border=\"1\" class=\"dataframe\">\n",
              "  <thead>\n",
              "    <tr style=\"text-align: right;\">\n",
              "      <th></th>\n",
              "      <th>id</th>\n",
              "      <th>ageClass</th>\n",
              "      <th>ageDegree</th>\n",
              "      <th>ageGbn</th>\n",
              "      <th>certGbn</th>\n",
              "      <th>height</th>\n",
              "      <th>weight</th>\n",
              "      <th>crunch</th>\n",
              "      <th>trunkFlexion</th>\n",
              "      <th>IllinoisAgility</th>\n",
              "      <th>BMI</th>\n",
              "      <th>standinglongjump</th>\n",
              "      <th>exercise</th>\n",
              "      <th>testYm</th>\n",
              "    </tr>\n",
              "  </thead>\n",
              "  <tbody>\n",
              "    <tr>\n",
              "      <th>8</th>\n",
              "      <td>9</td>\n",
              "      <td>10</td>\n",
              "      <td>11</td>\n",
              "      <td>유소년</td>\n",
              "      <td>참가증</td>\n",
              "      <td>154.8</td>\n",
              "      <td>36.2</td>\n",
              "      <td>14</td>\n",
              "      <td>8.5</td>\n",
              "      <td>-</td>\n",
              "      <td>15.1</td>\n",
              "      <td>135</td>\n",
              "      <td>준비운동:벽패스,십(十)자 드리블,공 양손으로 주고 받기</td>\n",
              "      <td>202110</td>\n",
              "    </tr>\n",
              "    <tr>\n",
              "      <th>9</th>\n",
              "      <td>10</td>\n",
              "      <td>10</td>\n",
              "      <td>11</td>\n",
              "      <td>유소년</td>\n",
              "      <td>참가증</td>\n",
              "      <td>150.0</td>\n",
              "      <td>48.3</td>\n",
              "      <td>1</td>\n",
              "      <td>3.5</td>\n",
              "      <td>-</td>\n",
              "      <td>21.5</td>\n",
              "      <td>73</td>\n",
              "      <td>준비운동:윗몸말아올리기,팔굽혀펴기,앉았다 일어서기,반복 옆뛰기,2단 줄넘기,벽잡고 ...</td>\n",
              "      <td>202110</td>\n",
              "    </tr>\n",
              "    <tr>\n",
              "      <th>11</th>\n",
              "      <td>12</td>\n",
              "      <td>10</td>\n",
              "      <td>11</td>\n",
              "      <td>유소년</td>\n",
              "      <td>참가증</td>\n",
              "      <td>146.5</td>\n",
              "      <td>45.0</td>\n",
              "      <td>11</td>\n",
              "      <td>18.0</td>\n",
              "      <td>-</td>\n",
              "      <td>21.0</td>\n",
              "      <td>154</td>\n",
              "      <td>준비운동:1단 줄넘기,계단 오르기,왕복달리기,벽패스,십(十)자 드리블,공 양손으로 ...</td>\n",
              "      <td>202110</td>\n",
              "    </tr>\n",
              "    <tr>\n",
              "      <th>12</th>\n",
              "      <td>13</td>\n",
              "      <td>10</td>\n",
              "      <td>11</td>\n",
              "      <td>유소년</td>\n",
              "      <td>참가증</td>\n",
              "      <td>156.6</td>\n",
              "      <td>70.3</td>\n",
              "      <td>-</td>\n",
              "      <td>-1.0</td>\n",
              "      <td>-</td>\n",
              "      <td>28.7</td>\n",
              "      <td>125</td>\n",
              "      <td>준비운동:윗몸말아올리기,팔굽혀펴기,다리 벌려 옆으로 상체 숙이기,발목 얹고 다리 잡...</td>\n",
              "      <td>202110</td>\n",
              "    </tr>\n",
              "    <tr>\n",
              "      <th>13</th>\n",
              "      <td>14</td>\n",
              "      <td>10</td>\n",
              "      <td>11</td>\n",
              "      <td>유소년</td>\n",
              "      <td>참가증</td>\n",
              "      <td>145.7</td>\n",
              "      <td>31.6</td>\n",
              "      <td>18</td>\n",
              "      <td>7.5</td>\n",
              "      <td>-</td>\n",
              "      <td>14.9</td>\n",
              "      <td>100</td>\n",
              "      <td>준비운동:1단 줄넘기,계단 오르기,왕복달리기,반복 옆뛰기,잔발치기,벽패스,십(十)자...</td>\n",
              "      <td>202110</td>\n",
              "    </tr>\n",
              "  </tbody>\n",
              "</table>\n",
              "</div>\n",
              "      <button class=\"colab-df-convert\" onclick=\"convertToInteractive('df-b6286a80-9ff4-4567-a8b2-1967121fa3b5')\"\n",
              "              title=\"Convert this dataframe to an interactive table.\"\n",
              "              style=\"display:none;\">\n",
              "        \n",
              "  <svg xmlns=\"http://www.w3.org/2000/svg\" height=\"24px\"viewBox=\"0 0 24 24\"\n",
              "       width=\"24px\">\n",
              "    <path d=\"M0 0h24v24H0V0z\" fill=\"none\"/>\n",
              "    <path d=\"M18.56 5.44l.94 2.06.94-2.06 2.06-.94-2.06-.94-.94-2.06-.94 2.06-2.06.94zm-11 1L8.5 8.5l.94-2.06 2.06-.94-2.06-.94L8.5 2.5l-.94 2.06-2.06.94zm10 10l.94 2.06.94-2.06 2.06-.94-2.06-.94-.94-2.06-.94 2.06-2.06.94z\"/><path d=\"M17.41 7.96l-1.37-1.37c-.4-.4-.92-.59-1.43-.59-.52 0-1.04.2-1.43.59L10.3 9.45l-7.72 7.72c-.78.78-.78 2.05 0 2.83L4 21.41c.39.39.9.59 1.41.59.51 0 1.02-.2 1.41-.59l7.78-7.78 2.81-2.81c.8-.78.8-2.07 0-2.86zM5.41 20L4 18.59l7.72-7.72 1.47 1.35L5.41 20z\"/>\n",
              "  </svg>\n",
              "      </button>\n",
              "      \n",
              "  <style>\n",
              "    .colab-df-container {\n",
              "      display:flex;\n",
              "      flex-wrap:wrap;\n",
              "      gap: 12px;\n",
              "    }\n",
              "\n",
              "    .colab-df-convert {\n",
              "      background-color: #E8F0FE;\n",
              "      border: none;\n",
              "      border-radius: 50%;\n",
              "      cursor: pointer;\n",
              "      display: none;\n",
              "      fill: #1967D2;\n",
              "      height: 32px;\n",
              "      padding: 0 0 0 0;\n",
              "      width: 32px;\n",
              "    }\n",
              "\n",
              "    .colab-df-convert:hover {\n",
              "      background-color: #E2EBFA;\n",
              "      box-shadow: 0px 1px 2px rgba(60, 64, 67, 0.3), 0px 1px 3px 1px rgba(60, 64, 67, 0.15);\n",
              "      fill: #174EA6;\n",
              "    }\n",
              "\n",
              "    [theme=dark] .colab-df-convert {\n",
              "      background-color: #3B4455;\n",
              "      fill: #D2E3FC;\n",
              "    }\n",
              "\n",
              "    [theme=dark] .colab-df-convert:hover {\n",
              "      background-color: #434B5C;\n",
              "      box-shadow: 0px 1px 3px 1px rgba(0, 0, 0, 0.15);\n",
              "      filter: drop-shadow(0px 1px 2px rgba(0, 0, 0, 0.3));\n",
              "      fill: #FFFFFF;\n",
              "    }\n",
              "  </style>\n",
              "\n",
              "      <script>\n",
              "        const buttonEl =\n",
              "          document.querySelector('#df-b6286a80-9ff4-4567-a8b2-1967121fa3b5 button.colab-df-convert');\n",
              "        buttonEl.style.display =\n",
              "          google.colab.kernel.accessAllowed ? 'block' : 'none';\n",
              "\n",
              "        async function convertToInteractive(key) {\n",
              "          const element = document.querySelector('#df-b6286a80-9ff4-4567-a8b2-1967121fa3b5');\n",
              "          const dataTable =\n",
              "            await google.colab.kernel.invokeFunction('convertToInteractive',\n",
              "                                                     [key], {});\n",
              "          if (!dataTable) return;\n",
              "\n",
              "          const docLinkHtml = 'Like what you see? Visit the ' +\n",
              "            '<a target=\"_blank\" href=https://colab.research.google.com/notebooks/data_table.ipynb>data table notebook</a>'\n",
              "            + ' to learn more about interactive tables.';\n",
              "          element.innerHTML = '';\n",
              "          dataTable['output_type'] = 'display_data';\n",
              "          await google.colab.output.renderOutput(dataTable, element);\n",
              "          const docLink = document.createElement('div');\n",
              "          docLink.innerHTML = docLinkHtml;\n",
              "          element.appendChild(docLink);\n",
              "        }\n",
              "      </script>\n",
              "    </div>\n",
              "  </div>\n",
              "  "
            ]
          },
          "metadata": {},
          "execution_count": 133
        }
      ]
    },
    {
      "cell_type": "code",
      "source": [
        "df3.info() #유소년 3080명"
      ],
      "metadata": {
        "colab": {
          "base_uri": "https://localhost:8080/"
        },
        "id": "H0GRSCY7Qh7l",
        "outputId": "7a1169da-4f4e-4123-bc7d-73c298ad138c"
      },
      "execution_count": 134,
      "outputs": [
        {
          "output_type": "stream",
          "name": "stdout",
          "text": [
            "<class 'pandas.core.frame.DataFrame'>\n",
            "Int64Index: 3080 entries, 8 to 15293\n",
            "Data columns (total 14 columns):\n",
            " #   Column            Non-Null Count  Dtype  \n",
            "---  ------            --------------  -----  \n",
            " 0   id                3080 non-null   int64  \n",
            " 1   ageClass          3080 non-null   int64  \n",
            " 2   ageDegree         3080 non-null   int64  \n",
            " 3   ageGbn            3080 non-null   object \n",
            " 4   certGbn           3080 non-null   object \n",
            " 5   height            3080 non-null   float64\n",
            " 6   weight            3080 non-null   float64\n",
            " 7   crunch            3080 non-null   object \n",
            " 8   trunkFlexion      3080 non-null   object \n",
            " 9   IllinoisAgility   3080 non-null   object \n",
            " 10  BMI               3080 non-null   float64\n",
            " 11  standinglongjump  3080 non-null   object \n",
            " 12  exercise          3080 non-null   object \n",
            " 13  testYm            3080 non-null   int64  \n",
            "dtypes: float64(3), int64(4), object(7)\n",
            "memory usage: 360.9+ KB\n"
          ]
        }
      ]
    },
    {
      "cell_type": "code",
      "source": [
        "df4.head()"
      ],
      "metadata": {
        "colab": {
          "base_uri": "https://localhost:8080/",
          "height": 895
        },
        "id": "LlkdH1JITDgc",
        "outputId": "ed607ce4-bc5e-414e-a966-453d3dfd2f3c"
      },
      "execution_count": 135,
      "outputs": [
        {
          "output_type": "execute_result",
          "data": {
            "text/plain": [
              "      id  ageClass  ageDegree ageGbn certGbn  height  weight crunch jump  \\\n",
              "10    11        10         18    청소년     참가증   173.1    61.1      -   30   \n",
              "420  421        10         18    청소년     2등급   162.4    58.7      -   50   \n",
              "423  424        10         13    청소년     참가증   150.2    61.7      -   34   \n",
              "424  425        10         13    청소년     참가증   161.1    38.6      -   29   \n",
              "425  426        10         13    청소년     참가증   149.8    52.5      -   12   \n",
              "\n",
              "    trunkFlexion IllinoisAgility   BMI situp standinglongjump standsit  \\\n",
              "10          11.2           17.72  20.4     -                -        -   \n",
              "420         21.3           19.94  22.3     -                -        -   \n",
              "423         21.2           23.53  27.3     -              175        -   \n",
              "424          9.0           22.47  14.9     -              140        -   \n",
              "425          5.3            25.5  23.4     -              111        -   \n",
              "\n",
              "    twominwalk threeMwalk                                           exercise  \\\n",
              "10           -          -  준비운동:윗몸올리기 ,엎드려 버티기,앉았다 일어서기,버피운동,무릎 높여 제자리 달리...   \n",
              "420          -          -  준비운동:목 스트레칭,등/어깨 뒤쪽 스트레칭,상지 루틴 스트레칭,하지 루틴 스트레칭...   \n",
              "423          -          -  준비운동:상지 루틴 스트레칭,하지 루틴 스트레칭1 / 본운동:달리기,줄넘기,수영,앉...   \n",
              "424          -          -  준비운동:상지 루틴 스트레칭,하지 루틴 스트레칭1 / 본운동:달리기,줄넘기,수영,앉...   \n",
              "425          -          -  준비운동:상지 루틴 스트레칭,하지 루틴 스트레칭1 / 본운동:달리기,줄넘기,수영,앉...   \n",
              "\n",
              "     testYm  \n",
              "10   202110  \n",
              "420  202112  \n",
              "423  202112  \n",
              "424  202112  \n",
              "425  202112  "
            ],
            "text/html": [
              "\n",
              "  <div id=\"df-6de2e652-7fe8-458c-8e80-c6c71b363669\">\n",
              "    <div class=\"colab-df-container\">\n",
              "      <div>\n",
              "<style scoped>\n",
              "    .dataframe tbody tr th:only-of-type {\n",
              "        vertical-align: middle;\n",
              "    }\n",
              "\n",
              "    .dataframe tbody tr th {\n",
              "        vertical-align: top;\n",
              "    }\n",
              "\n",
              "    .dataframe thead th {\n",
              "        text-align: right;\n",
              "    }\n",
              "</style>\n",
              "<table border=\"1\" class=\"dataframe\">\n",
              "  <thead>\n",
              "    <tr style=\"text-align: right;\">\n",
              "      <th></th>\n",
              "      <th>id</th>\n",
              "      <th>ageClass</th>\n",
              "      <th>ageDegree</th>\n",
              "      <th>ageGbn</th>\n",
              "      <th>certGbn</th>\n",
              "      <th>height</th>\n",
              "      <th>weight</th>\n",
              "      <th>crunch</th>\n",
              "      <th>jump</th>\n",
              "      <th>trunkFlexion</th>\n",
              "      <th>IllinoisAgility</th>\n",
              "      <th>BMI</th>\n",
              "      <th>situp</th>\n",
              "      <th>standinglongjump</th>\n",
              "      <th>standsit</th>\n",
              "      <th>twominwalk</th>\n",
              "      <th>threeMwalk</th>\n",
              "      <th>exercise</th>\n",
              "      <th>testYm</th>\n",
              "    </tr>\n",
              "  </thead>\n",
              "  <tbody>\n",
              "    <tr>\n",
              "      <th>10</th>\n",
              "      <td>11</td>\n",
              "      <td>10</td>\n",
              "      <td>18</td>\n",
              "      <td>청소년</td>\n",
              "      <td>참가증</td>\n",
              "      <td>173.1</td>\n",
              "      <td>61.1</td>\n",
              "      <td>-</td>\n",
              "      <td>30</td>\n",
              "      <td>11.2</td>\n",
              "      <td>17.72</td>\n",
              "      <td>20.4</td>\n",
              "      <td>-</td>\n",
              "      <td>-</td>\n",
              "      <td>-</td>\n",
              "      <td>-</td>\n",
              "      <td>-</td>\n",
              "      <td>준비운동:윗몸올리기 ,엎드려 버티기,앉았다 일어서기,버피운동,무릎 높여 제자리 달리...</td>\n",
              "      <td>202110</td>\n",
              "    </tr>\n",
              "    <tr>\n",
              "      <th>420</th>\n",
              "      <td>421</td>\n",
              "      <td>10</td>\n",
              "      <td>18</td>\n",
              "      <td>청소년</td>\n",
              "      <td>2등급</td>\n",
              "      <td>162.4</td>\n",
              "      <td>58.7</td>\n",
              "      <td>-</td>\n",
              "      <td>50</td>\n",
              "      <td>21.3</td>\n",
              "      <td>19.94</td>\n",
              "      <td>22.3</td>\n",
              "      <td>-</td>\n",
              "      <td>-</td>\n",
              "      <td>-</td>\n",
              "      <td>-</td>\n",
              "      <td>-</td>\n",
              "      <td>준비운동:목 스트레칭,등/어깨 뒤쪽 스트레칭,상지 루틴 스트레칭,하지 루틴 스트레칭...</td>\n",
              "      <td>202112</td>\n",
              "    </tr>\n",
              "    <tr>\n",
              "      <th>423</th>\n",
              "      <td>424</td>\n",
              "      <td>10</td>\n",
              "      <td>13</td>\n",
              "      <td>청소년</td>\n",
              "      <td>참가증</td>\n",
              "      <td>150.2</td>\n",
              "      <td>61.7</td>\n",
              "      <td>-</td>\n",
              "      <td>34</td>\n",
              "      <td>21.2</td>\n",
              "      <td>23.53</td>\n",
              "      <td>27.3</td>\n",
              "      <td>-</td>\n",
              "      <td>175</td>\n",
              "      <td>-</td>\n",
              "      <td>-</td>\n",
              "      <td>-</td>\n",
              "      <td>준비운동:상지 루틴 스트레칭,하지 루틴 스트레칭1 / 본운동:달리기,줄넘기,수영,앉...</td>\n",
              "      <td>202112</td>\n",
              "    </tr>\n",
              "    <tr>\n",
              "      <th>424</th>\n",
              "      <td>425</td>\n",
              "      <td>10</td>\n",
              "      <td>13</td>\n",
              "      <td>청소년</td>\n",
              "      <td>참가증</td>\n",
              "      <td>161.1</td>\n",
              "      <td>38.6</td>\n",
              "      <td>-</td>\n",
              "      <td>29</td>\n",
              "      <td>9.0</td>\n",
              "      <td>22.47</td>\n",
              "      <td>14.9</td>\n",
              "      <td>-</td>\n",
              "      <td>140</td>\n",
              "      <td>-</td>\n",
              "      <td>-</td>\n",
              "      <td>-</td>\n",
              "      <td>준비운동:상지 루틴 스트레칭,하지 루틴 스트레칭1 / 본운동:달리기,줄넘기,수영,앉...</td>\n",
              "      <td>202112</td>\n",
              "    </tr>\n",
              "    <tr>\n",
              "      <th>425</th>\n",
              "      <td>426</td>\n",
              "      <td>10</td>\n",
              "      <td>13</td>\n",
              "      <td>청소년</td>\n",
              "      <td>참가증</td>\n",
              "      <td>149.8</td>\n",
              "      <td>52.5</td>\n",
              "      <td>-</td>\n",
              "      <td>12</td>\n",
              "      <td>5.3</td>\n",
              "      <td>25.5</td>\n",
              "      <td>23.4</td>\n",
              "      <td>-</td>\n",
              "      <td>111</td>\n",
              "      <td>-</td>\n",
              "      <td>-</td>\n",
              "      <td>-</td>\n",
              "      <td>준비운동:상지 루틴 스트레칭,하지 루틴 스트레칭1 / 본운동:달리기,줄넘기,수영,앉...</td>\n",
              "      <td>202112</td>\n",
              "    </tr>\n",
              "  </tbody>\n",
              "</table>\n",
              "</div>\n",
              "      <button class=\"colab-df-convert\" onclick=\"convertToInteractive('df-6de2e652-7fe8-458c-8e80-c6c71b363669')\"\n",
              "              title=\"Convert this dataframe to an interactive table.\"\n",
              "              style=\"display:none;\">\n",
              "        \n",
              "  <svg xmlns=\"http://www.w3.org/2000/svg\" height=\"24px\"viewBox=\"0 0 24 24\"\n",
              "       width=\"24px\">\n",
              "    <path d=\"M0 0h24v24H0V0z\" fill=\"none\"/>\n",
              "    <path d=\"M18.56 5.44l.94 2.06.94-2.06 2.06-.94-2.06-.94-.94-2.06-.94 2.06-2.06.94zm-11 1L8.5 8.5l.94-2.06 2.06-.94-2.06-.94L8.5 2.5l-.94 2.06-2.06.94zm10 10l.94 2.06.94-2.06 2.06-.94-2.06-.94-.94-2.06-.94 2.06-2.06.94z\"/><path d=\"M17.41 7.96l-1.37-1.37c-.4-.4-.92-.59-1.43-.59-.52 0-1.04.2-1.43.59L10.3 9.45l-7.72 7.72c-.78.78-.78 2.05 0 2.83L4 21.41c.39.39.9.59 1.41.59.51 0 1.02-.2 1.41-.59l7.78-7.78 2.81-2.81c.8-.78.8-2.07 0-2.86zM5.41 20L4 18.59l7.72-7.72 1.47 1.35L5.41 20z\"/>\n",
              "  </svg>\n",
              "      </button>\n",
              "      \n",
              "  <style>\n",
              "    .colab-df-container {\n",
              "      display:flex;\n",
              "      flex-wrap:wrap;\n",
              "      gap: 12px;\n",
              "    }\n",
              "\n",
              "    .colab-df-convert {\n",
              "      background-color: #E8F0FE;\n",
              "      border: none;\n",
              "      border-radius: 50%;\n",
              "      cursor: pointer;\n",
              "      display: none;\n",
              "      fill: #1967D2;\n",
              "      height: 32px;\n",
              "      padding: 0 0 0 0;\n",
              "      width: 32px;\n",
              "    }\n",
              "\n",
              "    .colab-df-convert:hover {\n",
              "      background-color: #E2EBFA;\n",
              "      box-shadow: 0px 1px 2px rgba(60, 64, 67, 0.3), 0px 1px 3px 1px rgba(60, 64, 67, 0.15);\n",
              "      fill: #174EA6;\n",
              "    }\n",
              "\n",
              "    [theme=dark] .colab-df-convert {\n",
              "      background-color: #3B4455;\n",
              "      fill: #D2E3FC;\n",
              "    }\n",
              "\n",
              "    [theme=dark] .colab-df-convert:hover {\n",
              "      background-color: #434B5C;\n",
              "      box-shadow: 0px 1px 3px 1px rgba(0, 0, 0, 0.15);\n",
              "      filter: drop-shadow(0px 1px 2px rgba(0, 0, 0, 0.3));\n",
              "      fill: #FFFFFF;\n",
              "    }\n",
              "  </style>\n",
              "\n",
              "      <script>\n",
              "        const buttonEl =\n",
              "          document.querySelector('#df-6de2e652-7fe8-458c-8e80-c6c71b363669 button.colab-df-convert');\n",
              "        buttonEl.style.display =\n",
              "          google.colab.kernel.accessAllowed ? 'block' : 'none';\n",
              "\n",
              "        async function convertToInteractive(key) {\n",
              "          const element = document.querySelector('#df-6de2e652-7fe8-458c-8e80-c6c71b363669');\n",
              "          const dataTable =\n",
              "            await google.colab.kernel.invokeFunction('convertToInteractive',\n",
              "                                                     [key], {});\n",
              "          if (!dataTable) return;\n",
              "\n",
              "          const docLinkHtml = 'Like what you see? Visit the ' +\n",
              "            '<a target=\"_blank\" href=https://colab.research.google.com/notebooks/data_table.ipynb>data table notebook</a>'\n",
              "            + ' to learn more about interactive tables.';\n",
              "          element.innerHTML = '';\n",
              "          dataTable['output_type'] = 'display_data';\n",
              "          await google.colab.output.renderOutput(dataTable, element);\n",
              "          const docLink = document.createElement('div');\n",
              "          docLink.innerHTML = docLinkHtml;\n",
              "          element.appendChild(docLink);\n",
              "        }\n",
              "      </script>\n",
              "    </div>\n",
              "  </div>\n",
              "  "
            ]
          },
          "metadata": {},
          "execution_count": 135
        }
      ]
    },
    {
      "cell_type": "code",
      "source": [
        "df4.drop(columns=['crunch','situp','standsit','twominwalk','threeMwalk'],inplace=True)"
      ],
      "metadata": {
        "colab": {
          "base_uri": "https://localhost:8080/"
        },
        "id": "Jg7YUHvcTDbs",
        "outputId": "0343bdf5-8edc-4b83-ade0-3d8585e06a7e"
      },
      "execution_count": 136,
      "outputs": [
        {
          "output_type": "stream",
          "name": "stderr",
          "text": [
            "/usr/local/lib/python3.7/dist-packages/pandas/core/frame.py:4913: SettingWithCopyWarning: \n",
            "A value is trying to be set on a copy of a slice from a DataFrame\n",
            "\n",
            "See the caveats in the documentation: https://pandas.pydata.org/pandas-docs/stable/user_guide/indexing.html#returning-a-view-versus-a-copy\n",
            "  errors=errors,\n"
          ]
        }
      ]
    },
    {
      "cell_type": "code",
      "source": [
        "df4.info() #청소년 8479명."
      ],
      "metadata": {
        "colab": {
          "base_uri": "https://localhost:8080/"
        },
        "id": "aihzid1DQnWM",
        "outputId": "6945e120-77c5-476b-a9eb-fa07a2620cf1"
      },
      "execution_count": 137,
      "outputs": [
        {
          "output_type": "stream",
          "name": "stdout",
          "text": [
            "<class 'pandas.core.frame.DataFrame'>\n",
            "Int64Index: 8479 entries, 10 to 15314\n",
            "Data columns (total 14 columns):\n",
            " #   Column            Non-Null Count  Dtype  \n",
            "---  ------            --------------  -----  \n",
            " 0   id                8479 non-null   int64  \n",
            " 1   ageClass          8479 non-null   int64  \n",
            " 2   ageDegree         8479 non-null   int64  \n",
            " 3   ageGbn            8479 non-null   object \n",
            " 4   certGbn           8479 non-null   object \n",
            " 5   height            8479 non-null   float64\n",
            " 6   weight            8479 non-null   float64\n",
            " 7   jump              8479 non-null   object \n",
            " 8   trunkFlexion      8479 non-null   object \n",
            " 9   IllinoisAgility   8479 non-null   object \n",
            " 10  BMI               8479 non-null   float64\n",
            " 11  standinglongjump  8479 non-null   object \n",
            " 12  exercise          8479 non-null   object \n",
            " 13  testYm            8479 non-null   int64  \n",
            "dtypes: float64(3), int64(4), object(7)\n",
            "memory usage: 993.6+ KB\n"
          ]
        }
      ]
    },
    {
      "cell_type": "code",
      "source": [
        "df.to_csv('user.csv')"
      ],
      "metadata": {
        "id": "VjUahy2i5rHE"
      },
      "execution_count": 138,
      "outputs": []
    },
    {
      "cell_type": "code",
      "source": [
        "df.certGbn.unique()"
      ],
      "metadata": {
        "colab": {
          "base_uri": "https://localhost:8080/"
        },
        "id": "PlW4TsSUOzow",
        "outputId": "e85be73f-9128-4ba2-d2dc-f76fef0f983c"
      },
      "execution_count": 139,
      "outputs": [
        {
          "output_type": "execute_result",
          "data": {
            "text/plain": [
              "array(['2', '4', '3', '1'], dtype=object)"
            ]
          },
          "metadata": {},
          "execution_count": 139
        }
      ]
    },
    {
      "cell_type": "code",
      "source": [],
      "metadata": {
        "id": "YrJY2wWdcvYL"
      },
      "execution_count": 139,
      "outputs": []
    }
  ]
}