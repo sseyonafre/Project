{
  "nbformat": 4,
  "nbformat_minor": 0,
  "metadata": {
    "colab": {
      "name": "AI_14_고세희_Section3",
      "provenance": [],
      "collapsed_sections": [],
      "toc_visible": true,
      "authorship_tag": "ABX9TyNuE7tvggGgWBJyTLWw4ZmS",
      "include_colab_link": true
    },
    "kernelspec": {
      "name": "python3",
      "display_name": "Python 3"
    },
    "language_info": {
      "name": "python"
    }
  },
  "cells": [
    {
      "cell_type": "markdown",
      "metadata": {
        "id": "view-in-github",
        "colab_type": "text"
      },
      "source": [
        "<a href=\"https://colab.research.google.com/github/sseyonafre/Project/blob/main/Section3/AI_14_%EA%B3%A0%EC%84%B8%ED%9D%AC_Section3.ipynb\" target=\"_parent\"><img src=\"https://colab.research.google.com/assets/colab-badge.svg\" alt=\"Open In Colab\"/></a>"
      ]
    },
    {
      "cell_type": "code",
      "execution_count": 1,
      "metadata": {
        "colab": {
          "resources": {
            "http://localhost:8080/nbextensions/google.colab/files.js": {
              "data": "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",
              "ok": true,
              "headers": [
                [
                  "content-type",
                  "application/javascript"
                ]
              ],
              "status": 200,
              "status_text": ""
            }
          },
          "base_uri": "https://localhost:8080/",
          "height": 74
        },
        "id": "fG68oFsmyfmW",
        "outputId": "f8b96091-0f01-461d-961c-2cbc9623bfb6"
      },
      "outputs": [
        {
          "output_type": "display_data",
          "data": {
            "text/plain": [
              "<IPython.core.display.HTML object>"
            ],
            "text/html": [
              "\n",
              "     <input type=\"file\" id=\"files-035e70e8-0116-4d7e-ba55-756f6c2b8473\" name=\"files[]\" multiple disabled\n",
              "        style=\"border:none\" />\n",
              "     <output id=\"result-035e70e8-0116-4d7e-ba55-756f6c2b8473\">\n",
              "      Upload widget is only available when the cell has been executed in the\n",
              "      current browser session. Please rerun this cell to enable.\n",
              "      </output>\n",
              "      <script src=\"/nbextensions/google.colab/files.js\"></script> "
            ]
          },
          "metadata": {}
        },
        {
          "output_type": "stream",
          "name": "stdout",
          "text": [
            "Saving user.csv to user.csv\n"
          ]
        }
      ],
      "source": [
        "from google.colab import files\n",
        "uploaded = files.upload()\n"
      ]
    },
    {
      "cell_type": "code",
      "source": [
        "import pandas as pd\n",
        "import numpy as np\n",
        "from sklearn.model_selection import train_test_split\n",
        "from sklearn.metrics import accuracy_score\n",
        "from sklearn.linear_model import LogisticRegression\n",
        "from sklearn.preprocessing import StandardScaler\n",
        "from sklearn.pipeline import make_pipeline\n",
        "from sklearn.impute import SimpleImputer\n",
        "from sklearn.ensemble import RandomForestClassifier\n",
        "from sklearn.model_selection import cross_val_score\n",
        "from xgboost import XGBClassifier"
      ],
      "metadata": {
        "id": "LDWUK3hEzQiF"
      },
      "execution_count": 2,
      "outputs": []
    },
    {
      "cell_type": "code",
      "source": [
        "df = pd.read_csv('user.csv',index_col = 1) "
      ],
      "metadata": {
        "id": "qsBNfpZJZDOK"
      },
      "execution_count": 3,
      "outputs": []
    },
    {
      "cell_type": "code",
      "source": [
        "df.info()"
      ],
      "metadata": {
        "colab": {
          "base_uri": "https://localhost:8080/"
        },
        "id": "h2tW5IiA9_co",
        "outputId": "d11d3d95-96eb-4857-e0ba-83ac3f54a9f7"
      },
      "execution_count": 4,
      "outputs": [
        {
          "output_type": "stream",
          "name": "stdout",
          "text": [
            "<class 'pandas.core.frame.DataFrame'>\n",
            "Int64Index: 16541 entries, 1 to 16541\n",
            "Data columns (total 19 columns):\n",
            " #   Column            Non-Null Count  Dtype  \n",
            "---  ------            --------------  -----  \n",
            " 0   Unnamed: 0        16541 non-null  int64  \n",
            " 1   ageClass          16541 non-null  int64  \n",
            " 2   ageDegree         16541 non-null  int64  \n",
            " 3   ageGbn            16541 non-null  object \n",
            " 4   certGbn           16541 non-null  object \n",
            " 5   height            16541 non-null  float64\n",
            " 6   weight            16541 non-null  float64\n",
            " 7   crunch            16541 non-null  object \n",
            " 8   jump              16541 non-null  object \n",
            " 9   trunkFlexion      16541 non-null  object \n",
            " 10  IllinoisAgility   16541 non-null  object \n",
            " 11  BMI               16541 non-null  float64\n",
            " 12  situp             16541 non-null  object \n",
            " 13  standinglongjump  16541 non-null  object \n",
            " 14  standsit          16541 non-null  object \n",
            " 15  twominwalk        16541 non-null  object \n",
            " 16  threeMwalk        16541 non-null  object \n",
            " 17  exercise          16541 non-null  object \n",
            " 18  testYm            16541 non-null  int64  \n",
            "dtypes: float64(3), int64(4), object(12)\n",
            "memory usage: 2.5+ MB\n"
          ]
        }
      ]
    },
    {
      "cell_type": "markdown",
      "source": [
        "# **EDA**"
      ],
      "metadata": {
        "id": "YYc5Oxp6HG3q"
      }
    },
    {
      "cell_type": "code",
      "source": [
        "df.drop(columns=['Unnamed: 0'],inplace=True)\n",
        "df.drop_duplicates(keep='first', inplace=True)\n",
        "df.replace('-',np.nan,inplace=True)\n",
        "for i in ['jump','situp','crunch','trunkFlexion','IllinoisAgility','standinglongjump','twominwalk','threeMwalk']:\n",
        "    df[i]= df[i].astype(float)\n",
        "df['certGbn'] = df['certGbn'].astype('category')\n",
        "df.certGbn.replace({'참가증':'4','1등급':'1','2등급':'2','3등급':'3'},inplace=True)"
      ],
      "metadata": {
        "id": "kmvdgbTz93Lq"
      },
      "execution_count": 5,
      "outputs": []
    },
    {
      "cell_type": "code",
      "source": [
        "df1 = df.query(\"ageGbn=='노인'\")\n",
        "df2 = df.query(\"ageGbn=='성인'\")\n",
        "df3 = df.query(\"ageGbn=='유소년'\")\n",
        "df4 = df.query(\"ageGbn=='청소년'\")\n",
        "\n",
        "df1.drop(columns=['crunch','jump','IllinoisAgility','situp','standinglongjump'],inplace=True)\n",
        "df2.drop(columns=['crunch','jump','IllinoisAgility','standsit','twominwalk','threeMwalk'],inplace=True)\n",
        "df3.drop(columns=['jump','situp','standsit','twominwalk','threeMwalk','IllinoisAgility'],inplace=True)\n",
        "df4.drop(columns=['crunch','situp','standsit','twominwalk','threeMwalk'],inplace=True)\n",
        "\n",
        "df1.standsit = df1.standsit.replace(np.nan,0)\n",
        "df2.situp = df2.situp.replace(np.nan,0).round(0).astype(int)\n",
        "df3.crunch = df3.crunch.replace(np.nan,0).round(0).astype(int)\n",
        "df4.jump = df4.jump.replace(np.nan,0).round(0).astype(int)"
      ],
      "metadata": {
        "id": "SlM8tQd0c6HK",
        "colab": {
          "base_uri": "https://localhost:8080/"
        },
        "outputId": "f06d5efc-ebe6-49c9-af1d-d7ef9d7bf2ff"
      },
      "execution_count": 6,
      "outputs": [
        {
          "output_type": "stream",
          "name": "stderr",
          "text": [
            "/usr/local/lib/python3.7/dist-packages/pandas/core/frame.py:4913: SettingWithCopyWarning: \n",
            "A value is trying to be set on a copy of a slice from a DataFrame\n",
            "\n",
            "See the caveats in the documentation: https://pandas.pydata.org/pandas-docs/stable/user_guide/indexing.html#returning-a-view-versus-a-copy\n",
            "  errors=errors,\n",
            "/usr/local/lib/python3.7/dist-packages/pandas/core/generic.py:5516: SettingWithCopyWarning: \n",
            "A value is trying to be set on a copy of a slice from a DataFrame.\n",
            "Try using .loc[row_indexer,col_indexer] = value instead\n",
            "\n",
            "See the caveats in the documentation: https://pandas.pydata.org/pandas-docs/stable/user_guide/indexing.html#returning-a-view-versus-a-copy\n",
            "  self[name] = value\n"
          ]
        }
      ]
    },
    {
      "cell_type": "markdown",
      "source": [
        "# **모델링**\n",
        "> ## 나이구분에 따라 검사항목이 다르기 때문에 모델을 나이구분별로 만들어 준다.\n"
      ],
      "metadata": {
        "id": "oTHHd5MdP_pw"
      }
    },
    {
      "cell_type": "markdown",
      "source": [
        "### 1. 노인층 모델링\n",
        "> 기준모델"
      ],
      "metadata": {
        "id": "gn48r2cSMsYP"
      }
    },
    {
      "cell_type": "code",
      "source": [
        "#노인층의 모델."
      ],
      "metadata": {
        "id": "RhniuSo0PIot"
      },
      "execution_count": 7,
      "outputs": []
    },
    {
      "cell_type": "code",
      "source": [
        "#train, test 셋으로 분리 , target 설정.\n",
        "\n",
        "target = 'certGbn'\n",
        "\n",
        "train, test = train_test_split(df1, train_size=0.80, test_size=0.20, \n",
        "                              stratify=df1[target], random_state=2)\n",
        "features1 = df1.drop(columns=['certGbn','exercise','testYm','ageGbn']).columns\n",
        "\n",
        "X_train1 = train[features1]\n",
        "y_train1 = train[target]\n",
        "X_test1 = test[features1]\n",
        "y_test1 = test[target]"
      ],
      "metadata": {
        "id": "YrJY2wWdcvYL"
      },
      "execution_count": 8,
      "outputs": []
    },
    {
      "cell_type": "code",
      "source": [
        "#기준모델 \n",
        "y_train1.value_counts(normalize=True) #불균형. 다중분류."
      ],
      "metadata": {
        "colab": {
          "base_uri": "https://localhost:8080/"
        },
        "id": "qLvjVwAG7y3T",
        "outputId": "056838e7-e9dc-4fef-e1a3-1a7cc7f5c789"
      },
      "execution_count": 9,
      "outputs": [
        {
          "output_type": "execute_result",
          "data": {
            "text/plain": [
              "4    0.513089\n",
              "3    0.233857\n",
              "2    0.178010\n",
              "1    0.075044\n",
              "Name: certGbn, dtype: float64"
            ]
          },
          "metadata": {},
          "execution_count": 9
        }
      ]
    },
    {
      "cell_type": "code",
      "source": [
        "#기준모델을 타겟의 최빈값으로 설정.\n",
        "baseline1 = y_train1.mode()"
      ],
      "metadata": {
        "id": "rmw6yS6BOlKx"
      },
      "execution_count": 10,
      "outputs": []
    },
    {
      "cell_type": "code",
      "source": [
        "#기준모델의 정확도를 구해보자.\n",
        "y_pred = [baseline1] * len(y_test1)\n",
        "print(\"기준모델 정확도: \", accuracy_score(y_test1, y_pred))"
      ],
      "metadata": {
        "colab": {
          "base_uri": "https://localhost:8080/"
        },
        "id": "VNWKWBcv0yXf",
        "outputId": "924fd50f-6c8f-4d4e-d4d6-81967cc48a13"
      },
      "execution_count": 11,
      "outputs": [
        {
          "output_type": "stream",
          "name": "stdout",
          "text": [
            "기준모델 정확도:  0.5138888888888888\n"
          ]
        }
      ]
    },
    {
      "cell_type": "markdown",
      "source": [
        "> 로지스틱회귀모델"
      ],
      "metadata": {
        "id": "5_IuUBhjbTWH"
      }
    },
    {
      "cell_type": "code",
      "source": [
        "#로지스틱회귀모델을 만들어 교차검증을 수행. #베이지안최적화를 사용해서 최적의 파라미터 찾아보자.\n",
        "\n",
        "pipe1_lr = make_pipeline(\n",
        "    SimpleImputer(), \n",
        "    StandardScaler(),\n",
        "\n",
        "    LogisticRegression(n_jobs=-1)\n",
        ")\n",
        "\n",
        "k = 5\n",
        "\n",
        "scores = cross_val_score(pipe1_lr, X_train1, y_train1, cv=k, scoring='f1_weighted')\n",
        "print(f'f1 for {k} folds:', scores)\n",
        "print(f'교차검증 f1 평균:',scores.mean())"
      ],
      "metadata": {
        "colab": {
          "base_uri": "https://localhost:8080/"
        },
        "id": "bx3Wt4fTbSNP",
        "outputId": "16e6c2fa-b420-4f62-e16d-3eaf139567cd"
      },
      "execution_count": 12,
      "outputs": [
        {
          "output_type": "stream",
          "name": "stdout",
          "text": [
            "f1 for 5 folds: [0.68627044 0.65152084 0.63891139 0.6014879  0.64729652]\n",
            "교차검증 f1 평균: 0.6450974184243188\n"
          ]
        }
      ]
    },
    {
      "cell_type": "markdown",
      "source": [
        "> 랜덤포레스트모델"
      ],
      "metadata": {
        "id": "gjf4a_aTQ1Jo"
      }
    },
    {
      "cell_type": "code",
      "source": [
        "pipe1_rfc = make_pipeline(\n",
        "    SimpleImputer(), \n",
        "    RandomForestClassifier(n_estimators=100, random_state=2, n_jobs=-1)\n",
        ")\n",
        "\n",
        "\n",
        "k = 5\n",
        "\n",
        "scores = cross_val_score(pipe1_rfc, X_train1, y_train1, cv=k, scoring='f1_weighted') #다중분류에서 f1score 사용하려면 weighted\n",
        "print(f'f1 for {k} folds:', scores)\n",
        "print(f'교차검증 f1 평균:',scores.mean())"
      ],
      "metadata": {
        "colab": {
          "base_uri": "https://localhost:8080/"
        },
        "id": "7XNAEn8hO8Ey",
        "outputId": "e4894484-18cc-4bac-a39a-7ebbc466d8e5"
      },
      "execution_count": 13,
      "outputs": [
        {
          "output_type": "stream",
          "name": "stdout",
          "text": [
            "f1 for 5 folds: [0.73869633 0.7083339  0.65990913 0.67689155 0.67826721]\n",
            "교차검증 f1 평균: 0.6924196227015713\n"
          ]
        }
      ]
    },
    {
      "cell_type": "markdown",
      "source": [
        "> XGBoost모델\n"
      ],
      "metadata": {
        "id": "De4vmLEUeJJz"
      }
    },
    {
      "cell_type": "code",
      "source": [
        "\n",
        "pipe1_xg = make_pipeline(\n",
        "    SimpleImputer(), \n",
        "    XGBClassifier(random_state=2, n_jobs=-1)\n",
        ")\n",
        "\n",
        "pipe1_xg.fit(X_train1,y_train1)\n",
        "\n",
        "k = 5\n",
        "\n",
        "scores = cross_val_score(pipe1_xg, X_train1, y_train1, cv=k, \n",
        "                         scoring='f1_weighted')\n",
        "print(f'f1 for {k} folds:', scores)\n",
        "print(f'교차검증 f1 평균:',scores.mean())"
      ],
      "metadata": {
        "colab": {
          "base_uri": "https://localhost:8080/"
        },
        "id": "fnJqsDwGczMI",
        "outputId": "457398c3-a1ff-4d38-9bb7-2205e81bb245"
      },
      "execution_count": 14,
      "outputs": [
        {
          "output_type": "stream",
          "name": "stdout",
          "text": [
            "f1 for 5 folds: [0.76716595 0.66270517 0.6287545  0.69748192 0.67064501]\n",
            "교차검증 f1 평균: 0.6853505119410261\n"
          ]
        }
      ]
    },
    {
      "cell_type": "markdown",
      "source": [
        "### 2. 성인층 모델링\n",
        "> 기준모델"
      ],
      "metadata": {
        "id": "g9dIcwARf2nY"
      }
    },
    {
      "cell_type": "code",
      "source": [
        "#train, test 셋으로 분리 , target 설정.\n",
        "\n",
        "train, test = train_test_split(df2, train_size=0.80, test_size=0.20, \n",
        "                              stratify=df2[target], random_state=2)\n",
        "features2 = df2.drop(columns=['certGbn','exercise','testYm','ageGbn']).columns\n",
        "\n",
        "X_train2 = train[features2]\n",
        "y_train2 = train[target]\n",
        "X_test2 = test[features2]\n",
        "y_test2 = test[target]"
      ],
      "metadata": {
        "id": "64h9B86efy98"
      },
      "execution_count": 15,
      "outputs": []
    },
    {
      "cell_type": "code",
      "source": [
        "#기준모델 \n",
        "y_train2.value_counts(normalize=True) #불균형. 다중분류."
      ],
      "metadata": {
        "colab": {
          "base_uri": "https://localhost:8080/"
        },
        "id": "i2Vr5sTTgi_b",
        "outputId": "36f5de80-0b14-4033-bf10-bf568c7b248d"
      },
      "execution_count": 16,
      "outputs": [
        {
          "output_type": "execute_result",
          "data": {
            "text/plain": [
              "4    0.515831\n",
              "3    0.209763\n",
              "2    0.189314\n",
              "1    0.085092\n",
              "Name: certGbn, dtype: float64"
            ]
          },
          "metadata": {},
          "execution_count": 16
        }
      ]
    },
    {
      "cell_type": "code",
      "source": [
        "#기준모델을 타겟의 최빈값으로 설정.\n",
        "baseline2 = y_train2.mode()\n",
        "y_pred = [baseline2] * len(y_test2)\n",
        "print(\"기준모델 정확도: \", accuracy_score(y_test2, y_pred))"
      ],
      "metadata": {
        "colab": {
          "base_uri": "https://localhost:8080/"
        },
        "id": "4kGLGcLSgrOF",
        "outputId": "007c88ab-a558-446b-cc5c-3a05263b33bb"
      },
      "execution_count": 17,
      "outputs": [
        {
          "output_type": "stream",
          "name": "stdout",
          "text": [
            "기준모델 정확도:  0.5158311345646438\n"
          ]
        }
      ]
    },
    {
      "cell_type": "markdown",
      "source": [
        "> 로지스틱회귀모델"
      ],
      "metadata": {
        "id": "LwM3E5JKhGfE"
      }
    },
    {
      "cell_type": "code",
      "source": [
        "pipe2_lr = make_pipeline(\n",
        "    SimpleImputer(), \n",
        "    StandardScaler(),\n",
        "\n",
        "    LogisticRegression(n_jobs=-1)\n",
        ")\n",
        "\n",
        "k = 5\n",
        "\n",
        "scores = cross_val_score(pipe2_lr, X_train2, y_train2, cv=k, scoring='f1_weighted')\n",
        "print(f'f1 for {k} folds:', scores)\n",
        "print(f'교차검증 f1 평균:',scores.mean())"
      ],
      "metadata": {
        "colab": {
          "base_uri": "https://localhost:8080/"
        },
        "id": "QKVLlu-phQm7",
        "outputId": "c0218fb6-c9b4-4b82-882f-dee5dd58920d"
      },
      "execution_count": 18,
      "outputs": [
        {
          "output_type": "stream",
          "name": "stdout",
          "text": [
            "f1 for 5 folds: [0.65994698 0.63988645 0.6551629  0.68555629 0.65000298]\n",
            "교차검증 f1 평균: 0.6581111186094544\n"
          ]
        }
      ]
    },
    {
      "cell_type": "markdown",
      "source": [
        "> 랜덤포레스트모델"
      ],
      "metadata": {
        "id": "nFKRqIfVhQRW"
      }
    },
    {
      "cell_type": "code",
      "source": [
        "pipe2_rfc = make_pipeline(\n",
        "    SimpleImputer(), \n",
        "    RandomForestClassifier(n_estimators=100, random_state=2, n_jobs=-1)\n",
        ")\n",
        "\n",
        "\n",
        "k = 5\n",
        "\n",
        "scores = cross_val_score(pipe2_rfc, X_train2, y_train2, cv=k, scoring='f1_weighted') #다중분류에서 f1score 사용하려면 weighted\n",
        "print(f'f1 for {k} folds:', scores)\n",
        "print(f'교차검증 f1 평균:',scores.mean())"
      ],
      "metadata": {
        "colab": {
          "base_uri": "https://localhost:8080/"
        },
        "id": "ZhPkp3HXhhlD",
        "outputId": "26d5c6bd-aa09-44c3-d38f-3a8559b484cd"
      },
      "execution_count": 19,
      "outputs": [
        {
          "output_type": "stream",
          "name": "stdout",
          "text": [
            "f1 for 5 folds: [0.74413948 0.74312606 0.74435528 0.74218111 0.7425301 ]\n",
            "교차검증 f1 평균: 0.74326640517639\n"
          ]
        }
      ]
    },
    {
      "cell_type": "markdown",
      "source": [
        "> XGBoost모델"
      ],
      "metadata": {
        "id": "lO3Kh8IihZ6h"
      }
    },
    {
      "cell_type": "code",
      "source": [
        "pipe2_xg = make_pipeline(\n",
        "    SimpleImputer(), \n",
        "    XGBClassifier(random_state=2, n_jobs=-1)\n",
        ")\n",
        "\n",
        "pipe2_xg.fit(X_train2,y_train2)\n",
        "\n",
        "k = 5\n",
        "\n",
        "scores = cross_val_score(pipe2_xg, X_train2, y_train2, cv=k, \n",
        "                         scoring='f1_weighted')\n",
        "print(f'f1 for {k} folds:', scores)\n",
        "print(f'교차검증 f1 평균:',scores.mean())"
      ],
      "metadata": {
        "colab": {
          "base_uri": "https://localhost:8080/"
        },
        "id": "OvBALZS5hpYR",
        "outputId": "6666fced-4216-4df3-c137-fc5479659ba1"
      },
      "execution_count": 20,
      "outputs": [
        {
          "output_type": "stream",
          "name": "stdout",
          "text": [
            "f1 for 5 folds: [0.74019231 0.70004947 0.72225359 0.73380215 0.74990397]\n",
            "교차검증 f1 평균: 0.7292402982604944\n"
          ]
        }
      ]
    },
    {
      "cell_type": "markdown",
      "source": [
        "### 3. 유소년 모델링\n",
        "> 기준모델"
      ],
      "metadata": {
        "id": "hz1mvk28iHhf"
      }
    },
    {
      "cell_type": "code",
      "source": [
        "#train, test 셋으로 분리 , target 설정.\n",
        "train, test = train_test_split(df3, train_size=0.80, test_size=0.20, \n",
        "                              stratify=df3[target], random_state=2)\n",
        "features3 = df3.drop(columns=['ageClass','certGbn','exercise','testYm','ageGbn']).columns\n",
        "\n",
        "X_train3 = train[features3]\n",
        "y_train3 = train[target]\n",
        "X_test3 = test[features3]\n",
        "y_test3 = test[target]\n",
        "\n",
        "y_train3.value_counts(normalize=True)\n",
        "\n",
        "baseline3 = y_train3.mode()\n",
        "y_pred = [baseline3] * len(y_test3)\n",
        "print(\"기준모델 정확도: \", accuracy_score(y_test3, y_pred))"
      ],
      "metadata": {
        "colab": {
          "base_uri": "https://localhost:8080/"
        },
        "id": "ZLYMWl1siST-",
        "outputId": "0a126d08-f3ce-40f1-ea53-124530102a27"
      },
      "execution_count": 21,
      "outputs": [
        {
          "output_type": "stream",
          "name": "stdout",
          "text": [
            "기준모델 정확도:  0.7620528771384136\n"
          ]
        }
      ]
    },
    {
      "cell_type": "code",
      "source": [
        "df3.head()"
      ],
      "metadata": {
        "colab": {
          "base_uri": "https://localhost:8080/",
          "height": 655
        },
        "id": "NxtYPPsx7Thx",
        "outputId": "ea6f3116-2e78-4b54-f67b-b5ba32f35017"
      },
      "execution_count": 34,
      "outputs": [
        {
          "output_type": "execute_result",
          "data": {
            "text/plain": [
              "       ageClass  ageDegree ageGbn certGbn  height  weight  crunch  \\\n",
              "id                                                                  \n",
              "9            10         11    유소년       4   154.8    36.2      14   \n",
              "10           10         11    유소년       4   150.0    48.3       1   \n",
              "12           10         11    유소년       4   146.5    45.0      11   \n",
              "13           10         11    유소년       4   156.6    70.3       0   \n",
              "14           10         11    유소년       4   145.7    31.6      18   \n",
              "...         ...        ...    ...     ...     ...     ...     ...   \n",
              "16493        10         11    유소년       4   147.2    46.7       6   \n",
              "16494        10         12    유소년       4   151.1    49.3      44   \n",
              "16495        10         12    유소년       3   154.6    39.0      62   \n",
              "16496        10         11    유소년       4   148.9    57.3      11   \n",
              "16497        10         11    유소년       3   147.2    40.0      55   \n",
              "\n",
              "       trunkFlexion  IllinoisAgility   BMI  standinglongjump  \\\n",
              "id                                                             \n",
              "9               8.5              NaN  15.1             135.0   \n",
              "10              3.5              NaN  21.5              73.0   \n",
              "12             18.0              NaN  21.0             154.0   \n",
              "13             -1.0              NaN  28.7             125.0   \n",
              "14              7.5              NaN  14.9             100.0   \n",
              "...             ...              ...   ...               ...   \n",
              "16493          -6.0              NaN  21.6             108.0   \n",
              "16494           1.7              NaN  21.6             145.0   \n",
              "16495          12.5              NaN  16.3             217.0   \n",
              "16496          -0.5              NaN  25.8             147.0   \n",
              "16497           6.2              NaN  18.5             159.0   \n",
              "\n",
              "                                                exercise  testYm  \n",
              "id                                                                \n",
              "9                        준비운동:벽패스,십(十)자 드리블,공 양손으로 주고 받기  202110  \n",
              "10     준비운동:윗몸말아올리기,팔굽혀펴기,앉았다 일어서기,반복 옆뛰기,2단 줄넘기,벽잡고 ...  202110  \n",
              "12     준비운동:1단 줄넘기,계단 오르기,왕복달리기,벽패스,십(十)자 드리블,공 양손으로 ...  202110  \n",
              "13     준비운동:윗몸말아올리기,팔굽혀펴기,다리 벌려 옆으로 상체 숙이기,발목 얹고 다리 잡...  202110  \n",
              "14     준비운동:1단 줄넘기,계단 오르기,왕복달리기,반복 옆뛰기,잔발치기,벽패스,십(十)자...  202110  \n",
              "...                                                  ...     ...  \n",
              "16493  마무리운동:다리 벌려 앞으로 상체 숙이기,다리 벌려 옆으로 상체 숙이기,다리 모아 ...  202207  \n",
              "16494  본운동:제자리 뛰기,왕복달리기,계단 오르기,박스 오르내리기,박스 옆으로 번갈아 뛰기...  202207  \n",
              "16495  본운동:제자리 뛰기,왕복달리기,계단 오르기,박스 오르내리기,박스 옆으로 번갈아 뛰기...  202207  \n",
              "16496  본운동:엎드려 다리 들어올리기,팔굽혀펴기,엎드려 팔로 걷기,의자 잡고 팔 뒤로 굽히...  202207  \n",
              "16497  마무리운동:다리 벌려 앞으로 상체 숙이기,다리 벌려 옆으로 상체 숙이기,다리 모아 ...  202207  \n",
              "\n",
              "[3212 rows x 13 columns]"
            ],
            "text/html": [
              "\n",
              "  <div id=\"df-e28f7978-4d7f-4ce6-ae0b-cfa18bc8db97\">\n",
              "    <div class=\"colab-df-container\">\n",
              "      <div>\n",
              "<style scoped>\n",
              "    .dataframe tbody tr th:only-of-type {\n",
              "        vertical-align: middle;\n",
              "    }\n",
              "\n",
              "    .dataframe tbody tr th {\n",
              "        vertical-align: top;\n",
              "    }\n",
              "\n",
              "    .dataframe thead th {\n",
              "        text-align: right;\n",
              "    }\n",
              "</style>\n",
              "<table border=\"1\" class=\"dataframe\">\n",
              "  <thead>\n",
              "    <tr style=\"text-align: right;\">\n",
              "      <th></th>\n",
              "      <th>ageClass</th>\n",
              "      <th>ageDegree</th>\n",
              "      <th>ageGbn</th>\n",
              "      <th>certGbn</th>\n",
              "      <th>height</th>\n",
              "      <th>weight</th>\n",
              "      <th>crunch</th>\n",
              "      <th>trunkFlexion</th>\n",
              "      <th>IllinoisAgility</th>\n",
              "      <th>BMI</th>\n",
              "      <th>standinglongjump</th>\n",
              "      <th>exercise</th>\n",
              "      <th>testYm</th>\n",
              "    </tr>\n",
              "    <tr>\n",
              "      <th>id</th>\n",
              "      <th></th>\n",
              "      <th></th>\n",
              "      <th></th>\n",
              "      <th></th>\n",
              "      <th></th>\n",
              "      <th></th>\n",
              "      <th></th>\n",
              "      <th></th>\n",
              "      <th></th>\n",
              "      <th></th>\n",
              "      <th></th>\n",
              "      <th></th>\n",
              "      <th></th>\n",
              "    </tr>\n",
              "  </thead>\n",
              "  <tbody>\n",
              "    <tr>\n",
              "      <th>9</th>\n",
              "      <td>10</td>\n",
              "      <td>11</td>\n",
              "      <td>유소년</td>\n",
              "      <td>4</td>\n",
              "      <td>154.8</td>\n",
              "      <td>36.2</td>\n",
              "      <td>14</td>\n",
              "      <td>8.5</td>\n",
              "      <td>NaN</td>\n",
              "      <td>15.1</td>\n",
              "      <td>135.0</td>\n",
              "      <td>준비운동:벽패스,십(十)자 드리블,공 양손으로 주고 받기</td>\n",
              "      <td>202110</td>\n",
              "    </tr>\n",
              "    <tr>\n",
              "      <th>10</th>\n",
              "      <td>10</td>\n",
              "      <td>11</td>\n",
              "      <td>유소년</td>\n",
              "      <td>4</td>\n",
              "      <td>150.0</td>\n",
              "      <td>48.3</td>\n",
              "      <td>1</td>\n",
              "      <td>3.5</td>\n",
              "      <td>NaN</td>\n",
              "      <td>21.5</td>\n",
              "      <td>73.0</td>\n",
              "      <td>준비운동:윗몸말아올리기,팔굽혀펴기,앉았다 일어서기,반복 옆뛰기,2단 줄넘기,벽잡고 ...</td>\n",
              "      <td>202110</td>\n",
              "    </tr>\n",
              "    <tr>\n",
              "      <th>12</th>\n",
              "      <td>10</td>\n",
              "      <td>11</td>\n",
              "      <td>유소년</td>\n",
              "      <td>4</td>\n",
              "      <td>146.5</td>\n",
              "      <td>45.0</td>\n",
              "      <td>11</td>\n",
              "      <td>18.0</td>\n",
              "      <td>NaN</td>\n",
              "      <td>21.0</td>\n",
              "      <td>154.0</td>\n",
              "      <td>준비운동:1단 줄넘기,계단 오르기,왕복달리기,벽패스,십(十)자 드리블,공 양손으로 ...</td>\n",
              "      <td>202110</td>\n",
              "    </tr>\n",
              "    <tr>\n",
              "      <th>13</th>\n",
              "      <td>10</td>\n",
              "      <td>11</td>\n",
              "      <td>유소년</td>\n",
              "      <td>4</td>\n",
              "      <td>156.6</td>\n",
              "      <td>70.3</td>\n",
              "      <td>0</td>\n",
              "      <td>-1.0</td>\n",
              "      <td>NaN</td>\n",
              "      <td>28.7</td>\n",
              "      <td>125.0</td>\n",
              "      <td>준비운동:윗몸말아올리기,팔굽혀펴기,다리 벌려 옆으로 상체 숙이기,발목 얹고 다리 잡...</td>\n",
              "      <td>202110</td>\n",
              "    </tr>\n",
              "    <tr>\n",
              "      <th>14</th>\n",
              "      <td>10</td>\n",
              "      <td>11</td>\n",
              "      <td>유소년</td>\n",
              "      <td>4</td>\n",
              "      <td>145.7</td>\n",
              "      <td>31.6</td>\n",
              "      <td>18</td>\n",
              "      <td>7.5</td>\n",
              "      <td>NaN</td>\n",
              "      <td>14.9</td>\n",
              "      <td>100.0</td>\n",
              "      <td>준비운동:1단 줄넘기,계단 오르기,왕복달리기,반복 옆뛰기,잔발치기,벽패스,십(十)자...</td>\n",
              "      <td>202110</td>\n",
              "    </tr>\n",
              "    <tr>\n",
              "      <th>...</th>\n",
              "      <td>...</td>\n",
              "      <td>...</td>\n",
              "      <td>...</td>\n",
              "      <td>...</td>\n",
              "      <td>...</td>\n",
              "      <td>...</td>\n",
              "      <td>...</td>\n",
              "      <td>...</td>\n",
              "      <td>...</td>\n",
              "      <td>...</td>\n",
              "      <td>...</td>\n",
              "      <td>...</td>\n",
              "      <td>...</td>\n",
              "    </tr>\n",
              "    <tr>\n",
              "      <th>16493</th>\n",
              "      <td>10</td>\n",
              "      <td>11</td>\n",
              "      <td>유소년</td>\n",
              "      <td>4</td>\n",
              "      <td>147.2</td>\n",
              "      <td>46.7</td>\n",
              "      <td>6</td>\n",
              "      <td>-6.0</td>\n",
              "      <td>NaN</td>\n",
              "      <td>21.6</td>\n",
              "      <td>108.0</td>\n",
              "      <td>마무리운동:다리 벌려 앞으로 상체 숙이기,다리 벌려 옆으로 상체 숙이기,다리 모아 ...</td>\n",
              "      <td>202207</td>\n",
              "    </tr>\n",
              "    <tr>\n",
              "      <th>16494</th>\n",
              "      <td>10</td>\n",
              "      <td>12</td>\n",
              "      <td>유소년</td>\n",
              "      <td>4</td>\n",
              "      <td>151.1</td>\n",
              "      <td>49.3</td>\n",
              "      <td>44</td>\n",
              "      <td>1.7</td>\n",
              "      <td>NaN</td>\n",
              "      <td>21.6</td>\n",
              "      <td>145.0</td>\n",
              "      <td>본운동:제자리 뛰기,왕복달리기,계단 오르기,박스 오르내리기,박스 옆으로 번갈아 뛰기...</td>\n",
              "      <td>202207</td>\n",
              "    </tr>\n",
              "    <tr>\n",
              "      <th>16495</th>\n",
              "      <td>10</td>\n",
              "      <td>12</td>\n",
              "      <td>유소년</td>\n",
              "      <td>3</td>\n",
              "      <td>154.6</td>\n",
              "      <td>39.0</td>\n",
              "      <td>62</td>\n",
              "      <td>12.5</td>\n",
              "      <td>NaN</td>\n",
              "      <td>16.3</td>\n",
              "      <td>217.0</td>\n",
              "      <td>본운동:제자리 뛰기,왕복달리기,계단 오르기,박스 오르내리기,박스 옆으로 번갈아 뛰기...</td>\n",
              "      <td>202207</td>\n",
              "    </tr>\n",
              "    <tr>\n",
              "      <th>16496</th>\n",
              "      <td>10</td>\n",
              "      <td>11</td>\n",
              "      <td>유소년</td>\n",
              "      <td>4</td>\n",
              "      <td>148.9</td>\n",
              "      <td>57.3</td>\n",
              "      <td>11</td>\n",
              "      <td>-0.5</td>\n",
              "      <td>NaN</td>\n",
              "      <td>25.8</td>\n",
              "      <td>147.0</td>\n",
              "      <td>본운동:엎드려 다리 들어올리기,팔굽혀펴기,엎드려 팔로 걷기,의자 잡고 팔 뒤로 굽히...</td>\n",
              "      <td>202207</td>\n",
              "    </tr>\n",
              "    <tr>\n",
              "      <th>16497</th>\n",
              "      <td>10</td>\n",
              "      <td>11</td>\n",
              "      <td>유소년</td>\n",
              "      <td>3</td>\n",
              "      <td>147.2</td>\n",
              "      <td>40.0</td>\n",
              "      <td>55</td>\n",
              "      <td>6.2</td>\n",
              "      <td>NaN</td>\n",
              "      <td>18.5</td>\n",
              "      <td>159.0</td>\n",
              "      <td>마무리운동:다리 벌려 앞으로 상체 숙이기,다리 벌려 옆으로 상체 숙이기,다리 모아 ...</td>\n",
              "      <td>202207</td>\n",
              "    </tr>\n",
              "  </tbody>\n",
              "</table>\n",
              "<p>3212 rows × 13 columns</p>\n",
              "</div>\n",
              "      <button class=\"colab-df-convert\" onclick=\"convertToInteractive('df-e28f7978-4d7f-4ce6-ae0b-cfa18bc8db97')\"\n",
              "              title=\"Convert this dataframe to an interactive table.\"\n",
              "              style=\"display:none;\">\n",
              "        \n",
              "  <svg xmlns=\"http://www.w3.org/2000/svg\" height=\"24px\"viewBox=\"0 0 24 24\"\n",
              "       width=\"24px\">\n",
              "    <path d=\"M0 0h24v24H0V0z\" fill=\"none\"/>\n",
              "    <path d=\"M18.56 5.44l.94 2.06.94-2.06 2.06-.94-2.06-.94-.94-2.06-.94 2.06-2.06.94zm-11 1L8.5 8.5l.94-2.06 2.06-.94-2.06-.94L8.5 2.5l-.94 2.06-2.06.94zm10 10l.94 2.06.94-2.06 2.06-.94-2.06-.94-.94-2.06-.94 2.06-2.06.94z\"/><path d=\"M17.41 7.96l-1.37-1.37c-.4-.4-.92-.59-1.43-.59-.52 0-1.04.2-1.43.59L10.3 9.45l-7.72 7.72c-.78.78-.78 2.05 0 2.83L4 21.41c.39.39.9.59 1.41.59.51 0 1.02-.2 1.41-.59l7.78-7.78 2.81-2.81c.8-.78.8-2.07 0-2.86zM5.41 20L4 18.59l7.72-7.72 1.47 1.35L5.41 20z\"/>\n",
              "  </svg>\n",
              "      </button>\n",
              "      \n",
              "  <style>\n",
              "    .colab-df-container {\n",
              "      display:flex;\n",
              "      flex-wrap:wrap;\n",
              "      gap: 12px;\n",
              "    }\n",
              "\n",
              "    .colab-df-convert {\n",
              "      background-color: #E8F0FE;\n",
              "      border: none;\n",
              "      border-radius: 50%;\n",
              "      cursor: pointer;\n",
              "      display: none;\n",
              "      fill: #1967D2;\n",
              "      height: 32px;\n",
              "      padding: 0 0 0 0;\n",
              "      width: 32px;\n",
              "    }\n",
              "\n",
              "    .colab-df-convert:hover {\n",
              "      background-color: #E2EBFA;\n",
              "      box-shadow: 0px 1px 2px rgba(60, 64, 67, 0.3), 0px 1px 3px 1px rgba(60, 64, 67, 0.15);\n",
              "      fill: #174EA6;\n",
              "    }\n",
              "\n",
              "    [theme=dark] .colab-df-convert {\n",
              "      background-color: #3B4455;\n",
              "      fill: #D2E3FC;\n",
              "    }\n",
              "\n",
              "    [theme=dark] .colab-df-convert:hover {\n",
              "      background-color: #434B5C;\n",
              "      box-shadow: 0px 1px 3px 1px rgba(0, 0, 0, 0.15);\n",
              "      filter: drop-shadow(0px 1px 2px rgba(0, 0, 0, 0.3));\n",
              "      fill: #FFFFFF;\n",
              "    }\n",
              "  </style>\n",
              "\n",
              "      <script>\n",
              "        const buttonEl =\n",
              "          document.querySelector('#df-e28f7978-4d7f-4ce6-ae0b-cfa18bc8db97 button.colab-df-convert');\n",
              "        buttonEl.style.display =\n",
              "          google.colab.kernel.accessAllowed ? 'block' : 'none';\n",
              "\n",
              "        async function convertToInteractive(key) {\n",
              "          const element = document.querySelector('#df-e28f7978-4d7f-4ce6-ae0b-cfa18bc8db97');\n",
              "          const dataTable =\n",
              "            await google.colab.kernel.invokeFunction('convertToInteractive',\n",
              "                                                     [key], {});\n",
              "          if (!dataTable) return;\n",
              "\n",
              "          const docLinkHtml = 'Like what you see? Visit the ' +\n",
              "            '<a target=\"_blank\" href=https://colab.research.google.com/notebooks/data_table.ipynb>data table notebook</a>'\n",
              "            + ' to learn more about interactive tables.';\n",
              "          element.innerHTML = '';\n",
              "          dataTable['output_type'] = 'display_data';\n",
              "          await google.colab.output.renderOutput(dataTable, element);\n",
              "          const docLink = document.createElement('div');\n",
              "          docLink.innerHTML = docLinkHtml;\n",
              "          element.appendChild(docLink);\n",
              "        }\n",
              "      </script>\n",
              "    </div>\n",
              "  </div>\n",
              "  "
            ]
          },
          "metadata": {},
          "execution_count": 34
        }
      ]
    },
    {
      "cell_type": "markdown",
      "source": [
        "> 로지스틱회귀모델"
      ],
      "metadata": {
        "id": "As0sX0xIik65"
      }
    },
    {
      "cell_type": "code",
      "source": [
        "pipe3_lr = make_pipeline(\n",
        "    SimpleImputer(), \n",
        "    StandardScaler(),\n",
        "\n",
        "    LogisticRegression(n_jobs=-1)\n",
        ")\n",
        "\n",
        "k = 5\n",
        "\n",
        "scores = cross_val_score(pipe3_lr, X_train3, y_train3, cv=k, scoring='f1_weighted')\n",
        "print(f'f1 for {k} folds:', scores)\n",
        "print(f'교차검증 f1 평균:',scores.mean())"
      ],
      "metadata": {
        "colab": {
          "base_uri": "https://localhost:8080/"
        },
        "outputId": "f1d6079c-f838-4c32-98e9-495804512f1f",
        "id": "6-X0U_wMitjx"
      },
      "execution_count": 22,
      "outputs": [
        {
          "output_type": "stream",
          "name": "stdout",
          "text": [
            "f1 for 5 folds: [0.71227163 0.70862495 0.73570925 0.72276772 0.77089056]\n",
            "교차검증 f1 평균: 0.7300528207738002\n"
          ]
        }
      ]
    },
    {
      "cell_type": "markdown",
      "source": [
        "> 랜덤포레스트모델"
      ],
      "metadata": {
        "id": "DCNZQybGitjy"
      }
    },
    {
      "cell_type": "code",
      "source": [
        "pipe3_rfc = make_pipeline(\n",
        "    SimpleImputer(), \n",
        "    RandomForestClassifier(n_estimators=100, random_state=2, n_jobs=-1)\n",
        ")\n",
        "\n",
        "\n",
        "k = 5\n",
        "\n",
        "scores = cross_val_score(pipe3_rfc, X_train3, y_train3, cv=k, scoring='f1_weighted') #다중분류에서 f1score 사용하려면 weighted\n",
        "print(f'f1 for {k} folds:', scores)\n",
        "print(f'교차검증 f1 평균:',scores.mean())"
      ],
      "metadata": {
        "colab": {
          "base_uri": "https://localhost:8080/"
        },
        "outputId": "fbf444b0-4c7c-4c31-8deb-692d846364a3",
        "id": "BC6Y3F32itjy"
      },
      "execution_count": 23,
      "outputs": [
        {
          "output_type": "stream",
          "name": "stdout",
          "text": [
            "f1 for 5 folds: [0.77544473 0.81815492 0.82480918 0.80333573 0.82024068]\n",
            "교차검증 f1 평균: 0.8083970457907632\n"
          ]
        }
      ]
    },
    {
      "cell_type": "markdown",
      "source": [
        "> XGBoost모델"
      ],
      "metadata": {
        "id": "f1pkCpp6itjy"
      }
    },
    {
      "cell_type": "code",
      "source": [
        "pipe3_xg = make_pipeline(\n",
        "    SimpleImputer(), \n",
        "    XGBClassifier(random_state=2, n_jobs=-1)\n",
        ")\n",
        "\n",
        "pipe3_xg.fit(X_train3,y_train3)\n",
        "\n",
        "k = 5\n",
        "\n",
        "scores = cross_val_score(pipe3_xg, X_train3, y_train3, cv=k, \n",
        "                         scoring='f1_weighted')\n",
        "print(f'f1 for {k} folds:', scores)\n",
        "print(f'교차검증 f1 평균:',scores.mean())"
      ],
      "metadata": {
        "colab": {
          "base_uri": "https://localhost:8080/"
        },
        "outputId": "5b799d6b-ba46-4ccc-c2d7-f2e5700a3d98",
        "id": "StHO03DVitjz"
      },
      "execution_count": 24,
      "outputs": [
        {
          "output_type": "stream",
          "name": "stdout",
          "text": [
            "f1 for 5 folds: [0.79622046 0.82800065 0.8408899  0.81381344 0.82991119]\n",
            "교차검증 f1 평균: 0.8217671281175036\n"
          ]
        }
      ]
    },
    {
      "cell_type": "markdown",
      "source": [
        "###4. 청소년 모델링\n",
        "> 기준모델"
      ],
      "metadata": {
        "id": "KtuO5nbEjHFs"
      }
    },
    {
      "cell_type": "code",
      "source": [
        "\n",
        "train, test = train_test_split(df4, train_size=0.80, test_size=0.20, \n",
        "                              stratify=df4[target], random_state=2)\n",
        "features4 = df4.drop(columns=['ageClass','certGbn','exercise','testYm','ageGbn']).columns\n",
        "\n",
        "X_train4 = train[features4]\n",
        "y_train4 = train[target]\n",
        "X_test4 = test[features4]\n",
        "y_test4 = test[target]\n",
        "\n",
        "y_train4.value_counts(normalize=True)\n",
        "\n",
        "baseline4 = y_train4.mode()\n",
        "y_pred = [baseline4] * len(y_test4)\n",
        "print(\"기준모델 정확도: \", accuracy_score(y_test4, y_pred))"
      ],
      "metadata": {
        "colab": {
          "base_uri": "https://localhost:8080/"
        },
        "outputId": "b1bc7bec-5ca2-4e67-d592-5011f841108a",
        "id": "kUDz7KVQjSPG"
      },
      "execution_count": 25,
      "outputs": [
        {
          "output_type": "stream",
          "name": "stdout",
          "text": [
            "기준모델 정확도:  0.6746031746031746\n"
          ]
        }
      ]
    },
    {
      "cell_type": "markdown",
      "source": [
        "> 로지스틱회귀모델"
      ],
      "metadata": {
        "id": "DindgQnXjSPH"
      }
    },
    {
      "cell_type": "code",
      "source": [
        "pipe4_lr = make_pipeline(\n",
        "    SimpleImputer(), \n",
        "    StandardScaler(),\n",
        "\n",
        "    LogisticRegression(n_jobs=-1)\n",
        ")\n",
        "\n",
        "k = 5\n",
        "\n",
        "scores = cross_val_score(pipe4_lr, X_train4, y_train4, cv=k, scoring='f1_weighted')\n",
        "print(f'f1 for {k} folds:', scores)\n",
        "print(f'교차검증 f1 평균:',scores.mean())"
      ],
      "metadata": {
        "colab": {
          "base_uri": "https://localhost:8080/"
        },
        "outputId": "770fb4d3-386a-4e3a-ab4d-8d5a8759ce5f",
        "id": "EL1mQ999jSPH"
      },
      "execution_count": 26,
      "outputs": [
        {
          "output_type": "stream",
          "name": "stdout",
          "text": [
            "f1 for 5 folds: [0.64105594 0.64339499 0.63686066 0.6480251  0.63431441]\n",
            "교차검증 f1 평균: 0.6407302217330173\n"
          ]
        }
      ]
    },
    {
      "cell_type": "markdown",
      "source": [
        "> 랜덤포레스트모델"
      ],
      "metadata": {
        "id": "M_6ly8fVjSPH"
      }
    },
    {
      "cell_type": "code",
      "source": [
        "pipe4_rfc = make_pipeline(\n",
        "    SimpleImputer(), \n",
        "    RandomForestClassifier(n_estimators=100, random_state=2, n_jobs=-1)\n",
        ")\n",
        "\n",
        "pipe4_rfc.fit(X_train4,y_train4)\n",
        "\n",
        "k = 5\n",
        "\n",
        "scores = cross_val_score(pipe4_rfc, X_train4, y_train4, cv=k, scoring='f1_weighted') #다중분류에서 f1score 사용하려면 weighted\n",
        "print(f'f1 for {k} folds:', scores)\n",
        "print(f'교차검증 f1 평균:',scores.mean())"
      ],
      "metadata": {
        "colab": {
          "base_uri": "https://localhost:8080/"
        },
        "outputId": "7aa20620-a6fb-4927-c8f3-12c367768741",
        "id": "6riprcnrjSPH"
      },
      "execution_count": 27,
      "outputs": [
        {
          "output_type": "stream",
          "name": "stdout",
          "text": [
            "f1 for 5 folds: [0.73079886 0.73140659 0.73681567 0.74525525 0.72084894]\n",
            "교차검증 f1 평균: 0.7330250630936702\n"
          ]
        }
      ]
    },
    {
      "cell_type": "markdown",
      "source": [
        "> XGBoost모델"
      ],
      "metadata": {
        "id": "pssSXi4zjSPI"
      }
    },
    {
      "cell_type": "code",
      "source": [
        "pipe4_xg = make_pipeline(\n",
        "    SimpleImputer(), \n",
        "    XGBClassifier(random_state=2, n_jobs=-1)\n",
        ")\n",
        "\n",
        "\n",
        "k = 5\n",
        "\n",
        "scores = cross_val_score(pipe4_xg, X_train4, y_train4, cv=k, \n",
        "                         scoring='f1_weighted')\n",
        "print(f'f1 for {k} folds:', scores)\n",
        "print(f'교차검증 f1 평균:',scores.mean())"
      ],
      "metadata": {
        "colab": {
          "base_uri": "https://localhost:8080/"
        },
        "outputId": "f14bc77f-38c7-46d4-c016-1e1276b4c562",
        "id": "Wlx3CvCBjSPI"
      },
      "execution_count": 28,
      "outputs": [
        {
          "output_type": "stream",
          "name": "stdout",
          "text": [
            "f1 for 5 folds: [0.73939958 0.71528292 0.73010331 0.72717777 0.71723255]\n",
            "교차검증 f1 평균: 0.7258392269439307\n"
          ]
        }
      ]
    },
    {
      "cell_type": "markdown",
      "source": [
        "### 결과\n",
        " >유소년모델을 제외한 나머지는 랜덤포레스트로 유소년은 xgboost로 결정."
      ],
      "metadata": {
        "id": "FUqzu6SKHY-I"
      }
    },
    {
      "cell_type": "markdown",
      "source": [
        "\n",
        "\n",
        "# 모델 피클파일로 저장"
      ],
      "metadata": {
        "id": "xkCQwkk8jniV"
      }
    },
    {
      "cell_type": "code",
      "source": [
        "# 해당모델들을 피클라이브러리를 이용하여 피클파일로 저장."
      ],
      "metadata": {
        "id": "2d96T84DkDtC"
      },
      "execution_count": 29,
      "outputs": []
    },
    {
      "cell_type": "code",
      "source": [
        "import pickle \n",
        "with open('senior.pickle','wb') as fw:\n",
        "    pickle.dump(pipe1_rfc, fw)"
      ],
      "metadata": {
        "id": "4K4fsYITkMbD"
      },
      "execution_count": 30,
      "outputs": []
    },
    {
      "cell_type": "code",
      "source": [
        "with open('middle.pickle','wb') as fw:\n",
        "    pickle.dump(pipe2_rfc, fw)"
      ],
      "metadata": {
        "id": "hPzV2DX2kM2s"
      },
      "execution_count": 31,
      "outputs": []
    },
    {
      "cell_type": "code",
      "source": [
        "with open('underaged.pickle','wb') as fw:\n",
        "    pickle.dump(pipe3_xg, fw)"
      ],
      "metadata": {
        "id": "IivdFEEgkNuT"
      },
      "execution_count": 32,
      "outputs": []
    },
    {
      "cell_type": "code",
      "source": [
        "with open('youth.pickle','wb') as fw:\n",
        "    pickle.dump(pipe4_rfc, fw)"
      ],
      "metadata": {
        "id": "LfpFJXdqkOLT"
      },
      "execution_count": 33,
      "outputs": []
    }
  ]
}