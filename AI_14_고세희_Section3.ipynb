{
  "nbformat": 4,
  "nbformat_minor": 0,
  "metadata": {
    "colab": {
      "name": "AI_14_고세희_Section3",
      "provenance": [],
      "collapsed_sections": [],
      "toc_visible": true,
      "authorship_tag": "ABX9TyMF6iocFt+r/e3yfcPzD17/",
      "include_colab_link": true
    },
    "kernelspec": {
      "name": "python3",
      "display_name": "Python 3"
    },
    "language_info": {
      "name": "python"
    }
  },
  "cells": [
    {
      "cell_type": "markdown",
      "metadata": {
        "id": "view-in-github",
        "colab_type": "text"
      },
      "source": [
        "<a href=\"https://colab.research.google.com/github/sseyonafre/Project/blob/main/AI_14_%EA%B3%A0%EC%84%B8%ED%9D%AC_Section3.ipynb\" target=\"_parent\"><img src=\"https://colab.research.google.com/assets/colab-badge.svg\" alt=\"Open In Colab\"/></a>"
      ]
    },
    {
      "cell_type": "code",
      "execution_count": 1,
      "metadata": {
        "colab": {
          "resources": {
            "http://localhost:8080/nbextensions/google.colab/files.js": {
              "data": "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",
              "ok": true,
              "headers": [
                [
                  "content-type",
                  "application/javascript"
                ]
              ],
              "status": 200,
              "status_text": ""
            }
          },
          "base_uri": "https://localhost:8080/",
          "height": 74
        },
        "id": "fG68oFsmyfmW",
        "outputId": "0b845a8e-2baf-4ea6-fe32-062255e4f6fd"
      },
      "outputs": [
        {
          "output_type": "display_data",
          "data": {
            "text/plain": [
              "<IPython.core.display.HTML object>"
            ],
            "text/html": [
              "\n",
              "     <input type=\"file\" id=\"files-e56477c0-ab43-4dac-bbe7-af283fc1e8e7\" name=\"files[]\" multiple disabled\n",
              "        style=\"border:none\" />\n",
              "     <output id=\"result-e56477c0-ab43-4dac-bbe7-af283fc1e8e7\">\n",
              "      Upload widget is only available when the cell has been executed in the\n",
              "      current browser session. Please rerun this cell to enable.\n",
              "      </output>\n",
              "      <script src=\"/nbextensions/google.colab/files.js\"></script> "
            ]
          },
          "metadata": {}
        },
        {
          "output_type": "stream",
          "name": "stdout",
          "text": [
            "Saving user.csv to user.csv\n"
          ]
        }
      ],
      "source": [
        "from google.colab import files\n",
        "uploaded = files.upload()\n"
      ]
    },
    {
      "cell_type": "code",
      "source": [
        "import pandas as pd\n",
        "import numpy as np\n",
        "from sklearn.model_selection import train_test_split\n",
        "from sklearn.metrics import accuracy_score\n",
        "from sklearn.linear_model import LogisticRegression\n",
        "from sklearn.preprocessing import StandardScaler\n",
        "from sklearn.pipeline import make_pipeline\n",
        "from sklearn.impute import SimpleImputer\n",
        "from sklearn.ensemble import RandomForestClassifier\n",
        "from sklearn.model_selection import cross_val_score\n",
        "from xgboost import XGBClassifier"
      ],
      "metadata": {
        "id": "LDWUK3hEzQiF"
      },
      "execution_count": 7,
      "outputs": []
    },
    {
      "cell_type": "code",
      "source": [
        "df = pd.read_csv('user.csv',index_col = 1) "
      ],
      "metadata": {
        "id": "qsBNfpZJZDOK"
      },
      "execution_count": 8,
      "outputs": []
    },
    {
      "cell_type": "code",
      "source": [
        "df.info()"
      ],
      "metadata": {
        "colab": {
          "base_uri": "https://localhost:8080/"
        },
        "id": "h2tW5IiA9_co",
        "outputId": "57b8bc42-60e3-49da-9577-85ad411e061b"
      },
      "execution_count": 9,
      "outputs": [
        {
          "output_type": "stream",
          "name": "stdout",
          "text": [
            "<class 'pandas.core.frame.DataFrame'>\n",
            "Int64Index: 25317 entries, 1 to 25317\n",
            "Data columns (total 19 columns):\n",
            " #   Column            Non-Null Count  Dtype  \n",
            "---  ------            --------------  -----  \n",
            " 0   Unnamed: 0        25317 non-null  int64  \n",
            " 1   ageClass          25317 non-null  int64  \n",
            " 2   ageDegree         25317 non-null  int64  \n",
            " 3   ageGbn            25317 non-null  object \n",
            " 4   certGbn           25317 non-null  object \n",
            " 5   height            25317 non-null  float64\n",
            " 6   weight            25317 non-null  float64\n",
            " 7   crunch            25317 non-null  object \n",
            " 8   jump              25317 non-null  object \n",
            " 9   trunkFlexion      25317 non-null  object \n",
            " 10  IllinoisAgility   25317 non-null  object \n",
            " 11  BMI               25317 non-null  float64\n",
            " 12  situp             25317 non-null  object \n",
            " 13  standinglongjump  25317 non-null  object \n",
            " 14  standsit          25317 non-null  object \n",
            " 15  twominwalk        25317 non-null  object \n",
            " 16  threeMwalk        25317 non-null  object \n",
            " 17  exercise          25317 non-null  object \n",
            " 18  testYm            25317 non-null  int64  \n",
            "dtypes: float64(3), int64(4), object(12)\n",
            "memory usage: 3.9+ MB\n"
          ]
        }
      ]
    },
    {
      "cell_type": "markdown",
      "source": [
        "# **EDA**"
      ],
      "metadata": {
        "id": "YYc5Oxp6HG3q"
      }
    },
    {
      "cell_type": "code",
      "source": [
        "df.drop(columns=['Unnamed: 0'],inplace=True)\n",
        "df.drop_duplicates(keep='first', inplace=True)\n",
        "df.replace('-',np.nan,inplace=True)\n",
        "for i in ['jump','situp','crunch','trunkFlexion','IllinoisAgility','standinglongjump','twominwalk','threeMwalk']:\n",
        "    df[i]= df[i].astype(float)\n",
        "df['certGbn'] = df['certGbn'].astype('category')\n",
        "df.certGbn.replace({'참가증':'4','1등급':'1','2등급':'2','3등급':'3'},inplace=True)"
      ],
      "metadata": {
        "id": "kmvdgbTz93Lq"
      },
      "execution_count": 10,
      "outputs": []
    },
    {
      "cell_type": "code",
      "source": [
        "df1 = df.query(\"ageGbn=='노인'\")\n",
        "df2 = df.query(\"ageGbn=='성인'\")\n",
        "df3 = df.query(\"ageGbn=='유소년'\")\n",
        "df4 = df.query(\"ageGbn=='청소년'\")\n",
        "\n",
        "df1.drop(columns=['crunch','jump','IllinoisAgility','situp','standinglongjump'],inplace=True)\n",
        "df2.drop(columns=['crunch','jump','IllinoisAgility','standsit','twominwalk','threeMwalk'],inplace=True)\n",
        "df3.drop(columns=['jump','situp','standsit','twominwalk','threeMwalk'],inplace=True)\n",
        "df4.drop(columns=['crunch','situp','standsit','twominwalk','threeMwalk'],inplace=True)\n",
        "\n",
        "df1.standsit = df1.standsit.replace(np.nan,0)\n",
        "df2.situp = df2.situp.replace(np.nan,0).round(0).astype(int)\n",
        "df3.crunch = df3.crunch.replace(np.nan,0).round(0).astype(int)\n",
        "df4.jump = df4.jump.replace(np.nan,0).round(0).astype(int)"
      ],
      "metadata": {
        "id": "SlM8tQd0c6HK",
        "colab": {
          "base_uri": "https://localhost:8080/"
        },
        "outputId": "58f37aeb-b561-4297-b47c-0d976e080f49"
      },
      "execution_count": 11,
      "outputs": [
        {
          "output_type": "stream",
          "name": "stderr",
          "text": [
            "/usr/local/lib/python3.7/dist-packages/pandas/core/frame.py:4913: SettingWithCopyWarning: \n",
            "A value is trying to be set on a copy of a slice from a DataFrame\n",
            "\n",
            "See the caveats in the documentation: https://pandas.pydata.org/pandas-docs/stable/user_guide/indexing.html#returning-a-view-versus-a-copy\n",
            "  errors=errors,\n",
            "/usr/local/lib/python3.7/dist-packages/pandas/core/generic.py:5516: SettingWithCopyWarning: \n",
            "A value is trying to be set on a copy of a slice from a DataFrame.\n",
            "Try using .loc[row_indexer,col_indexer] = value instead\n",
            "\n",
            "See the caveats in the documentation: https://pandas.pydata.org/pandas-docs/stable/user_guide/indexing.html#returning-a-view-versus-a-copy\n",
            "  self[name] = value\n"
          ]
        }
      ]
    },
    {
      "cell_type": "markdown",
      "source": [
        "# **모델링**\n",
        "> ## 나이구분에 따라 검사항목이 다르기 때문에 모델을 나이구분별로 만들어 준다.\n"
      ],
      "metadata": {
        "id": "oTHHd5MdP_pw"
      }
    },
    {
      "cell_type": "markdown",
      "source": [
        "### 1. 노인층 모델링\n",
        "> 기준모델"
      ],
      "metadata": {
        "id": "gn48r2cSMsYP"
      }
    },
    {
      "cell_type": "code",
      "source": [
        "#노인층의 모델."
      ],
      "metadata": {
        "id": "RhniuSo0PIot"
      },
      "execution_count": 12,
      "outputs": []
    },
    {
      "cell_type": "code",
      "source": [
        "#train, test 셋으로 분리 , target 설정.\n",
        "\n",
        "target = 'certGbn'\n",
        "\n",
        "train, test = train_test_split(df1, train_size=0.80, test_size=0.20, \n",
        "                              stratify=df1[target], random_state=2)\n",
        "features1 = df1.drop(columns=['certGbn','exercise','testYm','ageGbn']).columns\n",
        "\n",
        "X_train1 = train[features1]\n",
        "y_train1 = train[target]\n",
        "X_test1 = test[features1]\n",
        "y_test1 = test[target]"
      ],
      "metadata": {
        "id": "YrJY2wWdcvYL"
      },
      "execution_count": 13,
      "outputs": []
    },
    {
      "cell_type": "code",
      "source": [
        "#기준모델 \n",
        "y_train1.value_counts(normalize=True) #불균형. 다중분류."
      ],
      "metadata": {
        "colab": {
          "base_uri": "https://localhost:8080/"
        },
        "id": "qLvjVwAG7y3T",
        "outputId": "0714fe8e-725c-49da-a4c0-01c79c9161ad"
      },
      "execution_count": 14,
      "outputs": [
        {
          "output_type": "execute_result",
          "data": {
            "text/plain": [
              "4    0.539503\n",
              "3    0.209932\n",
              "2    0.182844\n",
              "1    0.067720\n",
              "Name: certGbn, dtype: float64"
            ]
          },
          "metadata": {},
          "execution_count": 14
        }
      ]
    },
    {
      "cell_type": "code",
      "source": [
        "#기준모델을 타겟의 최빈값으로 설정.\n",
        "baseline1 = y_train1.mode()"
      ],
      "metadata": {
        "id": "rmw6yS6BOlKx"
      },
      "execution_count": 15,
      "outputs": []
    },
    {
      "cell_type": "code",
      "source": [
        "#기준모델의 정확도를 구해보자.\n",
        "y_pred = [baseline1] * len(y_test1)\n",
        "print(\"기준모델 정확도: \", accuracy_score(y_test1, y_pred))"
      ],
      "metadata": {
        "colab": {
          "base_uri": "https://localhost:8080/"
        },
        "id": "VNWKWBcv0yXf",
        "outputId": "d0d28ebe-7441-48d1-b5ce-28f2a0fe947c"
      },
      "execution_count": 16,
      "outputs": [
        {
          "output_type": "stream",
          "name": "stdout",
          "text": [
            "기준모델 정확도:  0.5405405405405406\n"
          ]
        }
      ]
    },
    {
      "cell_type": "markdown",
      "source": [
        "> 로지스틱회귀모델"
      ],
      "metadata": {
        "id": "5_IuUBhjbTWH"
      }
    },
    {
      "cell_type": "code",
      "source": [
        "#로지스틱회귀모델을 만들어 교차검증을 수행. #베이지안최적화를 사용해서 최적의 파라미터 찾아보자.\n",
        "\n",
        "pipe1_lr = make_pipeline(\n",
        "    SimpleImputer(), \n",
        "    StandardScaler(),\n",
        "\n",
        "    LogisticRegression(n_jobs=-1)\n",
        ")\n",
        "\n",
        "k = 5\n",
        "\n",
        "scores = cross_val_score(pipe1_lr, X_train1, y_train1, cv=k, scoring='f1_weighted')\n",
        "print(f'f1 for {k} folds:', scores)\n",
        "print(f'교차검증 f1 평균:',scores.mean())"
      ],
      "metadata": {
        "colab": {
          "base_uri": "https://localhost:8080/"
        },
        "id": "bx3Wt4fTbSNP",
        "outputId": "4ac315f9-fa4e-4efc-a30c-a37b2429cc8f"
      },
      "execution_count": 17,
      "outputs": [
        {
          "output_type": "stream",
          "name": "stdout",
          "text": [
            "f1 for 5 folds: [0.71166156 0.68817721 0.63592587 0.6282492  0.71689419]\n",
            "교차검증 f1 평균: 0.6761816057638542\n"
          ]
        }
      ]
    },
    {
      "cell_type": "markdown",
      "source": [
        "> 랜덤포레스트모델"
      ],
      "metadata": {
        "id": "gjf4a_aTQ1Jo"
      }
    },
    {
      "cell_type": "code",
      "source": [
        "pipe1_rfc = make_pipeline(\n",
        "    SimpleImputer(), \n",
        "    RandomForestClassifier(n_estimators=100, random_state=2, n_jobs=-1)\n",
        ")\n",
        "\n",
        "\n",
        "k = 5\n",
        "\n",
        "scores = cross_val_score(pipe1_rfc, X_train1, y_train1, cv=k, scoring='f1_weighted') #다중분류에서 f1score 사용하려면 weighted\n",
        "print(f'f1 for {k} folds:', scores)\n",
        "print(f'교차검증 f1 평균:',scores.mean())"
      ],
      "metadata": {
        "colab": {
          "base_uri": "https://localhost:8080/"
        },
        "id": "7XNAEn8hO8Ey",
        "outputId": "03453f4b-1da7-48ad-ae98-4be6b8f63830"
      },
      "execution_count": 18,
      "outputs": [
        {
          "output_type": "stream",
          "name": "stdout",
          "text": [
            "f1 for 5 folds: [0.67980155 0.66558409 0.68522215 0.68680743 0.6945366 ]\n",
            "교차검증 f1 평균: 0.6823903617498183\n"
          ]
        }
      ]
    },
    {
      "cell_type": "markdown",
      "source": [
        "> XGBoost모델\n"
      ],
      "metadata": {
        "id": "De4vmLEUeJJz"
      }
    },
    {
      "cell_type": "code",
      "source": [
        "\n",
        "pipe1_xg = make_pipeline(\n",
        "    SimpleImputer(), \n",
        "    XGBClassifier(random_state=2, n_jobs=-1)\n",
        ")\n",
        "\n",
        "pipe1_xg.fit(X_train1,y_train1)\n",
        "\n",
        "k = 5\n",
        "\n",
        "scores = cross_val_score(pipe1_xg, X_train1, y_train1, cv=k, \n",
        "                         scoring='f1_weighted')\n",
        "print(f'f1 for {k} folds:', scores)\n",
        "print(f'교차검증 f1 평균:',scores.mean())"
      ],
      "metadata": {
        "colab": {
          "base_uri": "https://localhost:8080/"
        },
        "id": "fnJqsDwGczMI",
        "outputId": "937bc1bd-602b-44a8-b88f-2a81e0f04a61"
      },
      "execution_count": 19,
      "outputs": [
        {
          "output_type": "stream",
          "name": "stdout",
          "text": [
            "f1 for 5 folds: [0.82017403 0.68023217 0.70262244 0.71711813 0.77427354]\n",
            "교차검증 f1 평균: 0.7388840621642527\n"
          ]
        }
      ]
    },
    {
      "cell_type": "markdown",
      "source": [
        "### 2. 성인층 모델링\n",
        "> 기준모델"
      ],
      "metadata": {
        "id": "g9dIcwARf2nY"
      }
    },
    {
      "cell_type": "code",
      "source": [
        "#train, test 셋으로 분리 , target 설정.\n",
        "\n",
        "train, test = train_test_split(df2, train_size=0.80, test_size=0.20, \n",
        "                              stratify=df2[target], random_state=2)\n",
        "features2 = df2.drop(columns=['certGbn','exercise','testYm','ageGbn']).columns\n",
        "\n",
        "X_train2 = train[features2]\n",
        "y_train2 = train[target]\n",
        "X_test2 = test[features2]\n",
        "y_test2 = test[target]"
      ],
      "metadata": {
        "id": "64h9B86efy98"
      },
      "execution_count": 20,
      "outputs": []
    },
    {
      "cell_type": "code",
      "source": [
        "#기준모델 \n",
        "y_train2.value_counts(normalize=True) #불균형. 다중분류."
      ],
      "metadata": {
        "colab": {
          "base_uri": "https://localhost:8080/"
        },
        "id": "i2Vr5sTTgi_b",
        "outputId": "87603387-47b0-497b-9808-861dfe29fc87"
      },
      "execution_count": 21,
      "outputs": [
        {
          "output_type": "execute_result",
          "data": {
            "text/plain": [
              "4    0.519111\n",
              "3    0.208268\n",
              "2    0.186427\n",
              "1    0.086193\n",
              "Name: certGbn, dtype: float64"
            ]
          },
          "metadata": {},
          "execution_count": 21
        }
      ]
    },
    {
      "cell_type": "code",
      "source": [
        "#기준모델을 타겟의 최빈값으로 설정.\n",
        "baseline2 = y_train2.mode()\n",
        "y_pred = [baseline2] * len(y_test2)\n",
        "print(\"기준모델 정확도: \", accuracy_score(y_test2, y_pred))"
      ],
      "metadata": {
        "colab": {
          "base_uri": "https://localhost:8080/"
        },
        "id": "4kGLGcLSgrOF",
        "outputId": "19eddfae-4269-4917-d428-1860383c71ae"
      },
      "execution_count": 22,
      "outputs": [
        {
          "output_type": "stream",
          "name": "stdout",
          "text": [
            "기준모델 정확도:  0.5195007800312013\n"
          ]
        }
      ]
    },
    {
      "cell_type": "markdown",
      "source": [
        "> 로지스틱회귀모델"
      ],
      "metadata": {
        "id": "LwM3E5JKhGfE"
      }
    },
    {
      "cell_type": "code",
      "source": [
        "pipe2_lr = make_pipeline(\n",
        "    SimpleImputer(), \n",
        "    StandardScaler(),\n",
        "\n",
        "    LogisticRegression(n_jobs=-1)\n",
        ")\n",
        "\n",
        "k = 5\n",
        "\n",
        "scores = cross_val_score(pipe2_lr, X_train2, y_train2, cv=k, scoring='f1_weighted')\n",
        "print(f'f1 for {k} folds:', scores)\n",
        "print(f'교차검증 f1 평균:',scores.mean())"
      ],
      "metadata": {
        "colab": {
          "base_uri": "https://localhost:8080/"
        },
        "id": "QKVLlu-phQm7",
        "outputId": "6adfb7b4-ea91-4b40-dd9f-4c9ef5928629"
      },
      "execution_count": 23,
      "outputs": [
        {
          "output_type": "stream",
          "name": "stdout",
          "text": [
            "f1 for 5 folds: [0.64076199 0.65860536 0.66421623 0.64354744 0.6676627 ]\n",
            "교차검증 f1 평균: 0.654958743589874\n"
          ]
        }
      ]
    },
    {
      "cell_type": "markdown",
      "source": [
        "> 랜덤포레스트모델"
      ],
      "metadata": {
        "id": "nFKRqIfVhQRW"
      }
    },
    {
      "cell_type": "code",
      "source": [
        "pipe2_rfc = make_pipeline(\n",
        "    SimpleImputer(), \n",
        "    RandomForestClassifier(n_estimators=100, random_state=2, n_jobs=-1)\n",
        ")\n",
        "\n",
        "\n",
        "k = 5\n",
        "\n",
        "scores = cross_val_score(pipe2_rfc, X_train2, y_train2, cv=k, scoring='f1_weighted') #다중분류에서 f1score 사용하려면 weighted\n",
        "print(f'f1 for {k} folds:', scores)\n",
        "print(f'교차검증 f1 평균:',scores.mean())"
      ],
      "metadata": {
        "colab": {
          "base_uri": "https://localhost:8080/"
        },
        "id": "ZhPkp3HXhhlD",
        "outputId": "841afbac-5053-45e7-ac2d-23ca4f718a78"
      },
      "execution_count": 24,
      "outputs": [
        {
          "output_type": "stream",
          "name": "stdout",
          "text": [
            "f1 for 5 folds: [0.74342812 0.77242505 0.70908607 0.70690818 0.73616673]\n",
            "교차검증 f1 평균: 0.7336028296832364\n"
          ]
        }
      ]
    },
    {
      "cell_type": "markdown",
      "source": [
        "> XGBoost모델"
      ],
      "metadata": {
        "id": "lO3Kh8IihZ6h"
      }
    },
    {
      "cell_type": "code",
      "source": [
        "pipe2_xg = make_pipeline(\n",
        "    SimpleImputer(), \n",
        "    XGBClassifier(random_state=2, n_jobs=-1)\n",
        ")\n",
        "\n",
        "pipe2_xg.fit(X_train2,y_train2)\n",
        "\n",
        "k = 5\n",
        "\n",
        "scores = cross_val_score(pipe2_xg, X_train2, y_train2, cv=k, \n",
        "                         scoring='f1_weighted')\n",
        "print(f'f1 for {k} folds:', scores)\n",
        "print(f'교차검증 f1 평균:',scores.mean())"
      ],
      "metadata": {
        "colab": {
          "base_uri": "https://localhost:8080/"
        },
        "id": "OvBALZS5hpYR",
        "outputId": "4ac85711-8db0-482c-9afb-15a3ed507d3b"
      },
      "execution_count": 25,
      "outputs": [
        {
          "output_type": "stream",
          "name": "stdout",
          "text": [
            "f1 for 5 folds: [0.73694475 0.74708276 0.69721111 0.70116918 0.75092663]\n",
            "교차검증 f1 평균: 0.7266668843859089\n"
          ]
        }
      ]
    },
    {
      "cell_type": "markdown",
      "source": [
        "### 3. 유소년 모델링\n",
        "> 기준모델"
      ],
      "metadata": {
        "id": "hz1mvk28iHhf"
      }
    },
    {
      "cell_type": "code",
      "source": [
        "#train, test 셋으로 분리 , target 설정.\n",
        "train, test = train_test_split(df3, train_size=0.80, test_size=0.20, \n",
        "                              stratify=df3[target], random_state=2)\n",
        "features3 = df3.drop(columns=['ageClass','certGbn','exercise','testYm','ageGbn']).columns\n",
        "\n",
        "X_train3 = train[features3]\n",
        "y_train3 = train[target]\n",
        "X_test3 = test[features3]\n",
        "y_test3 = test[target]\n",
        "\n",
        "y_train3.value_counts(normalize=True)\n",
        "\n",
        "baseline3 = y_train3.mode()\n",
        "y_pred = [baseline3] * len(y_test3)\n",
        "print(\"기준모델 정확도: \", accuracy_score(y_test3, y_pred))"
      ],
      "metadata": {
        "colab": {
          "base_uri": "https://localhost:8080/"
        },
        "id": "ZLYMWl1siST-",
        "outputId": "4f8879fd-adfd-4206-b3d9-d0b71f1fa9e3"
      },
      "execution_count": 26,
      "outputs": [
        {
          "output_type": "stream",
          "name": "stdout",
          "text": [
            "기준모델 정확도:  0.7662337662337663\n"
          ]
        }
      ]
    },
    {
      "cell_type": "markdown",
      "source": [
        "> 로지스틱회귀모델"
      ],
      "metadata": {
        "id": "As0sX0xIik65"
      }
    },
    {
      "cell_type": "code",
      "source": [
        "pipe3_lr = make_pipeline(\n",
        "    SimpleImputer(), \n",
        "    StandardScaler(),\n",
        "\n",
        "    LogisticRegression(n_jobs=-1)\n",
        ")\n",
        "\n",
        "k = 5\n",
        "\n",
        "scores = cross_val_score(pipe3_lr, X_train3, y_train3, cv=k, scoring='f1_weighted')\n",
        "print(f'f1 for {k} folds:', scores)\n",
        "print(f'교차검증 f1 평균:',scores.mean())"
      ],
      "metadata": {
        "colab": {
          "base_uri": "https://localhost:8080/"
        },
        "outputId": "6eb5d198-c0db-4087-b821-25a6c6b4dfcd",
        "id": "6-X0U_wMitjx"
      },
      "execution_count": 27,
      "outputs": [
        {
          "output_type": "stream",
          "name": "stdout",
          "text": [
            "f1 for 5 folds: [0.72533878 0.72811088 0.75015845 0.71788864 0.7237942 ]\n",
            "교차검증 f1 평균: 0.7290581899475773\n"
          ]
        }
      ]
    },
    {
      "cell_type": "markdown",
      "source": [
        "> 랜덤포레스트모델"
      ],
      "metadata": {
        "id": "DCNZQybGitjy"
      }
    },
    {
      "cell_type": "code",
      "source": [
        "pipe3_rfc = make_pipeline(\n",
        "    SimpleImputer(), \n",
        "    RandomForestClassifier(n_estimators=100, random_state=2, n_jobs=-1)\n",
        ")\n",
        "\n",
        "\n",
        "k = 5\n",
        "\n",
        "scores = cross_val_score(pipe3_rfc, X_train3, y_train3, cv=k, scoring='f1_weighted') #다중분류에서 f1score 사용하려면 weighted\n",
        "print(f'f1 for {k} folds:', scores)\n",
        "print(f'교차검증 f1 평균:',scores.mean())"
      ],
      "metadata": {
        "colab": {
          "base_uri": "https://localhost:8080/"
        },
        "outputId": "d41dbb2b-62a5-4d8e-877d-042bd82181f0",
        "id": "BC6Y3F32itjy"
      },
      "execution_count": 28,
      "outputs": [
        {
          "output_type": "stream",
          "name": "stdout",
          "text": [
            "f1 for 5 folds: [0.82000244 0.8110763  0.82788278 0.80956308 0.80679569]\n",
            "교차검증 f1 평균: 0.8150640587452884\n"
          ]
        }
      ]
    },
    {
      "cell_type": "markdown",
      "source": [
        "> XGBoost모델"
      ],
      "metadata": {
        "id": "f1pkCpp6itjy"
      }
    },
    {
      "cell_type": "code",
      "source": [
        "pipe3_xg = make_pipeline(\n",
        "    SimpleImputer(), \n",
        "    XGBClassifier(random_state=2, n_jobs=-1)\n",
        ")\n",
        "\n",
        "pipe3_xg.fit(X_train3,y_train3)\n",
        "\n",
        "k = 5\n",
        "\n",
        "scores = cross_val_score(pipe3_xg, X_train3, y_train3, cv=k, \n",
        "                         scoring='f1_weighted')\n",
        "print(f'f1 for {k} folds:', scores)\n",
        "print(f'교차검증 f1 평균:',scores.mean())"
      ],
      "metadata": {
        "colab": {
          "base_uri": "https://localhost:8080/"
        },
        "outputId": "892a3df3-5413-45ef-ade1-b0ffe4f6b712",
        "id": "StHO03DVitjz"
      },
      "execution_count": 29,
      "outputs": [
        {
          "output_type": "stream",
          "name": "stdout",
          "text": [
            "f1 for 5 folds: [0.82190689 0.82737683 0.85764958 0.81003079 0.83614339]\n",
            "교차검증 f1 평균: 0.8306214979168709\n"
          ]
        }
      ]
    },
    {
      "cell_type": "markdown",
      "source": [
        "###4. 청소년 모델링\n",
        "> 기준모델"
      ],
      "metadata": {
        "id": "KtuO5nbEjHFs"
      }
    },
    {
      "cell_type": "code",
      "source": [
        "\n",
        "train, test = train_test_split(df4, train_size=0.80, test_size=0.20, \n",
        "                              stratify=df4[target], random_state=2)\n",
        "features4 = df4.drop(columns=['ageClass','certGbn','exercise','testYm','ageGbn']).columns\n",
        "\n",
        "X_train4 = train[features4]\n",
        "y_train4 = train[target]\n",
        "X_test4 = test[features4]\n",
        "y_test4 = test[target]\n",
        "\n",
        "y_train4.value_counts(normalize=True)\n",
        "\n",
        "baseline4 = y_train4.mode()\n",
        "y_pred = [baseline4] * len(y_test4)\n",
        "print(\"기준모델 정확도: \", accuracy_score(y_test4, y_pred))"
      ],
      "metadata": {
        "colab": {
          "base_uri": "https://localhost:8080/"
        },
        "outputId": "4d6633e7-b8ce-4fb7-b294-1ca3b0b15190",
        "id": "kUDz7KVQjSPG"
      },
      "execution_count": 30,
      "outputs": [
        {
          "output_type": "stream",
          "name": "stdout",
          "text": [
            "기준모델 정확도:  0.6786556603773585\n"
          ]
        }
      ]
    },
    {
      "cell_type": "markdown",
      "source": [
        "> 로지스틱회귀모델"
      ],
      "metadata": {
        "id": "DindgQnXjSPH"
      }
    },
    {
      "cell_type": "code",
      "source": [
        "pipe4_lr = make_pipeline(\n",
        "    SimpleImputer(), \n",
        "    StandardScaler(),\n",
        "\n",
        "    LogisticRegression(n_jobs=-1)\n",
        ")\n",
        "\n",
        "k = 5\n",
        "\n",
        "scores = cross_val_score(pipe4_lr, X_train4, y_train4, cv=k, scoring='f1_weighted')\n",
        "print(f'f1 for {k} folds:', scores)\n",
        "print(f'교차검증 f1 평균:',scores.mean())"
      ],
      "metadata": {
        "colab": {
          "base_uri": "https://localhost:8080/"
        },
        "outputId": "35cbbb36-793a-49cf-cd7c-7733109a30a9",
        "id": "EL1mQ999jSPH"
      },
      "execution_count": 31,
      "outputs": [
        {
          "output_type": "stream",
          "name": "stdout",
          "text": [
            "f1 for 5 folds: [0.63378464 0.6623436  0.64848026 0.65891718 0.63402987]\n",
            "교차검증 f1 평균: 0.6475111117844397\n"
          ]
        }
      ]
    },
    {
      "cell_type": "markdown",
      "source": [
        "> 랜덤포레스트모델"
      ],
      "metadata": {
        "id": "M_6ly8fVjSPH"
      }
    },
    {
      "cell_type": "code",
      "source": [
        "pipe4_rfc = make_pipeline(\n",
        "    SimpleImputer(), \n",
        "    RandomForestClassifier(n_estimators=100, random_state=2, n_jobs=-1)\n",
        ")\n",
        "\n",
        "pipe4_rfc.fit(X_train4,y_train4)\n",
        "\n",
        "k = 5\n",
        "\n",
        "scores = cross_val_score(pipe4_rfc, X_train4, y_train4, cv=k, scoring='f1_weighted') #다중분류에서 f1score 사용하려면 weighted\n",
        "print(f'f1 for {k} folds:', scores)\n",
        "print(f'교차검증 f1 평균:',scores.mean())"
      ],
      "metadata": {
        "colab": {
          "base_uri": "https://localhost:8080/"
        },
        "outputId": "adabab27-b5d8-4b57-d49b-504708011dda",
        "id": "6riprcnrjSPH"
      },
      "execution_count": 32,
      "outputs": [
        {
          "output_type": "stream",
          "name": "stdout",
          "text": [
            "f1 for 5 folds: [0.74459204 0.74551987 0.74607986 0.73742879 0.72991863]\n",
            "교차검증 f1 평균: 0.7407078363622684\n"
          ]
        }
      ]
    },
    {
      "cell_type": "markdown",
      "source": [
        "> XGBoost모델"
      ],
      "metadata": {
        "id": "pssSXi4zjSPI"
      }
    },
    {
      "cell_type": "code",
      "source": [
        "pipe4_xg = make_pipeline(\n",
        "    SimpleImputer(), \n",
        "    XGBClassifier(random_state=2, n_jobs=-1)\n",
        ")\n",
        "\n",
        "\n",
        "k = 5\n",
        "\n",
        "scores = cross_val_score(pipe4_xg, X_train4, y_train4, cv=k, \n",
        "                         scoring='f1_weighted')\n",
        "print(f'f1 for {k} folds:', scores)\n",
        "print(f'교차검증 f1 평균:',scores.mean())"
      ],
      "metadata": {
        "colab": {
          "base_uri": "https://localhost:8080/"
        },
        "outputId": "c9dd0e5a-4332-443b-fa5e-4eb82d262c86",
        "id": "Wlx3CvCBjSPI"
      },
      "execution_count": 33,
      "outputs": [
        {
          "output_type": "stream",
          "name": "stdout",
          "text": [
            "f1 for 5 folds: [0.72774087 0.72277856 0.73227447 0.71479688 0.72103449]\n",
            "교차검증 f1 평균: 0.723725052480499\n"
          ]
        }
      ]
    },
    {
      "cell_type": "markdown",
      "source": [
        "### 결과\n",
        " >청소년모델을 제외한 나머지는 xgboost로 청소년은 랜덤포레스트로 결정."
      ],
      "metadata": {
        "id": "FUqzu6SKHY-I"
      }
    },
    {
      "cell_type": "markdown",
      "source": [
        "\n",
        "\n",
        "# 모델 피클파일로 저장"
      ],
      "metadata": {
        "id": "xkCQwkk8jniV"
      }
    },
    {
      "cell_type": "code",
      "source": [
        "# 해당모델들을 피클라이브러리를 이용하여 피클파일로 저장."
      ],
      "metadata": {
        "id": "2d96T84DkDtC"
      },
      "execution_count": 34,
      "outputs": []
    },
    {
      "cell_type": "code",
      "source": [
        "import pickle \n",
        "with open('senior.pickle','wb') as fw:\n",
        "    pickle.dump(pipe1_xg, fw)"
      ],
      "metadata": {
        "id": "4K4fsYITkMbD"
      },
      "execution_count": 35,
      "outputs": []
    },
    {
      "cell_type": "code",
      "source": [
        "with open('middle.pickle','wb') as fw:\n",
        "    pickle.dump(pipe2_xg, fw)"
      ],
      "metadata": {
        "id": "hPzV2DX2kM2s"
      },
      "execution_count": 36,
      "outputs": []
    },
    {
      "cell_type": "code",
      "source": [
        "with open('underaged.pickle','wb') as fw:\n",
        "    pickle.dump(pipe3_xg, fw)"
      ],
      "metadata": {
        "id": "IivdFEEgkNuT"
      },
      "execution_count": 37,
      "outputs": []
    },
    {
      "cell_type": "code",
      "source": [
        "with open('youth.pickle','wb') as fw:\n",
        "    pickle.dump(pipe4_rfc, fw)"
      ],
      "metadata": {
        "id": "LfpFJXdqkOLT"
      },
      "execution_count": 38,
      "outputs": []
    }
  ]
}