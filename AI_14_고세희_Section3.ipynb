{
  "nbformat": 4,
  "nbformat_minor": 0,
  "metadata": {
    "colab": {
      "name": "AI_14_고세희_Section3",
      "provenance": [],
      "collapsed_sections": [],
      "authorship_tag": "ABX9TyPNKHacc/0nsJILCAnJ/z+W",
      "include_colab_link": true
    },
    "kernelspec": {
      "name": "python3",
      "display_name": "Python 3"
    },
    "language_info": {
      "name": "python"
    }
  },
  "cells": [
    {
      "cell_type": "markdown",
      "metadata": {
        "id": "view-in-github",
        "colab_type": "text"
      },
      "source": [
        "<a href=\"https://colab.research.google.com/github/sseyonafre/Project/blob/main/AI_14_%EA%B3%A0%EC%84%B8%ED%9D%AC_Section3.ipynb\" target=\"_parent\"><img src=\"https://colab.research.google.com/assets/colab-badge.svg\" alt=\"Open In Colab\"/></a>"
      ]
    },
    {
      "cell_type": "code",
      "execution_count": 292,
      "metadata": {
        "colab": {
          "resources": {
            "http://localhost:8080/nbextensions/google.colab/files.js": {
              "data": "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",
              "ok": true,
              "headers": [
                [
                  "content-type",
                  "application/javascript"
                ]
              ],
              "status": 200,
              "status_text": ""
            }
          },
          "base_uri": "https://localhost:8080/",
          "height": 74
        },
        "id": "fG68oFsmyfmW",
        "outputId": "e2fe5445-b4e1-4797-8f3e-290185ca0808"
      },
      "outputs": [
        {
          "output_type": "display_data",
          "data": {
            "text/plain": [
              "<IPython.core.display.HTML object>"
            ],
            "text/html": [
              "\n",
              "     <input type=\"file\" id=\"files-fbd49996-9f8b-4a73-b461-25c717a88c00\" name=\"files[]\" multiple disabled\n",
              "        style=\"border:none\" />\n",
              "     <output id=\"result-fbd49996-9f8b-4a73-b461-25c717a88c00\">\n",
              "      Upload widget is only available when the cell has been executed in the\n",
              "      current browser session. Please rerun this cell to enable.\n",
              "      </output>\n",
              "      <script src=\"/nbextensions/google.colab/files.js\"></script> "
            ]
          },
          "metadata": {}
        },
        {
          "output_type": "stream",
          "name": "stdout",
          "text": [
            "Saving user1.csv to user1.csv\n"
          ]
        }
      ],
      "source": [
        "from google.colab import files\n",
        "uploaded = files.upload()\n"
      ]
    },
    {
      "cell_type": "code",
      "source": [
        "import pandas as pd\n",
        "import numpy as np"
      ],
      "metadata": {
        "id": "LDWUK3hEzQiF"
      },
      "execution_count": 294,
      "outputs": []
    },
    {
      "cell_type": "code",
      "source": [
        "df = pd.read_csv('user1.csv',index_col = 1) "
      ],
      "metadata": {
        "id": "qsBNfpZJZDOK"
      },
      "execution_count": 295,
      "outputs": []
    },
    {
      "cell_type": "code",
      "source": [
        "df.info()"
      ],
      "metadata": {
        "colab": {
          "base_uri": "https://localhost:8080/"
        },
        "id": "Hxr1usHsR9l4",
        "outputId": "1e43a022-afec-4150-ac39-76e66ef782ed"
      },
      "execution_count": 296,
      "outputs": [
        {
          "output_type": "stream",
          "name": "stdout",
          "text": [
            "<class 'pandas.core.frame.DataFrame'>\n",
            "Int64Index: 25317 entries, 1 to 25317\n",
            "Data columns (total 19 columns):\n",
            " #   Column            Non-Null Count  Dtype  \n",
            "---  ------            --------------  -----  \n",
            " 0   Unnamed: 0        25317 non-null  int64  \n",
            " 1   ageClass          25317 non-null  int64  \n",
            " 2   ageDegree         25317 non-null  int64  \n",
            " 3   ageGbn            25317 non-null  object \n",
            " 4   certGbn           25317 non-null  object \n",
            " 5   height            25317 non-null  float64\n",
            " 6   weight            25317 non-null  float64\n",
            " 7   crunch            25317 non-null  object \n",
            " 8   jump              25317 non-null  object \n",
            " 9   trunkFlexion      25317 non-null  object \n",
            " 10  IllinoisAgility   25317 non-null  object \n",
            " 11  BMI               25317 non-null  float64\n",
            " 12  situp             25317 non-null  object \n",
            " 13  standinglongjump  25317 non-null  object \n",
            " 14  standsit          25317 non-null  object \n",
            " 15  twominwalk        25317 non-null  object \n",
            " 16  threeMwalk        25317 non-null  object \n",
            " 17  exercise          25317 non-null  object \n",
            " 18  testYm            25317 non-null  int64  \n",
            "dtypes: float64(3), int64(4), object(12)\n",
            "memory usage: 3.9+ MB\n"
          ]
        }
      ]
    },
    {
      "cell_type": "code",
      "source": [
        "df.drop(columns='Unnamed: 0',axis=1,inplace=True)"
      ],
      "metadata": {
        "id": "kmvdgbTz93Lq"
      },
      "execution_count": 297,
      "outputs": []
    },
    {
      "cell_type": "code",
      "source": [
        "df.duplicated().sum()"
      ],
      "metadata": {
        "colab": {
          "base_uri": "https://localhost:8080/"
        },
        "id": "pIM1wbV3RerJ",
        "outputId": "19100ed9-a06c-4705-b56b-fcea01328093"
      },
      "execution_count": 298,
      "outputs": [
        {
          "output_type": "execute_result",
          "data": {
            "text/plain": [
              "10005"
            ]
          },
          "metadata": {},
          "execution_count": 298
        }
      ]
    },
    {
      "cell_type": "code",
      "source": [
        "df.drop_duplicates(keep='first', inplace=True)"
      ],
      "metadata": {
        "id": "38b35etf-xi6"
      },
      "execution_count": 299,
      "outputs": []
    },
    {
      "cell_type": "code",
      "source": [
        "df.info()"
      ],
      "metadata": {
        "colab": {
          "base_uri": "https://localhost:8080/"
        },
        "id": "h2tW5IiA9_co",
        "outputId": "1321f61f-8d4c-46fc-f632-d69ac4a37b75"
      },
      "execution_count": 300,
      "outputs": [
        {
          "output_type": "stream",
          "name": "stdout",
          "text": [
            "<class 'pandas.core.frame.DataFrame'>\n",
            "Int64Index: 15312 entries, 1 to 15318\n",
            "Data columns (total 18 columns):\n",
            " #   Column            Non-Null Count  Dtype  \n",
            "---  ------            --------------  -----  \n",
            " 0   ageClass          15312 non-null  int64  \n",
            " 1   ageDegree         15312 non-null  int64  \n",
            " 2   ageGbn            15312 non-null  object \n",
            " 3   certGbn           15312 non-null  object \n",
            " 4   height            15312 non-null  float64\n",
            " 5   weight            15312 non-null  float64\n",
            " 6   crunch            15312 non-null  object \n",
            " 7   jump              15312 non-null  object \n",
            " 8   trunkFlexion      15312 non-null  object \n",
            " 9   IllinoisAgility   15312 non-null  object \n",
            " 10  BMI               15312 non-null  float64\n",
            " 11  situp             15312 non-null  object \n",
            " 12  standinglongjump  15312 non-null  object \n",
            " 13  standsit          15312 non-null  object \n",
            " 14  twominwalk        15312 non-null  object \n",
            " 15  threeMwalk        15312 non-null  object \n",
            " 16  exercise          15312 non-null  object \n",
            " 17  testYm            15312 non-null  int64  \n",
            "dtypes: float64(3), int64(3), object(12)\n",
            "memory usage: 2.2+ MB\n"
          ]
        }
      ]
    },
    {
      "cell_type": "code",
      "source": [
        "df.ageGbn.unique()"
      ],
      "metadata": {
        "colab": {
          "base_uri": "https://localhost:8080/"
        },
        "id": "_fMP7Azl2Rz_",
        "outputId": "32cd4a39-e5a4-4ae4-a467-62b8e1ee5d10"
      },
      "execution_count": 301,
      "outputs": [
        {
          "output_type": "execute_result",
          "data": {
            "text/plain": [
              "array(['노인', '성인', '유소년', '청소년'], dtype=object)"
            ]
          },
          "metadata": {},
          "execution_count": 301
        }
      ]
    },
    {
      "cell_type": "code",
      "source": [
        "for i in ['situp','standinglongjump','standsit','twominwalk','threeMwalk']:\n",
        "  df[i]= df[i].astype(float)"
      ],
      "metadata": {
        "id": "wYUOtdr1ZIFw"
      },
      "execution_count": 334,
      "outputs": []
    },
    {
      "cell_type": "code",
      "source": [
        "df.certGbn.replace({'참가증':'4','1등급':'1','2등급':'2','3등급':'3'},inplace=True)\n",
        "df1 = df.query(\"ageGbn=='노인'\")\n",
        "df2 = df.query(\"ageGbn=='성인'\")\n",
        "df3 = df.query(\"ageGbn=='유소년'\")\n",
        "df4 = df.query(\"ageGbn=='청소년'\")"
      ],
      "metadata": {
        "id": "SlM8tQd0c6HK"
      },
      "execution_count": 338,
      "outputs": []
    },
    {
      "cell_type": "code",
      "source": [
        "df.replace('-',np.nan,inplace=True)"
      ],
      "metadata": {
        "id": "fCqzAxZ87Bu3"
      },
      "execution_count": 339,
      "outputs": []
    },
    {
      "cell_type": "code",
      "source": [
        "df1.info() #노인 554명"
      ],
      "metadata": {
        "colab": {
          "base_uri": "https://localhost:8080/"
        },
        "id": "iVxHPirTOlhQ",
        "outputId": "8bcc4582-e5a4-4f5f-ad79-6363d170b7a2"
      },
      "execution_count": 340,
      "outputs": [
        {
          "output_type": "stream",
          "name": "stdout",
          "text": [
            "<class 'pandas.core.frame.DataFrame'>\n",
            "Int64Index: 554 entries, 1 to 15139\n",
            "Data columns (total 18 columns):\n",
            " #   Column            Non-Null Count  Dtype  \n",
            "---  ------            --------------  -----  \n",
            " 0   ageClass          554 non-null    int64  \n",
            " 1   ageDegree         554 non-null    int64  \n",
            " 2   ageGbn            554 non-null    object \n",
            " 3   certGbn           554 non-null    object \n",
            " 4   height            554 non-null    float64\n",
            " 5   weight            554 non-null    float64\n",
            " 6   crunch            0 non-null      object \n",
            " 7   jump              0 non-null      object \n",
            " 8   trunkFlexion      546 non-null    object \n",
            " 9   IllinoisAgility   0 non-null      object \n",
            " 10  BMI               554 non-null    float64\n",
            " 11  situp             0 non-null      float64\n",
            " 12  standinglongjump  0 non-null      float64\n",
            " 13  standsit          550 non-null    float64\n",
            " 14  twominwalk        546 non-null    float64\n",
            " 15  threeMwalk        554 non-null    float64\n",
            " 16  exercise          554 non-null    object \n",
            " 17  testYm            554 non-null    int64  \n",
            "dtypes: float64(8), int64(3), object(7)\n",
            "memory usage: 82.2+ KB\n"
          ]
        }
      ]
    },
    {
      "cell_type": "code",
      "source": [
        "df1.drop(columns=['crunch','jump','IllinoisAgility','situp','standinglongjump'],inplace=True)"
      ],
      "metadata": {
        "colab": {
          "base_uri": "https://localhost:8080/"
        },
        "id": "ScjtzBlOSOVW",
        "outputId": "1c822c91-efcc-412b-bfd2-582c0ae68dcf"
      },
      "execution_count": 341,
      "outputs": [
        {
          "output_type": "stream",
          "name": "stderr",
          "text": [
            "/usr/local/lib/python3.7/dist-packages/pandas/core/frame.py:4913: SettingWithCopyWarning: \n",
            "A value is trying to be set on a copy of a slice from a DataFrame\n",
            "\n",
            "See the caveats in the documentation: https://pandas.pydata.org/pandas-docs/stable/user_guide/indexing.html#returning-a-view-versus-a-copy\n",
            "  errors=errors,\n"
          ]
        }
      ]
    },
    {
      "cell_type": "code",
      "source": [
        "df1.head()"
      ],
      "metadata": {
        "colab": {
          "base_uri": "https://localhost:8080/",
          "height": 282
        },
        "id": "jN6dmk3vU65Q",
        "outputId": "abf28cf9-1c51-4150-c6e5-37634aed41f8"
      },
      "execution_count": 342,
      "outputs": [
        {
          "output_type": "execute_result",
          "data": {
            "text/plain": [
              "     ageClass  ageDegree ageGbn certGbn  height  weight trunkFlexion   BMI  \\\n",
              "id                                                                           \n",
              "1          60         66     노인       2   163.6    64.1         12.0  23.9   \n",
              "2          60         68     노인       4   168.6    72.4          1.5  25.5   \n",
              "57         60         65     노인       4   167.8    57.6         17.1  20.5   \n",
              "154        60         65     노인       2   168.8    57.4         12.8  20.1   \n",
              "431        70         72     노인       4   153.8    48.6         16.2  20.5   \n",
              "\n",
              "     standsit  twominwalk  threeMwalk  \\\n",
              "id                                      \n",
              "1        23.0       115.0       5.062   \n",
              "2        29.0       112.0       5.480   \n",
              "57       22.0        96.0       5.630   \n",
              "154      29.0       120.0       4.000   \n",
              "431      12.0        93.0       8.690   \n",
              "\n",
              "                                              exercise  testYm  \n",
              "id                                                              \n",
              "1    준비운동:누워서 전신 뻗기,어깨 뒤쪽 스트레칭,아래 팔 스트레칭,엉덩이 스트레칭,대...  201912  \n",
              "2    본운동:엉덩이 스트레칭,넙다리 뒤쪽 스트레칭,넙다리 앞쪽 스트레칭,넙다리 안쪽 스트...  201912  \n",
              "57                       준비운동:고정식 트레드밀에서 걷기,스텝박스 오르내리기  202110  \n",
              "154                                  준비운동:달리기,실내 자전거타기  202110  \n",
              "431  준비운동:등/어깨 뒤쪽 스트레칭,어깨 뒤쪽 스트레칭,목 스트레칭 / 본운동:벽에서 ...  202112  "
            ],
            "text/html": [
              "\n",
              "  <div id=\"df-5eaeef86-7b79-4183-adad-27a1e8c56788\">\n",
              "    <div class=\"colab-df-container\">\n",
              "      <div>\n",
              "<style scoped>\n",
              "    .dataframe tbody tr th:only-of-type {\n",
              "        vertical-align: middle;\n",
              "    }\n",
              "\n",
              "    .dataframe tbody tr th {\n",
              "        vertical-align: top;\n",
              "    }\n",
              "\n",
              "    .dataframe thead th {\n",
              "        text-align: right;\n",
              "    }\n",
              "</style>\n",
              "<table border=\"1\" class=\"dataframe\">\n",
              "  <thead>\n",
              "    <tr style=\"text-align: right;\">\n",
              "      <th></th>\n",
              "      <th>ageClass</th>\n",
              "      <th>ageDegree</th>\n",
              "      <th>ageGbn</th>\n",
              "      <th>certGbn</th>\n",
              "      <th>height</th>\n",
              "      <th>weight</th>\n",
              "      <th>trunkFlexion</th>\n",
              "      <th>BMI</th>\n",
              "      <th>standsit</th>\n",
              "      <th>twominwalk</th>\n",
              "      <th>threeMwalk</th>\n",
              "      <th>exercise</th>\n",
              "      <th>testYm</th>\n",
              "    </tr>\n",
              "    <tr>\n",
              "      <th>id</th>\n",
              "      <th></th>\n",
              "      <th></th>\n",
              "      <th></th>\n",
              "      <th></th>\n",
              "      <th></th>\n",
              "      <th></th>\n",
              "      <th></th>\n",
              "      <th></th>\n",
              "      <th></th>\n",
              "      <th></th>\n",
              "      <th></th>\n",
              "      <th></th>\n",
              "      <th></th>\n",
              "    </tr>\n",
              "  </thead>\n",
              "  <tbody>\n",
              "    <tr>\n",
              "      <th>1</th>\n",
              "      <td>60</td>\n",
              "      <td>66</td>\n",
              "      <td>노인</td>\n",
              "      <td>2</td>\n",
              "      <td>163.6</td>\n",
              "      <td>64.1</td>\n",
              "      <td>12.0</td>\n",
              "      <td>23.9</td>\n",
              "      <td>23.0</td>\n",
              "      <td>115.0</td>\n",
              "      <td>5.062</td>\n",
              "      <td>준비운동:누워서 전신 뻗기,어깨 뒤쪽 스트레칭,아래 팔 스트레칭,엉덩이 스트레칭,대...</td>\n",
              "      <td>201912</td>\n",
              "    </tr>\n",
              "    <tr>\n",
              "      <th>2</th>\n",
              "      <td>60</td>\n",
              "      <td>68</td>\n",
              "      <td>노인</td>\n",
              "      <td>4</td>\n",
              "      <td>168.6</td>\n",
              "      <td>72.4</td>\n",
              "      <td>1.5</td>\n",
              "      <td>25.5</td>\n",
              "      <td>29.0</td>\n",
              "      <td>112.0</td>\n",
              "      <td>5.480</td>\n",
              "      <td>본운동:엉덩이 스트레칭,넙다리 뒤쪽 스트레칭,넙다리 앞쪽 스트레칭,넙다리 안쪽 스트...</td>\n",
              "      <td>201912</td>\n",
              "    </tr>\n",
              "    <tr>\n",
              "      <th>57</th>\n",
              "      <td>60</td>\n",
              "      <td>65</td>\n",
              "      <td>노인</td>\n",
              "      <td>4</td>\n",
              "      <td>167.8</td>\n",
              "      <td>57.6</td>\n",
              "      <td>17.1</td>\n",
              "      <td>20.5</td>\n",
              "      <td>22.0</td>\n",
              "      <td>96.0</td>\n",
              "      <td>5.630</td>\n",
              "      <td>준비운동:고정식 트레드밀에서 걷기,스텝박스 오르내리기</td>\n",
              "      <td>202110</td>\n",
              "    </tr>\n",
              "    <tr>\n",
              "      <th>154</th>\n",
              "      <td>60</td>\n",
              "      <td>65</td>\n",
              "      <td>노인</td>\n",
              "      <td>2</td>\n",
              "      <td>168.8</td>\n",
              "      <td>57.4</td>\n",
              "      <td>12.8</td>\n",
              "      <td>20.1</td>\n",
              "      <td>29.0</td>\n",
              "      <td>120.0</td>\n",
              "      <td>4.000</td>\n",
              "      <td>준비운동:달리기,실내 자전거타기</td>\n",
              "      <td>202110</td>\n",
              "    </tr>\n",
              "    <tr>\n",
              "      <th>431</th>\n",
              "      <td>70</td>\n",
              "      <td>72</td>\n",
              "      <td>노인</td>\n",
              "      <td>4</td>\n",
              "      <td>153.8</td>\n",
              "      <td>48.6</td>\n",
              "      <td>16.2</td>\n",
              "      <td>20.5</td>\n",
              "      <td>12.0</td>\n",
              "      <td>93.0</td>\n",
              "      <td>8.690</td>\n",
              "      <td>준비운동:등/어깨 뒤쪽 스트레칭,어깨 뒤쪽 스트레칭,목 스트레칭 / 본운동:벽에서 ...</td>\n",
              "      <td>202112</td>\n",
              "    </tr>\n",
              "  </tbody>\n",
              "</table>\n",
              "</div>\n",
              "      <button class=\"colab-df-convert\" onclick=\"convertToInteractive('df-5eaeef86-7b79-4183-adad-27a1e8c56788')\"\n",
              "              title=\"Convert this dataframe to an interactive table.\"\n",
              "              style=\"display:none;\">\n",
              "        \n",
              "  <svg xmlns=\"http://www.w3.org/2000/svg\" height=\"24px\"viewBox=\"0 0 24 24\"\n",
              "       width=\"24px\">\n",
              "    <path d=\"M0 0h24v24H0V0z\" fill=\"none\"/>\n",
              "    <path d=\"M18.56 5.44l.94 2.06.94-2.06 2.06-.94-2.06-.94-.94-2.06-.94 2.06-2.06.94zm-11 1L8.5 8.5l.94-2.06 2.06-.94-2.06-.94L8.5 2.5l-.94 2.06-2.06.94zm10 10l.94 2.06.94-2.06 2.06-.94-2.06-.94-.94-2.06-.94 2.06-2.06.94z\"/><path d=\"M17.41 7.96l-1.37-1.37c-.4-.4-.92-.59-1.43-.59-.52 0-1.04.2-1.43.59L10.3 9.45l-7.72 7.72c-.78.78-.78 2.05 0 2.83L4 21.41c.39.39.9.59 1.41.59.51 0 1.02-.2 1.41-.59l7.78-7.78 2.81-2.81c.8-.78.8-2.07 0-2.86zM5.41 20L4 18.59l7.72-7.72 1.47 1.35L5.41 20z\"/>\n",
              "  </svg>\n",
              "      </button>\n",
              "      \n",
              "  <style>\n",
              "    .colab-df-container {\n",
              "      display:flex;\n",
              "      flex-wrap:wrap;\n",
              "      gap: 12px;\n",
              "    }\n",
              "\n",
              "    .colab-df-convert {\n",
              "      background-color: #E8F0FE;\n",
              "      border: none;\n",
              "      border-radius: 50%;\n",
              "      cursor: pointer;\n",
              "      display: none;\n",
              "      fill: #1967D2;\n",
              "      height: 32px;\n",
              "      padding: 0 0 0 0;\n",
              "      width: 32px;\n",
              "    }\n",
              "\n",
              "    .colab-df-convert:hover {\n",
              "      background-color: #E2EBFA;\n",
              "      box-shadow: 0px 1px 2px rgba(60, 64, 67, 0.3), 0px 1px 3px 1px rgba(60, 64, 67, 0.15);\n",
              "      fill: #174EA6;\n",
              "    }\n",
              "\n",
              "    [theme=dark] .colab-df-convert {\n",
              "      background-color: #3B4455;\n",
              "      fill: #D2E3FC;\n",
              "    }\n",
              "\n",
              "    [theme=dark] .colab-df-convert:hover {\n",
              "      background-color: #434B5C;\n",
              "      box-shadow: 0px 1px 3px 1px rgba(0, 0, 0, 0.15);\n",
              "      filter: drop-shadow(0px 1px 2px rgba(0, 0, 0, 0.3));\n",
              "      fill: #FFFFFF;\n",
              "    }\n",
              "  </style>\n",
              "\n",
              "      <script>\n",
              "        const buttonEl =\n",
              "          document.querySelector('#df-5eaeef86-7b79-4183-adad-27a1e8c56788 button.colab-df-convert');\n",
              "        buttonEl.style.display =\n",
              "          google.colab.kernel.accessAllowed ? 'block' : 'none';\n",
              "\n",
              "        async function convertToInteractive(key) {\n",
              "          const element = document.querySelector('#df-5eaeef86-7b79-4183-adad-27a1e8c56788');\n",
              "          const dataTable =\n",
              "            await google.colab.kernel.invokeFunction('convertToInteractive',\n",
              "                                                     [key], {});\n",
              "          if (!dataTable) return;\n",
              "\n",
              "          const docLinkHtml = 'Like what you see? Visit the ' +\n",
              "            '<a target=\"_blank\" href=https://colab.research.google.com/notebooks/data_table.ipynb>data table notebook</a>'\n",
              "            + ' to learn more about interactive tables.';\n",
              "          element.innerHTML = '';\n",
              "          dataTable['output_type'] = 'display_data';\n",
              "          await google.colab.output.renderOutput(dataTable, element);\n",
              "          const docLink = document.createElement('div');\n",
              "          docLink.innerHTML = docLinkHtml;\n",
              "          element.appendChild(docLink);\n",
              "        }\n",
              "      </script>\n",
              "    </div>\n",
              "  </div>\n",
              "  "
            ]
          },
          "metadata": {},
          "execution_count": 342
        }
      ]
    },
    {
      "cell_type": "code",
      "source": [
        "df2.drop(columns=['crunch','jump','IllinoisAgility','standsit','twominwalk','threeMwalk'],inplace=True)"
      ],
      "metadata": {
        "colab": {
          "base_uri": "https://localhost:8080/"
        },
        "id": "QI4QPeTLSnjO",
        "outputId": "2ab27231-e4f3-4a42-9891-0cd61edf9741"
      },
      "execution_count": 343,
      "outputs": [
        {
          "output_type": "stream",
          "name": "stderr",
          "text": [
            "/usr/local/lib/python3.7/dist-packages/pandas/core/frame.py:4913: SettingWithCopyWarning: \n",
            "A value is trying to be set on a copy of a slice from a DataFrame\n",
            "\n",
            "See the caveats in the documentation: https://pandas.pydata.org/pandas-docs/stable/user_guide/indexing.html#returning-a-view-versus-a-copy\n",
            "  errors=errors,\n"
          ]
        }
      ]
    },
    {
      "cell_type": "code",
      "source": [
        "df2.head()"
      ],
      "metadata": {
        "colab": {
          "base_uri": "https://localhost:8080/",
          "height": 238
        },
        "id": "S7bWyrzaSjMl",
        "outputId": "9c79da34-c195-4c93-e4f0-3fdd12021cec"
      },
      "execution_count": 344,
      "outputs": [
        {
          "output_type": "execute_result",
          "data": {
            "text/plain": [
              "    ageClass  ageDegree ageGbn certGbn  height  weight trunkFlexion   BMI  \\\n",
              "id                                                                          \n",
              "3         20         25     성인       3   177.8    85.7          7.5  27.1   \n",
              "4         30         31     성인       4   174.3    86.9          9.9  28.6   \n",
              "5         20         28     성인       4   175.2    81.1         11.2  26.4   \n",
              "6         20         23     성인       4   181.7    79.4          0.2  24.0   \n",
              "7         30         31     성인       4   174.3    86.9          NaN  28.6   \n",
              "\n",
              "    situp  standinglongjump  \\\n",
              "id                            \n",
              "3    39.0             229.0   \n",
              "4    41.0             223.0   \n",
              "5    56.0             217.0   \n",
              "6    41.0             231.0   \n",
              "7     NaN               NaN   \n",
              "\n",
              "                                             exercise  testYm  \n",
              "id                                                             \n",
              "3   준비운동:상지 루틴 스트레칭,하지 루틴 스트레칭1 / 본운동:버피운동,무릎 높여 제...  202012  \n",
              "4   준비운동:상지 루틴 스트레칭,하지 루틴 스트레칭1 / 본운동:버피운동,무릎 높여 제...  202012  \n",
              "5   준비운동:상지 루틴 스트레칭,하지 루틴 스트레칭1 / 본운동:버피운동,무릎 높여 제...  202012  \n",
              "6   준비운동:상지 루틴 스트레칭,하지 루틴 스트레칭1 / 본운동:버피운동,무릎 높여 제...  202012  \n",
              "7   준비운동:상지 루틴 스트레칭,하지 루틴 스트레칭1 / 본운동:버피운동,무릎 높여 제...  202012  "
            ],
            "text/html": [
              "\n",
              "  <div id=\"df-7f1506d7-be77-415d-b8c6-ec7893695d6f\">\n",
              "    <div class=\"colab-df-container\">\n",
              "      <div>\n",
              "<style scoped>\n",
              "    .dataframe tbody tr th:only-of-type {\n",
              "        vertical-align: middle;\n",
              "    }\n",
              "\n",
              "    .dataframe tbody tr th {\n",
              "        vertical-align: top;\n",
              "    }\n",
              "\n",
              "    .dataframe thead th {\n",
              "        text-align: right;\n",
              "    }\n",
              "</style>\n",
              "<table border=\"1\" class=\"dataframe\">\n",
              "  <thead>\n",
              "    <tr style=\"text-align: right;\">\n",
              "      <th></th>\n",
              "      <th>ageClass</th>\n",
              "      <th>ageDegree</th>\n",
              "      <th>ageGbn</th>\n",
              "      <th>certGbn</th>\n",
              "      <th>height</th>\n",
              "      <th>weight</th>\n",
              "      <th>trunkFlexion</th>\n",
              "      <th>BMI</th>\n",
              "      <th>situp</th>\n",
              "      <th>standinglongjump</th>\n",
              "      <th>exercise</th>\n",
              "      <th>testYm</th>\n",
              "    </tr>\n",
              "    <tr>\n",
              "      <th>id</th>\n",
              "      <th></th>\n",
              "      <th></th>\n",
              "      <th></th>\n",
              "      <th></th>\n",
              "      <th></th>\n",
              "      <th></th>\n",
              "      <th></th>\n",
              "      <th></th>\n",
              "      <th></th>\n",
              "      <th></th>\n",
              "      <th></th>\n",
              "      <th></th>\n",
              "    </tr>\n",
              "  </thead>\n",
              "  <tbody>\n",
              "    <tr>\n",
              "      <th>3</th>\n",
              "      <td>20</td>\n",
              "      <td>25</td>\n",
              "      <td>성인</td>\n",
              "      <td>3</td>\n",
              "      <td>177.8</td>\n",
              "      <td>85.7</td>\n",
              "      <td>7.5</td>\n",
              "      <td>27.1</td>\n",
              "      <td>39.0</td>\n",
              "      <td>229.0</td>\n",
              "      <td>준비운동:상지 루틴 스트레칭,하지 루틴 스트레칭1 / 본운동:버피운동,무릎 높여 제...</td>\n",
              "      <td>202012</td>\n",
              "    </tr>\n",
              "    <tr>\n",
              "      <th>4</th>\n",
              "      <td>30</td>\n",
              "      <td>31</td>\n",
              "      <td>성인</td>\n",
              "      <td>4</td>\n",
              "      <td>174.3</td>\n",
              "      <td>86.9</td>\n",
              "      <td>9.9</td>\n",
              "      <td>28.6</td>\n",
              "      <td>41.0</td>\n",
              "      <td>223.0</td>\n",
              "      <td>준비운동:상지 루틴 스트레칭,하지 루틴 스트레칭1 / 본운동:버피운동,무릎 높여 제...</td>\n",
              "      <td>202012</td>\n",
              "    </tr>\n",
              "    <tr>\n",
              "      <th>5</th>\n",
              "      <td>20</td>\n",
              "      <td>28</td>\n",
              "      <td>성인</td>\n",
              "      <td>4</td>\n",
              "      <td>175.2</td>\n",
              "      <td>81.1</td>\n",
              "      <td>11.2</td>\n",
              "      <td>26.4</td>\n",
              "      <td>56.0</td>\n",
              "      <td>217.0</td>\n",
              "      <td>준비운동:상지 루틴 스트레칭,하지 루틴 스트레칭1 / 본운동:버피운동,무릎 높여 제...</td>\n",
              "      <td>202012</td>\n",
              "    </tr>\n",
              "    <tr>\n",
              "      <th>6</th>\n",
              "      <td>20</td>\n",
              "      <td>23</td>\n",
              "      <td>성인</td>\n",
              "      <td>4</td>\n",
              "      <td>181.7</td>\n",
              "      <td>79.4</td>\n",
              "      <td>0.2</td>\n",
              "      <td>24.0</td>\n",
              "      <td>41.0</td>\n",
              "      <td>231.0</td>\n",
              "      <td>준비운동:상지 루틴 스트레칭,하지 루틴 스트레칭1 / 본운동:버피운동,무릎 높여 제...</td>\n",
              "      <td>202012</td>\n",
              "    </tr>\n",
              "    <tr>\n",
              "      <th>7</th>\n",
              "      <td>30</td>\n",
              "      <td>31</td>\n",
              "      <td>성인</td>\n",
              "      <td>4</td>\n",
              "      <td>174.3</td>\n",
              "      <td>86.9</td>\n",
              "      <td>NaN</td>\n",
              "      <td>28.6</td>\n",
              "      <td>NaN</td>\n",
              "      <td>NaN</td>\n",
              "      <td>준비운동:상지 루틴 스트레칭,하지 루틴 스트레칭1 / 본운동:버피운동,무릎 높여 제...</td>\n",
              "      <td>202012</td>\n",
              "    </tr>\n",
              "  </tbody>\n",
              "</table>\n",
              "</div>\n",
              "      <button class=\"colab-df-convert\" onclick=\"convertToInteractive('df-7f1506d7-be77-415d-b8c6-ec7893695d6f')\"\n",
              "              title=\"Convert this dataframe to an interactive table.\"\n",
              "              style=\"display:none;\">\n",
              "        \n",
              "  <svg xmlns=\"http://www.w3.org/2000/svg\" height=\"24px\"viewBox=\"0 0 24 24\"\n",
              "       width=\"24px\">\n",
              "    <path d=\"M0 0h24v24H0V0z\" fill=\"none\"/>\n",
              "    <path d=\"M18.56 5.44l.94 2.06.94-2.06 2.06-.94-2.06-.94-.94-2.06-.94 2.06-2.06.94zm-11 1L8.5 8.5l.94-2.06 2.06-.94-2.06-.94L8.5 2.5l-.94 2.06-2.06.94zm10 10l.94 2.06.94-2.06 2.06-.94-2.06-.94-.94-2.06-.94 2.06-2.06.94z\"/><path d=\"M17.41 7.96l-1.37-1.37c-.4-.4-.92-.59-1.43-.59-.52 0-1.04.2-1.43.59L10.3 9.45l-7.72 7.72c-.78.78-.78 2.05 0 2.83L4 21.41c.39.39.9.59 1.41.59.51 0 1.02-.2 1.41-.59l7.78-7.78 2.81-2.81c.8-.78.8-2.07 0-2.86zM5.41 20L4 18.59l7.72-7.72 1.47 1.35L5.41 20z\"/>\n",
              "  </svg>\n",
              "      </button>\n",
              "      \n",
              "  <style>\n",
              "    .colab-df-container {\n",
              "      display:flex;\n",
              "      flex-wrap:wrap;\n",
              "      gap: 12px;\n",
              "    }\n",
              "\n",
              "    .colab-df-convert {\n",
              "      background-color: #E8F0FE;\n",
              "      border: none;\n",
              "      border-radius: 50%;\n",
              "      cursor: pointer;\n",
              "      display: none;\n",
              "      fill: #1967D2;\n",
              "      height: 32px;\n",
              "      padding: 0 0 0 0;\n",
              "      width: 32px;\n",
              "    }\n",
              "\n",
              "    .colab-df-convert:hover {\n",
              "      background-color: #E2EBFA;\n",
              "      box-shadow: 0px 1px 2px rgba(60, 64, 67, 0.3), 0px 1px 3px 1px rgba(60, 64, 67, 0.15);\n",
              "      fill: #174EA6;\n",
              "    }\n",
              "\n",
              "    [theme=dark] .colab-df-convert {\n",
              "      background-color: #3B4455;\n",
              "      fill: #D2E3FC;\n",
              "    }\n",
              "\n",
              "    [theme=dark] .colab-df-convert:hover {\n",
              "      background-color: #434B5C;\n",
              "      box-shadow: 0px 1px 3px 1px rgba(0, 0, 0, 0.15);\n",
              "      filter: drop-shadow(0px 1px 2px rgba(0, 0, 0, 0.3));\n",
              "      fill: #FFFFFF;\n",
              "    }\n",
              "  </style>\n",
              "\n",
              "      <script>\n",
              "        const buttonEl =\n",
              "          document.querySelector('#df-7f1506d7-be77-415d-b8c6-ec7893695d6f button.colab-df-convert');\n",
              "        buttonEl.style.display =\n",
              "          google.colab.kernel.accessAllowed ? 'block' : 'none';\n",
              "\n",
              "        async function convertToInteractive(key) {\n",
              "          const element = document.querySelector('#df-7f1506d7-be77-415d-b8c6-ec7893695d6f');\n",
              "          const dataTable =\n",
              "            await google.colab.kernel.invokeFunction('convertToInteractive',\n",
              "                                                     [key], {});\n",
              "          if (!dataTable) return;\n",
              "\n",
              "          const docLinkHtml = 'Like what you see? Visit the ' +\n",
              "            '<a target=\"_blank\" href=https://colab.research.google.com/notebooks/data_table.ipynb>data table notebook</a>'\n",
              "            + ' to learn more about interactive tables.';\n",
              "          element.innerHTML = '';\n",
              "          dataTable['output_type'] = 'display_data';\n",
              "          await google.colab.output.renderOutput(dataTable, element);\n",
              "          const docLink = document.createElement('div');\n",
              "          docLink.innerHTML = docLinkHtml;\n",
              "          element.appendChild(docLink);\n",
              "        }\n",
              "      </script>\n",
              "    </div>\n",
              "  </div>\n",
              "  "
            ]
          },
          "metadata": {},
          "execution_count": 344
        }
      ]
    },
    {
      "cell_type": "code",
      "source": [
        "df2.exercise.nunique() "
      ],
      "metadata": {
        "colab": {
          "base_uri": "https://localhost:8080/"
        },
        "id": "y3UhYp2b8IRo",
        "outputId": "0eb4a5f7-0bfd-4473-a4c0-0584378349f6"
      },
      "execution_count": 345,
      "outputs": [
        {
          "output_type": "execute_result",
          "data": {
            "text/plain": [
              "625"
            ]
          },
          "metadata": {},
          "execution_count": 345
        }
      ]
    },
    {
      "cell_type": "code",
      "source": [
        "df2.info() #성인 3205명"
      ],
      "metadata": {
        "colab": {
          "base_uri": "https://localhost:8080/"
        },
        "id": "Ivv-0IL7QYRD",
        "outputId": "eb4de434-718b-456a-c6a5-4f8f62b85ba3"
      },
      "execution_count": 346,
      "outputs": [
        {
          "output_type": "stream",
          "name": "stdout",
          "text": [
            "<class 'pandas.core.frame.DataFrame'>\n",
            "Int64Index: 3205 entries, 3 to 15318\n",
            "Data columns (total 12 columns):\n",
            " #   Column            Non-Null Count  Dtype  \n",
            "---  ------            --------------  -----  \n",
            " 0   ageClass          3205 non-null   int64  \n",
            " 1   ageDegree         3205 non-null   int64  \n",
            " 2   ageGbn            3205 non-null   object \n",
            " 3   certGbn           3205 non-null   object \n",
            " 4   height            3205 non-null   float64\n",
            " 5   weight            3205 non-null   float64\n",
            " 6   trunkFlexion      3195 non-null   object \n",
            " 7   BMI               3205 non-null   float64\n",
            " 8   situp             3175 non-null   float64\n",
            " 9   standinglongjump  2261 non-null   float64\n",
            " 10  exercise          3205 non-null   object \n",
            " 11  testYm            3205 non-null   int64  \n",
            "dtypes: float64(5), int64(3), object(4)\n",
            "memory usage: 325.5+ KB\n"
          ]
        }
      ]
    },
    {
      "cell_type": "code",
      "source": [
        "df3.drop(columns=['jump','situp','standsit','twominwalk','threeMwalk'],inplace=True)"
      ],
      "metadata": {
        "colab": {
          "base_uri": "https://localhost:8080/"
        },
        "id": "aQcGx6FQS2_0",
        "outputId": "865b2536-4efd-4032-fb40-ca4b4e94822f"
      },
      "execution_count": 347,
      "outputs": [
        {
          "output_type": "stream",
          "name": "stderr",
          "text": [
            "/usr/local/lib/python3.7/dist-packages/pandas/core/frame.py:4913: SettingWithCopyWarning: \n",
            "A value is trying to be set on a copy of a slice from a DataFrame\n",
            "\n",
            "See the caveats in the documentation: https://pandas.pydata.org/pandas-docs/stable/user_guide/indexing.html#returning-a-view-versus-a-copy\n",
            "  errors=errors,\n"
          ]
        }
      ]
    },
    {
      "cell_type": "code",
      "source": [
        "df3.head()"
      ],
      "metadata": {
        "colab": {
          "base_uri": "https://localhost:8080/",
          "height": 351
        },
        "id": "TwdNKUCCS0TG",
        "outputId": "38606e14-f096-4521-a466-5e0a41909616"
      },
      "execution_count": 348,
      "outputs": [
        {
          "output_type": "execute_result",
          "data": {
            "text/plain": [
              "    ageClass  ageDegree ageGbn certGbn  height  weight crunch trunkFlexion  \\\n",
              "id                                                                           \n",
              "9         10         11    유소년       4   154.8    36.2     14          8.5   \n",
              "10        10         11    유소년       4   150.0    48.3      1          3.5   \n",
              "12        10         11    유소년       4   146.5    45.0     11         18.0   \n",
              "13        10         11    유소년       4   156.6    70.3    NaN         -1.0   \n",
              "14        10         11    유소년       4   145.7    31.6     18          7.5   \n",
              "\n",
              "   IllinoisAgility   BMI  standinglongjump  \\\n",
              "id                                           \n",
              "9              NaN  15.1             135.0   \n",
              "10             NaN  21.5              73.0   \n",
              "12             NaN  21.0             154.0   \n",
              "13             NaN  28.7             125.0   \n",
              "14             NaN  14.9             100.0   \n",
              "\n",
              "                                             exercise  testYm  \n",
              "id                                                             \n",
              "9                     준비운동:벽패스,십(十)자 드리블,공 양손으로 주고 받기  202110  \n",
              "10  준비운동:윗몸말아올리기,팔굽혀펴기,앉았다 일어서기,반복 옆뛰기,2단 줄넘기,벽잡고 ...  202110  \n",
              "12  준비운동:1단 줄넘기,계단 오르기,왕복달리기,벽패스,십(十)자 드리블,공 양손으로 ...  202110  \n",
              "13  준비운동:윗몸말아올리기,팔굽혀펴기,다리 벌려 옆으로 상체 숙이기,발목 얹고 다리 잡...  202110  \n",
              "14  준비운동:1단 줄넘기,계단 오르기,왕복달리기,반복 옆뛰기,잔발치기,벽패스,십(十)자...  202110  "
            ],
            "text/html": [
              "\n",
              "  <div id=\"df-d0ac2475-4533-4b2e-9c3c-b72c53276cc7\">\n",
              "    <div class=\"colab-df-container\">\n",
              "      <div>\n",
              "<style scoped>\n",
              "    .dataframe tbody tr th:only-of-type {\n",
              "        vertical-align: middle;\n",
              "    }\n",
              "\n",
              "    .dataframe tbody tr th {\n",
              "        vertical-align: top;\n",
              "    }\n",
              "\n",
              "    .dataframe thead th {\n",
              "        text-align: right;\n",
              "    }\n",
              "</style>\n",
              "<table border=\"1\" class=\"dataframe\">\n",
              "  <thead>\n",
              "    <tr style=\"text-align: right;\">\n",
              "      <th></th>\n",
              "      <th>ageClass</th>\n",
              "      <th>ageDegree</th>\n",
              "      <th>ageGbn</th>\n",
              "      <th>certGbn</th>\n",
              "      <th>height</th>\n",
              "      <th>weight</th>\n",
              "      <th>crunch</th>\n",
              "      <th>trunkFlexion</th>\n",
              "      <th>IllinoisAgility</th>\n",
              "      <th>BMI</th>\n",
              "      <th>standinglongjump</th>\n",
              "      <th>exercise</th>\n",
              "      <th>testYm</th>\n",
              "    </tr>\n",
              "    <tr>\n",
              "      <th>id</th>\n",
              "      <th></th>\n",
              "      <th></th>\n",
              "      <th></th>\n",
              "      <th></th>\n",
              "      <th></th>\n",
              "      <th></th>\n",
              "      <th></th>\n",
              "      <th></th>\n",
              "      <th></th>\n",
              "      <th></th>\n",
              "      <th></th>\n",
              "      <th></th>\n",
              "      <th></th>\n",
              "    </tr>\n",
              "  </thead>\n",
              "  <tbody>\n",
              "    <tr>\n",
              "      <th>9</th>\n",
              "      <td>10</td>\n",
              "      <td>11</td>\n",
              "      <td>유소년</td>\n",
              "      <td>4</td>\n",
              "      <td>154.8</td>\n",
              "      <td>36.2</td>\n",
              "      <td>14</td>\n",
              "      <td>8.5</td>\n",
              "      <td>NaN</td>\n",
              "      <td>15.1</td>\n",
              "      <td>135.0</td>\n",
              "      <td>준비운동:벽패스,십(十)자 드리블,공 양손으로 주고 받기</td>\n",
              "      <td>202110</td>\n",
              "    </tr>\n",
              "    <tr>\n",
              "      <th>10</th>\n",
              "      <td>10</td>\n",
              "      <td>11</td>\n",
              "      <td>유소년</td>\n",
              "      <td>4</td>\n",
              "      <td>150.0</td>\n",
              "      <td>48.3</td>\n",
              "      <td>1</td>\n",
              "      <td>3.5</td>\n",
              "      <td>NaN</td>\n",
              "      <td>21.5</td>\n",
              "      <td>73.0</td>\n",
              "      <td>준비운동:윗몸말아올리기,팔굽혀펴기,앉았다 일어서기,반복 옆뛰기,2단 줄넘기,벽잡고 ...</td>\n",
              "      <td>202110</td>\n",
              "    </tr>\n",
              "    <tr>\n",
              "      <th>12</th>\n",
              "      <td>10</td>\n",
              "      <td>11</td>\n",
              "      <td>유소년</td>\n",
              "      <td>4</td>\n",
              "      <td>146.5</td>\n",
              "      <td>45.0</td>\n",
              "      <td>11</td>\n",
              "      <td>18.0</td>\n",
              "      <td>NaN</td>\n",
              "      <td>21.0</td>\n",
              "      <td>154.0</td>\n",
              "      <td>준비운동:1단 줄넘기,계단 오르기,왕복달리기,벽패스,십(十)자 드리블,공 양손으로 ...</td>\n",
              "      <td>202110</td>\n",
              "    </tr>\n",
              "    <tr>\n",
              "      <th>13</th>\n",
              "      <td>10</td>\n",
              "      <td>11</td>\n",
              "      <td>유소년</td>\n",
              "      <td>4</td>\n",
              "      <td>156.6</td>\n",
              "      <td>70.3</td>\n",
              "      <td>NaN</td>\n",
              "      <td>-1.0</td>\n",
              "      <td>NaN</td>\n",
              "      <td>28.7</td>\n",
              "      <td>125.0</td>\n",
              "      <td>준비운동:윗몸말아올리기,팔굽혀펴기,다리 벌려 옆으로 상체 숙이기,발목 얹고 다리 잡...</td>\n",
              "      <td>202110</td>\n",
              "    </tr>\n",
              "    <tr>\n",
              "      <th>14</th>\n",
              "      <td>10</td>\n",
              "      <td>11</td>\n",
              "      <td>유소년</td>\n",
              "      <td>4</td>\n",
              "      <td>145.7</td>\n",
              "      <td>31.6</td>\n",
              "      <td>18</td>\n",
              "      <td>7.5</td>\n",
              "      <td>NaN</td>\n",
              "      <td>14.9</td>\n",
              "      <td>100.0</td>\n",
              "      <td>준비운동:1단 줄넘기,계단 오르기,왕복달리기,반복 옆뛰기,잔발치기,벽패스,십(十)자...</td>\n",
              "      <td>202110</td>\n",
              "    </tr>\n",
              "  </tbody>\n",
              "</table>\n",
              "</div>\n",
              "      <button class=\"colab-df-convert\" onclick=\"convertToInteractive('df-d0ac2475-4533-4b2e-9c3c-b72c53276cc7')\"\n",
              "              title=\"Convert this dataframe to an interactive table.\"\n",
              "              style=\"display:none;\">\n",
              "        \n",
              "  <svg xmlns=\"http://www.w3.org/2000/svg\" height=\"24px\"viewBox=\"0 0 24 24\"\n",
              "       width=\"24px\">\n",
              "    <path d=\"M0 0h24v24H0V0z\" fill=\"none\"/>\n",
              "    <path d=\"M18.56 5.44l.94 2.06.94-2.06 2.06-.94-2.06-.94-.94-2.06-.94 2.06-2.06.94zm-11 1L8.5 8.5l.94-2.06 2.06-.94-2.06-.94L8.5 2.5l-.94 2.06-2.06.94zm10 10l.94 2.06.94-2.06 2.06-.94-2.06-.94-.94-2.06-.94 2.06-2.06.94z\"/><path d=\"M17.41 7.96l-1.37-1.37c-.4-.4-.92-.59-1.43-.59-.52 0-1.04.2-1.43.59L10.3 9.45l-7.72 7.72c-.78.78-.78 2.05 0 2.83L4 21.41c.39.39.9.59 1.41.59.51 0 1.02-.2 1.41-.59l7.78-7.78 2.81-2.81c.8-.78.8-2.07 0-2.86zM5.41 20L4 18.59l7.72-7.72 1.47 1.35L5.41 20z\"/>\n",
              "  </svg>\n",
              "      </button>\n",
              "      \n",
              "  <style>\n",
              "    .colab-df-container {\n",
              "      display:flex;\n",
              "      flex-wrap:wrap;\n",
              "      gap: 12px;\n",
              "    }\n",
              "\n",
              "    .colab-df-convert {\n",
              "      background-color: #E8F0FE;\n",
              "      border: none;\n",
              "      border-radius: 50%;\n",
              "      cursor: pointer;\n",
              "      display: none;\n",
              "      fill: #1967D2;\n",
              "      height: 32px;\n",
              "      padding: 0 0 0 0;\n",
              "      width: 32px;\n",
              "    }\n",
              "\n",
              "    .colab-df-convert:hover {\n",
              "      background-color: #E2EBFA;\n",
              "      box-shadow: 0px 1px 2px rgba(60, 64, 67, 0.3), 0px 1px 3px 1px rgba(60, 64, 67, 0.15);\n",
              "      fill: #174EA6;\n",
              "    }\n",
              "\n",
              "    [theme=dark] .colab-df-convert {\n",
              "      background-color: #3B4455;\n",
              "      fill: #D2E3FC;\n",
              "    }\n",
              "\n",
              "    [theme=dark] .colab-df-convert:hover {\n",
              "      background-color: #434B5C;\n",
              "      box-shadow: 0px 1px 3px 1px rgba(0, 0, 0, 0.15);\n",
              "      filter: drop-shadow(0px 1px 2px rgba(0, 0, 0, 0.3));\n",
              "      fill: #FFFFFF;\n",
              "    }\n",
              "  </style>\n",
              "\n",
              "      <script>\n",
              "        const buttonEl =\n",
              "          document.querySelector('#df-d0ac2475-4533-4b2e-9c3c-b72c53276cc7 button.colab-df-convert');\n",
              "        buttonEl.style.display =\n",
              "          google.colab.kernel.accessAllowed ? 'block' : 'none';\n",
              "\n",
              "        async function convertToInteractive(key) {\n",
              "          const element = document.querySelector('#df-d0ac2475-4533-4b2e-9c3c-b72c53276cc7');\n",
              "          const dataTable =\n",
              "            await google.colab.kernel.invokeFunction('convertToInteractive',\n",
              "                                                     [key], {});\n",
              "          if (!dataTable) return;\n",
              "\n",
              "          const docLinkHtml = 'Like what you see? Visit the ' +\n",
              "            '<a target=\"_blank\" href=https://colab.research.google.com/notebooks/data_table.ipynb>data table notebook</a>'\n",
              "            + ' to learn more about interactive tables.';\n",
              "          element.innerHTML = '';\n",
              "          dataTable['output_type'] = 'display_data';\n",
              "          await google.colab.output.renderOutput(dataTable, element);\n",
              "          const docLink = document.createElement('div');\n",
              "          docLink.innerHTML = docLinkHtml;\n",
              "          element.appendChild(docLink);\n",
              "        }\n",
              "      </script>\n",
              "    </div>\n",
              "  </div>\n",
              "  "
            ]
          },
          "metadata": {},
          "execution_count": 348
        }
      ]
    },
    {
      "cell_type": "code",
      "source": [
        "df3.exercise.nunique() "
      ],
      "metadata": {
        "colab": {
          "base_uri": "https://localhost:8080/"
        },
        "id": "TADWrgw28P6y",
        "outputId": "e7eb6531-973b-420e-93e5-faf1e342c1db"
      },
      "execution_count": 349,
      "outputs": [
        {
          "output_type": "execute_result",
          "data": {
            "text/plain": [
              "453"
            ]
          },
          "metadata": {},
          "execution_count": 349
        }
      ]
    },
    {
      "cell_type": "code",
      "source": [
        "df3.info() #유소년 3080명"
      ],
      "metadata": {
        "colab": {
          "base_uri": "https://localhost:8080/"
        },
        "id": "H0GRSCY7Qh7l",
        "outputId": "79c50a1b-bdf0-459d-cdae-2df0e7212332"
      },
      "execution_count": 350,
      "outputs": [
        {
          "output_type": "stream",
          "name": "stdout",
          "text": [
            "<class 'pandas.core.frame.DataFrame'>\n",
            "Int64Index: 3076 entries, 9 to 15294\n",
            "Data columns (total 13 columns):\n",
            " #   Column            Non-Null Count  Dtype  \n",
            "---  ------            --------------  -----  \n",
            " 0   ageClass          3076 non-null   int64  \n",
            " 1   ageDegree         3076 non-null   int64  \n",
            " 2   ageGbn            3076 non-null   object \n",
            " 3   certGbn           3076 non-null   object \n",
            " 4   height            3076 non-null   float64\n",
            " 5   weight            3076 non-null   float64\n",
            " 6   crunch            3066 non-null   object \n",
            " 7   trunkFlexion      3071 non-null   object \n",
            " 8   IllinoisAgility   0 non-null      object \n",
            " 9   BMI               3076 non-null   float64\n",
            " 10  standinglongjump  3060 non-null   float64\n",
            " 11  exercise          3076 non-null   object \n",
            " 12  testYm            3076 non-null   int64  \n",
            "dtypes: float64(4), int64(3), object(6)\n",
            "memory usage: 336.4+ KB\n"
          ]
        }
      ]
    },
    {
      "cell_type": "code",
      "source": [
        "df4.drop(columns=['crunch','situp','standsit','twominwalk','threeMwalk'],inplace=True)"
      ],
      "metadata": {
        "colab": {
          "base_uri": "https://localhost:8080/"
        },
        "id": "Jg7YUHvcTDbs",
        "outputId": "1af95a1f-4586-4979-caa9-bde6c09a8791"
      },
      "execution_count": 351,
      "outputs": [
        {
          "output_type": "stream",
          "name": "stderr",
          "text": [
            "/usr/local/lib/python3.7/dist-packages/pandas/core/frame.py:4913: SettingWithCopyWarning: \n",
            "A value is trying to be set on a copy of a slice from a DataFrame\n",
            "\n",
            "See the caveats in the documentation: https://pandas.pydata.org/pandas-docs/stable/user_guide/indexing.html#returning-a-view-versus-a-copy\n",
            "  errors=errors,\n"
          ]
        }
      ]
    },
    {
      "cell_type": "code",
      "source": [
        "df4.exercise.nunique() "
      ],
      "metadata": {
        "colab": {
          "base_uri": "https://localhost:8080/"
        },
        "id": "yjyqjjim8TNr",
        "outputId": "9a9d9220-55c2-44c6-dac5-6dfd767bc947"
      },
      "execution_count": 352,
      "outputs": [
        {
          "output_type": "execute_result",
          "data": {
            "text/plain": [
              "918"
            ]
          },
          "metadata": {},
          "execution_count": 352
        }
      ]
    },
    {
      "cell_type": "code",
      "source": [
        "df4.info() #청소년 8479명."
      ],
      "metadata": {
        "colab": {
          "base_uri": "https://localhost:8080/"
        },
        "id": "aihzid1DQnWM",
        "outputId": "1f2183be-29b5-4c5e-8af8-b1a8dd65f162"
      },
      "execution_count": 353,
      "outputs": [
        {
          "output_type": "stream",
          "name": "stdout",
          "text": [
            "<class 'pandas.core.frame.DataFrame'>\n",
            "Int64Index: 8477 entries, 11 to 15315\n",
            "Data columns (total 13 columns):\n",
            " #   Column            Non-Null Count  Dtype  \n",
            "---  ------            --------------  -----  \n",
            " 0   ageClass          8477 non-null   int64  \n",
            " 1   ageDegree         8477 non-null   int64  \n",
            " 2   ageGbn            8477 non-null   object \n",
            " 3   certGbn           8477 non-null   object \n",
            " 4   height            8477 non-null   float64\n",
            " 5   weight            8477 non-null   float64\n",
            " 6   jump              4744 non-null   object \n",
            " 7   trunkFlexion      8463 non-null   object \n",
            " 8   IllinoisAgility   8059 non-null   object \n",
            " 9   BMI               8477 non-null   float64\n",
            " 10  standinglongjump  5465 non-null   float64\n",
            " 11  exercise          8477 non-null   object \n",
            " 12  testYm            8477 non-null   int64  \n",
            "dtypes: float64(4), int64(3), object(6)\n",
            "memory usage: 927.2+ KB\n"
          ]
        }
      ]
    },
    {
      "cell_type": "code",
      "source": [
        "df.to_csv('user.csv')"
      ],
      "metadata": {
        "id": "VjUahy2i5rHE"
      },
      "execution_count": 354,
      "outputs": []
    },
    {
      "cell_type": "code",
      "source": [
        "df.certGbn.unique()"
      ],
      "metadata": {
        "colab": {
          "base_uri": "https://localhost:8080/"
        },
        "id": "PlW4TsSUOzow",
        "outputId": "8f8e0413-b755-46d4-b939-c914ab5e5685"
      },
      "execution_count": 355,
      "outputs": [
        {
          "output_type": "execute_result",
          "data": {
            "text/plain": [
              "array(['2', '4', '3', '1'], dtype=object)"
            ]
          },
          "metadata": {},
          "execution_count": 355
        }
      ]
    },
    {
      "cell_type": "code",
      "source": [
        "df1.info()\n"
      ],
      "metadata": {
        "colab": {
          "base_uri": "https://localhost:8080/"
        },
        "id": "Yq6rOY5aSaBm",
        "outputId": "d46b95b5-2483-471d-a5e3-5c6e05c99da1"
      },
      "execution_count": 356,
      "outputs": [
        {
          "output_type": "stream",
          "name": "stdout",
          "text": [
            "<class 'pandas.core.frame.DataFrame'>\n",
            "Int64Index: 554 entries, 1 to 15139\n",
            "Data columns (total 13 columns):\n",
            " #   Column        Non-Null Count  Dtype  \n",
            "---  ------        --------------  -----  \n",
            " 0   ageClass      554 non-null    int64  \n",
            " 1   ageDegree     554 non-null    int64  \n",
            " 2   ageGbn        554 non-null    object \n",
            " 3   certGbn       554 non-null    object \n",
            " 4   height        554 non-null    float64\n",
            " 5   weight        554 non-null    float64\n",
            " 6   trunkFlexion  546 non-null    object \n",
            " 7   BMI           554 non-null    float64\n",
            " 8   standsit      550 non-null    float64\n",
            " 9   twominwalk    546 non-null    float64\n",
            " 10  threeMwalk    554 non-null    float64\n",
            " 11  exercise      554 non-null    object \n",
            " 12  testYm        554 non-null    int64  \n",
            "dtypes: float64(6), int64(3), object(4)\n",
            "memory usage: 60.6+ KB\n"
          ]
        }
      ]
    },
    {
      "cell_type": "markdown",
      "source": [
        "# **모델링**\n",
        "> ## 나이구분에 따라 검사항목이 다르기 때문에 모델을 나이구분별로 만들어 준다.\n",
        "### 1. 노인층 모델링\n",
        "> 기준모델"
      ],
      "metadata": {
        "id": "oTHHd5MdP_pw"
      }
    },
    {
      "cell_type": "code",
      "source": [
        "#노인층의 모델."
      ],
      "metadata": {
        "id": "RhniuSo0PIot"
      },
      "execution_count": 357,
      "outputs": []
    },
    {
      "cell_type": "code",
      "source": [
        "#train, test 셋으로 분리 , target 설정.\n",
        "from sklearn.model_selection import train_test_split\n",
        "target = 'certGbn'\n",
        "\n",
        "train, test = train_test_split(df1, train_size=0.80, test_size=0.20, \n",
        "                              stratify=df1[target1], random_state=2)\n",
        "features1 = df1.drop(columns=['certGbn','exercise','testYm','ageGbn']).columns\n",
        "\n",
        "X_train1 = train[features1]\n",
        "y_train1 = train[target]\n",
        "X_test1 = test[features1]\n",
        "y_test1 = test[target]"
      ],
      "metadata": {
        "id": "YrJY2wWdcvYL"
      },
      "execution_count": 376,
      "outputs": []
    },
    {
      "cell_type": "code",
      "source": [
        "#기준모델 \n",
        "y_train1.value_counts(normalize=True) #불균형. 다중분류."
      ],
      "metadata": {
        "colab": {
          "base_uri": "https://localhost:8080/"
        },
        "id": "qLvjVwAG7y3T",
        "outputId": "8a6c1522-ac54-405a-b0ae-f5060a2adb7f"
      },
      "execution_count": 377,
      "outputs": [
        {
          "output_type": "execute_result",
          "data": {
            "text/plain": [
              "4    0.539503\n",
              "3    0.209932\n",
              "2    0.182844\n",
              "1    0.067720\n",
              "Name: certGbn, dtype: float64"
            ]
          },
          "metadata": {},
          "execution_count": 377
        }
      ]
    },
    {
      "cell_type": "code",
      "source": [
        "#기준모델을 타겟의 최빈값으로 설정.\n",
        "baseline1 = y_train1.mode()"
      ],
      "metadata": {
        "id": "rmw6yS6BOlKx"
      },
      "execution_count": 378,
      "outputs": []
    },
    {
      "cell_type": "code",
      "source": [
        "#기준모델의 정확도를 구해보자.\n",
        "from sklearn.metrics import accuracy_score\n",
        "y_pred = [baseline1] * len(y_test1)\n",
        "print(\"기준모델 정확도: \", accuracy_score(y_test1, y_pred))"
      ],
      "metadata": {
        "colab": {
          "base_uri": "https://localhost:8080/"
        },
        "id": "VNWKWBcv0yXf",
        "outputId": "d929731f-ebb1-476b-bab2-9797bacce1c4"
      },
      "execution_count": 379,
      "outputs": [
        {
          "output_type": "stream",
          "name": "stdout",
          "text": [
            "기준모델 정확도:  0.5405405405405406\n"
          ]
        }
      ]
    },
    {
      "cell_type": "markdown",
      "source": [
        "> 로지스틱회귀모델"
      ],
      "metadata": {
        "id": "5_IuUBhjbTWH"
      }
    },
    {
      "cell_type": "code",
      "source": [
        "from sklearn.linear_model import LogisticRegression\n",
        "from sklearn.preprocessing import StandardScaler\n",
        "#로지스틱회귀모델을 만들어 교차검증을 수행. #베이지안최적화를 사용해서 최적의 파라미터 찾아보자.\n",
        "\n",
        "pipe1_lr = make_pipeline(\n",
        "    SimpleImputer(), \n",
        "    StandardScaler(),\n",
        "\n",
        "    LogisticRegression(n_jobs=-1)\n",
        ")\n",
        "\n",
        "k = 5\n",
        "\n",
        "scores = cross_val_score(pipe1_lr, X_train1, y_train1, cv=k, scoring='f1_weighted')\n",
        "print(f'f1 for {k} folds:', scores)\n",
        "print(f'교차검증 f1 평균:',scores.mean())"
      ],
      "metadata": {
        "colab": {
          "base_uri": "https://localhost:8080/"
        },
        "id": "bx3Wt4fTbSNP",
        "outputId": "237eb20d-4f65-47bc-984f-e4610b464f13"
      },
      "execution_count": 397,
      "outputs": [
        {
          "output_type": "stream",
          "name": "stdout",
          "text": [
            "f1 for 5 folds: [0.71166156 0.6990203  0.63592587 0.6282492  0.71689419]\n",
            "교차검증 f1 평균: 0.6783502236628092\n"
          ]
        }
      ]
    },
    {
      "cell_type": "markdown",
      "source": [
        "> 랜덤포레스트모델"
      ],
      "metadata": {
        "id": "gjf4a_aTQ1Jo"
      }
    },
    {
      "cell_type": "code",
      "source": [
        "from sklearn.pipeline import make_pipeline\n",
        "from sklearn.impute import SimpleImputer\n",
        "from sklearn.ensemble import RandomForestClassifier\n",
        "from sklearn.model_selection import cross_val_score\n",
        "\n",
        "pipe1_rfc = make_pipeline(\n",
        "    SimpleImputer(), \n",
        "    RandomForestClassifier(n_estimators=100, random_state=2, n_jobs=-1)\n",
        ")\n",
        "\n",
        "\n",
        "k = 5\n",
        "\n",
        "scores = cross_val_score(pipe1_rfc, X_train1, y_train1, cv=k, scoring='f1_weighted') #다중분류에서 f1score 사용하려면 weighted\n",
        "print(f'f1 for {k} folds:', scores)\n",
        "print(f'교차검증 f1 평균:',scores.mean())"
      ],
      "metadata": {
        "colab": {
          "base_uri": "https://localhost:8080/"
        },
        "id": "7XNAEn8hO8Ey",
        "outputId": "35e6e3d5-2bbd-4d02-ac3a-85e1b3d26cea"
      },
      "execution_count": 396,
      "outputs": [
        {
          "output_type": "stream",
          "name": "stdout",
          "text": [
            "f1 for 5 folds: [0.66001786 0.67351525 0.6713029  0.67623248 0.6945366 ]\n",
            "교차검증 f1 평균: 0.675121015442505\n"
          ]
        }
      ]
    },
    {
      "cell_type": "markdown",
      "source": [
        "> XGBoost모델\n"
      ],
      "metadata": {
        "id": "De4vmLEUeJJz"
      }
    },
    {
      "cell_type": "code",
      "source": [
        "from xgboost import XGBClassifier\n",
        "pipe1_xg = make_pipeline(\n",
        "    SimpleImputer(), \n",
        "    XGBClassifier(random_state=2, n_jobs=-1)\n",
        ")\n",
        "\n",
        "\n",
        "k = 5\n",
        "\n",
        "scores = cross_val_score(pipe1_xg, X_train1, y_train1, cv=k, \n",
        "                         scoring='f1_weighted')\n",
        "print(f'f1 for {k} folds:', scores)\n",
        "print(f'교차검증 f1 평균:',scores.mean())"
      ],
      "metadata": {
        "colab": {
          "base_uri": "https://localhost:8080/"
        },
        "id": "fnJqsDwGczMI",
        "outputId": "3c4e7812-9b2e-49c6-9c63-ba20ceb87506"
      },
      "execution_count": 395,
      "outputs": [
        {
          "output_type": "stream",
          "name": "stdout",
          "text": [
            "f1 for 5 folds: [0.81649732 0.66315015 0.69207608 0.71975095 0.78686929]\n",
            "교차검증 f1 평균: 0.7356687579782959\n"
          ]
        }
      ]
    },
    {
      "cell_type": "markdown",
      "source": [
        "### 2. 성인층 모델링\n",
        "> 기준모델"
      ],
      "metadata": {
        "id": "g9dIcwARf2nY"
      }
    },
    {
      "cell_type": "code",
      "source": [
        "#train, test 셋으로 분리 , target 설정.\n",
        "from sklearn.model_selection import train_test_split\n",
        "\n",
        "train, test = train_test_split(df2, train_size=0.80, test_size=0.20, \n",
        "                              stratify=df2[target], random_state=2)\n",
        "features2 = df2.drop(columns=['certGbn','exercise','testYm','ageGbn']).columns\n",
        "\n",
        "X_train2 = train[features2]\n",
        "y_train2 = train[target]\n",
        "X_test2 = test[features2]\n",
        "y_test2 = test[target]"
      ],
      "metadata": {
        "id": "64h9B86efy98"
      },
      "execution_count": 386,
      "outputs": []
    },
    {
      "cell_type": "code",
      "source": [
        "#기준모델 \n",
        "y_train2.value_counts(normalize=True) #불균형. 다중분류."
      ],
      "metadata": {
        "colab": {
          "base_uri": "https://localhost:8080/"
        },
        "id": "i2Vr5sTTgi_b",
        "outputId": "003622fb-201e-436b-c87c-71edb9c144fa"
      },
      "execution_count": 387,
      "outputs": [
        {
          "output_type": "execute_result",
          "data": {
            "text/plain": [
              "4    0.519111\n",
              "3    0.208268\n",
              "2    0.186427\n",
              "1    0.086193\n",
              "Name: certGbn, dtype: float64"
            ]
          },
          "metadata": {},
          "execution_count": 387
        }
      ]
    },
    {
      "cell_type": "code",
      "source": [
        "#기준모델을 타겟의 최빈값으로 설정.\n",
        "baseline2 = y_train2.mode()\n",
        "y_pred = [baseline2] * len(y_test2)\n",
        "print(\"기준모델 정확도: \", accuracy_score(y_test2, y_pred))"
      ],
      "metadata": {
        "colab": {
          "base_uri": "https://localhost:8080/"
        },
        "id": "4kGLGcLSgrOF",
        "outputId": "00d9b033-4e45-4d11-d3f9-c18a076cb3f3"
      },
      "execution_count": 388,
      "outputs": [
        {
          "output_type": "stream",
          "name": "stdout",
          "text": [
            "기준모델 정확도:  0.5195007800312013\n"
          ]
        }
      ]
    },
    {
      "cell_type": "markdown",
      "source": [
        "> 로지스틱회귀모델"
      ],
      "metadata": {
        "id": "LwM3E5JKhGfE"
      }
    },
    {
      "cell_type": "code",
      "source": [
        "pipe2_lr = make_pipeline(\n",
        "    SimpleImputer(), \n",
        "    StandardScaler(),\n",
        "\n",
        "    LogisticRegression(n_jobs=-1)\n",
        ")\n",
        "\n",
        "k = 5\n",
        "\n",
        "scores = cross_val_score(pipe2_lr, X_train2, y_train2, cv=k, scoring='f1_weighted')\n",
        "print(f'f1 for {k} folds:', scores)\n",
        "print(f'교차검증 f1 평균:',scores.mean())"
      ],
      "metadata": {
        "colab": {
          "base_uri": "https://localhost:8080/"
        },
        "id": "QKVLlu-phQm7",
        "outputId": "d3c3beed-6ee8-494b-8d95-6b5c110bb0b0"
      },
      "execution_count": 393,
      "outputs": [
        {
          "output_type": "stream",
          "name": "stdout",
          "text": [
            "f1 for 5 folds: [0.63215804 0.65909856 0.65152589 0.63362037 0.65374791]\n",
            "교차검증 f1 평균: 0.6460301523670579\n"
          ]
        }
      ]
    },
    {
      "cell_type": "markdown",
      "source": [
        "> 랜덤포레스트모델"
      ],
      "metadata": {
        "id": "nFKRqIfVhQRW"
      }
    },
    {
      "cell_type": "code",
      "source": [
        "pipe2_rfc = make_pipeline(\n",
        "    SimpleImputer(), \n",
        "    RandomForestClassifier(n_estimators=100, random_state=2, n_jobs=-1)\n",
        ")\n",
        "\n",
        "\n",
        "k = 5\n",
        "\n",
        "scores = cross_val_score(pipe2_rfc, X_train2, y_train2, cv=k, scoring='f1_weighted') #다중분류에서 f1score 사용하려면 weighted\n",
        "print(f'f1 for {k} folds:', scores)\n",
        "print(f'교차검증 f1 평균:',scores.mean())"
      ],
      "metadata": {
        "colab": {
          "base_uri": "https://localhost:8080/"
        },
        "id": "ZhPkp3HXhhlD",
        "outputId": "eff8899d-e7cc-4f10-cf2e-c78aa182dcef"
      },
      "execution_count": 392,
      "outputs": [
        {
          "output_type": "stream",
          "name": "stdout",
          "text": [
            "f1 for 5 folds: [0.73515494 0.76101778 0.70984374 0.68029178 0.73338485]\n",
            "교차검증 f1 평균: 0.7239386173061971\n"
          ]
        }
      ]
    },
    {
      "cell_type": "markdown",
      "source": [
        "> XGBoost모델"
      ],
      "metadata": {
        "id": "lO3Kh8IihZ6h"
      }
    },
    {
      "cell_type": "code",
      "source": [
        "pipe2_xg = make_pipeline(\n",
        "    SimpleImputer(), \n",
        "    XGBClassifier(random_state=2, n_jobs=-1)\n",
        ")\n",
        "\n",
        "\n",
        "k = 5\n",
        "\n",
        "scores = cross_val_score(pipe2_xg, X_train2, y_train2, cv=k, \n",
        "                         scoring='f1_weighted')\n",
        "print(f'f1 for {k} folds:', scores)\n",
        "print(f'교차검증 f1 평균:',scores.mean())"
      ],
      "metadata": {
        "colab": {
          "base_uri": "https://localhost:8080/"
        },
        "id": "OvBALZS5hpYR",
        "outputId": "eb4a1252-870b-40ba-fa53-f0df031fa93a"
      },
      "execution_count": 394,
      "outputs": [
        {
          "output_type": "stream",
          "name": "stdout",
          "text": [
            "f1 for 5 folds: [0.74094186 0.75157466 0.69427815 0.69124133 0.74845691]\n",
            "교차검증 f1 평균: 0.7252985837606745\n"
          ]
        }
      ]
    },
    {
      "cell_type": "markdown",
      "source": [
        "### 3. 유소년 모델링\n",
        "> 기준모델"
      ],
      "metadata": {
        "id": "hz1mvk28iHhf"
      }
    },
    {
      "cell_type": "code",
      "source": [
        "#train, test 셋으로 분리 , target 설정.\n",
        "train, test = train_test_split(df3, train_size=0.80, test_size=0.20, \n",
        "                              stratify=df3[target], random_state=2)\n",
        "features3 = df3.drop(columns=['certGbn','exercise','testYm','ageGbn']).columns\n",
        "\n",
        "X_train3 = train[features3]\n",
        "y_train3 = train[target]\n",
        "X_test3 = test[features3]\n",
        "y_test3 = test[target]\n",
        "\n",
        "y_train3.value_counts(normalize=True)\n",
        "\n",
        "baseline3 = y_train3.mode()\n",
        "y_pred = [baseline3] * len(y_test3)\n",
        "print(\"기준모델 정확도: \", accuracy_score(y_test3, y_pred))"
      ],
      "metadata": {
        "colab": {
          "base_uri": "https://localhost:8080/"
        },
        "id": "ZLYMWl1siST-",
        "outputId": "01e80c7b-d50b-4156-b6fb-6193c52e4881"
      },
      "execution_count": 398,
      "outputs": [
        {
          "output_type": "stream",
          "name": "stdout",
          "text": [
            "기준모델 정확도:  0.7662337662337663\n"
          ]
        }
      ]
    },
    {
      "cell_type": "markdown",
      "source": [
        "> 로지스틱회귀모델"
      ],
      "metadata": {
        "id": "As0sX0xIik65"
      }
    },
    {
      "cell_type": "code",
      "source": [
        "pipe3_lr = make_pipeline(\n",
        "    SimpleImputer(), \n",
        "    StandardScaler(),\n",
        "\n",
        "    LogisticRegression(n_jobs=-1)\n",
        ")\n",
        "\n",
        "k = 5\n",
        "\n",
        "scores = cross_val_score(pipe3_lr, X_train3, y_train3, cv=k, scoring='f1_weighted')\n",
        "print(f'f1 for {k} folds:', scores)\n",
        "print(f'교차검증 f1 평균:',scores.mean())"
      ],
      "metadata": {
        "colab": {
          "base_uri": "https://localhost:8080/"
        },
        "outputId": "0ae0de56-06f5-42aa-f21b-2e39b62c977e",
        "id": "6-X0U_wMitjx"
      },
      "execution_count": 399,
      "outputs": [
        {
          "output_type": "stream",
          "name": "stdout",
          "text": [
            "f1 for 5 folds: [0.72533878 0.72811088 0.75015845 0.71917467 0.7237942 ]\n",
            "교차검증 f1 평균: 0.7293153956828793\n"
          ]
        }
      ]
    },
    {
      "cell_type": "markdown",
      "source": [
        "> 랜덤포레스트모델"
      ],
      "metadata": {
        "id": "DCNZQybGitjy"
      }
    },
    {
      "cell_type": "code",
      "source": [
        "pipe3_rfc = make_pipeline(\n",
        "    SimpleImputer(), \n",
        "    RandomForestClassifier(n_estimators=100, random_state=2, n_jobs=-1)\n",
        ")\n",
        "\n",
        "\n",
        "k = 5\n",
        "\n",
        "scores = cross_val_score(pipe3_rfc, X_train3, y_train3, cv=k, scoring='f1_weighted') #다중분류에서 f1score 사용하려면 weighted\n",
        "print(f'f1 for {k} folds:', scores)\n",
        "print(f'교차검증 f1 평균:',scores.mean())"
      ],
      "metadata": {
        "colab": {
          "base_uri": "https://localhost:8080/"
        },
        "outputId": "c82668fa-693a-4cd5-a460-cd9ba73229ab",
        "id": "BC6Y3F32itjy"
      },
      "execution_count": 400,
      "outputs": [
        {
          "output_type": "stream",
          "name": "stdout",
          "text": [
            "f1 for 5 folds: [0.82574584 0.80756332 0.82372329 0.80589826 0.78731095]\n",
            "교차검증 f1 평균: 0.8100483320883903\n"
          ]
        }
      ]
    },
    {
      "cell_type": "markdown",
      "source": [
        "> XGBoost모델"
      ],
      "metadata": {
        "id": "f1pkCpp6itjy"
      }
    },
    {
      "cell_type": "code",
      "source": [
        "pipe3_xg = make_pipeline(\n",
        "    SimpleImputer(), \n",
        "    XGBClassifier(random_state=2, n_jobs=-1)\n",
        ")\n",
        "\n",
        "\n",
        "k = 5\n",
        "\n",
        "scores = cross_val_score(pipe3_xg, X_train3, y_train3, cv=k, \n",
        "                         scoring='f1_weighted')\n",
        "print(f'f1 for {k} folds:', scores)\n",
        "print(f'교차검증 f1 평균:',scores.mean())"
      ],
      "metadata": {
        "colab": {
          "base_uri": "https://localhost:8080/"
        },
        "outputId": "85389dd5-993e-4f19-813b-2795294dbf1e",
        "id": "StHO03DVitjz"
      },
      "execution_count": 401,
      "outputs": [
        {
          "output_type": "stream",
          "name": "stdout",
          "text": [
            "f1 for 5 folds: [0.82420439 0.82751193 0.83766176 0.80734666 0.83019189]\n",
            "교차검증 f1 평균: 0.8253833246659589\n"
          ]
        }
      ]
    },
    {
      "cell_type": "markdown",
      "source": [
        "###4. 청소년 모델링\n",
        "> 기준모델"
      ],
      "metadata": {
        "id": "KtuO5nbEjHFs"
      }
    },
    {
      "cell_type": "code",
      "source": [
        "\n",
        "train, test = train_test_split(df4, train_size=0.80, test_size=0.20, \n",
        "                              stratify=df4[target], random_state=2)\n",
        "features4 = df4.drop(columns=['certGbn','exercise','testYm','ageGbn']).columns\n",
        "\n",
        "X_train4 = train[features4]\n",
        "y_train4 = train[target]\n",
        "X_test4 = test[features4]\n",
        "y_test4 = test[target]\n",
        "\n",
        "y_train4.value_counts(normalize=True)\n",
        "\n",
        "baseline4 = y_train4.mode()\n",
        "y_pred = [baseline4] * len(y_test4)\n",
        "print(\"기준모델 정확도: \", accuracy_score(y_test4, y_pred))"
      ],
      "metadata": {
        "colab": {
          "base_uri": "https://localhost:8080/"
        },
        "outputId": "3f2b916e-c3cb-43c2-eb28-88684fec9362",
        "id": "kUDz7KVQjSPG"
      },
      "execution_count": 402,
      "outputs": [
        {
          "output_type": "stream",
          "name": "stdout",
          "text": [
            "기준모델 정확도:  0.6786556603773585\n"
          ]
        }
      ]
    },
    {
      "cell_type": "markdown",
      "source": [
        "> 로지스틱회귀모델"
      ],
      "metadata": {
        "id": "DindgQnXjSPH"
      }
    },
    {
      "cell_type": "code",
      "source": [
        "pipe4_lr = make_pipeline(\n",
        "    SimpleImputer(), \n",
        "    StandardScaler(),\n",
        "\n",
        "    LogisticRegression(n_jobs=-1)\n",
        ")\n",
        "\n",
        "k = 5\n",
        "\n",
        "scores = cross_val_score(pipe4_lr, X_train4, y_train4, cv=k, scoring='f1_weighted')\n",
        "print(f'f1 for {k} folds:', scores)\n",
        "print(f'교차검증 f1 평균:',scores.mean())"
      ],
      "metadata": {
        "colab": {
          "base_uri": "https://localhost:8080/"
        },
        "outputId": "85ad3647-0c33-4cd4-c405-5845341e922c",
        "id": "EL1mQ999jSPH"
      },
      "execution_count": 403,
      "outputs": [
        {
          "output_type": "stream",
          "name": "stdout",
          "text": [
            "f1 for 5 folds: [0.64451804 0.64640353 0.64179533 0.64843367 0.61796486]\n",
            "교차검증 f1 평균: 0.63982308756246\n"
          ]
        }
      ]
    },
    {
      "cell_type": "markdown",
      "source": [
        "> 랜덤포레스트모델"
      ],
      "metadata": {
        "id": "M_6ly8fVjSPH"
      }
    },
    {
      "cell_type": "code",
      "source": [
        "pipe4_rfc = make_pipeline(\n",
        "    SimpleImputer(), \n",
        "    RandomForestClassifier(n_estimators=100, random_state=2, n_jobs=-1)\n",
        ")\n",
        "\n",
        "\n",
        "k = 5\n",
        "\n",
        "scores = cross_val_score(pipe4_rfc, X_train4, y_train4, cv=k, scoring='f1_weighted') #다중분류에서 f1score 사용하려면 weighted\n",
        "print(f'f1 for {k} folds:', scores)\n",
        "print(f'교차검증 f1 평균:',scores.mean())"
      ],
      "metadata": {
        "colab": {
          "base_uri": "https://localhost:8080/"
        },
        "outputId": "bdefe77c-a953-4e5a-e90d-c52d45ec5ca3",
        "id": "6riprcnrjSPH"
      },
      "execution_count": 404,
      "outputs": [
        {
          "output_type": "stream",
          "name": "stdout",
          "text": [
            "f1 for 5 folds: [0.74467375 0.74647647 0.7433279  0.73286115 0.71733893]\n",
            "교차검증 f1 평균: 0.7369356383949911\n"
          ]
        }
      ]
    },
    {
      "cell_type": "markdown",
      "source": [
        "> XGBoost모델"
      ],
      "metadata": {
        "id": "pssSXi4zjSPI"
      }
    },
    {
      "cell_type": "code",
      "source": [
        "pipe4_xg = make_pipeline(\n",
        "    SimpleImputer(), \n",
        "    XGBClassifier(random_state=2, n_jobs=-1)\n",
        ")\n",
        "\n",
        "\n",
        "k = 5\n",
        "\n",
        "scores = cross_val_score(pipe4_xg, X_train4, y_train4, cv=k, \n",
        "                         scoring='f1_weighted')\n",
        "print(f'f1 for {k} folds:', scores)\n",
        "print(f'교차검증 f1 평균:',scores.mean())"
      ],
      "metadata": {
        "colab": {
          "base_uri": "https://localhost:8080/"
        },
        "outputId": "893ff902-70a7-447d-aa64-4046ff96d62d",
        "id": "Wlx3CvCBjSPI"
      },
      "execution_count": 405,
      "outputs": [
        {
          "output_type": "stream",
          "name": "stdout",
          "text": [
            "f1 for 5 folds: [0.71948866 0.72393508 0.71866612 0.72611267 0.72132139]\n",
            "교차검증 f1 평균: 0.7219047845818647\n"
          ]
        }
      ]
    },
    {
      "cell_type": "markdown",
      "source": [
        "## 청소년모델을 제외한 나머지는 xgboost로 청소년은 랜덤포레스트로 결정."
      ],
      "metadata": {
        "id": "xkCQwkk8jniV"
      }
    },
    {
      "cell_type": "code",
      "source": [
        "# 해당모델들을 피클라이브러리를 이용하여 피클파일로 저장."
      ],
      "metadata": {
        "id": "2d96T84DkDtC"
      },
      "execution_count": null,
      "outputs": []
    },
    {
      "cell_type": "code",
      "source": [
        "import pickle \n",
        "with open('senior.pickle','wb') as fw:\n",
        "    pickle.dump(pipe1_xg, fw)"
      ],
      "metadata": {
        "id": "4K4fsYITkMbD"
      },
      "execution_count": 406,
      "outputs": []
    },
    {
      "cell_type": "code",
      "source": [
        "with open('middle.pickle','wb') as fw:\n",
        "    pickle.dump(pipe2_xg, fw)"
      ],
      "metadata": {
        "id": "hPzV2DX2kM2s"
      },
      "execution_count": 407,
      "outputs": []
    },
    {
      "cell_type": "code",
      "source": [
        "with open('underaged.pickle','wb') as fw:\n",
        "    pickle.dump(pipe3_xg, fw)"
      ],
      "metadata": {
        "id": "IivdFEEgkNuT"
      },
      "execution_count": 408,
      "outputs": []
    },
    {
      "cell_type": "code",
      "source": [
        "with open('youth.pickle','wb') as fw:\n",
        "    pickle.dump(pipe4_rfc, fw)"
      ],
      "metadata": {
        "id": "LfpFJXdqkOLT"
      },
      "execution_count": 409,
      "outputs": []
    }
  ]
}