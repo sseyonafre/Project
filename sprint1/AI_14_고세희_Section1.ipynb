{
  "nbformat": 4,
  "nbformat_minor": 0,
  "metadata": {
    "colab": {
      "name": "AI_14_고세희_Section1.ipynb",
      "provenance": [],
      "toc_visible": true,
      "collapsed_sections": []
    },
    "kernelspec": {
      "name": "python3",
      "display_name": "Python 3"
    },
    "language_info": {
      "name": "python"
    }
  },
  "cells": [
    {
      "cell_type": "markdown",
      "source": [
        "# *DATA SCIENCE / SECTION 1 / PROJECT*\n",
        "\n"
      ],
      "metadata": {
        "id": "NJGaumORxnKN"
      }
    },
    {
      "cell_type": "markdown",
      "source": [
        "# 🏆 프로젝트 목표\n",
        "\n",
        "\n",
        "> 다음 분기 설계할 게임 분석"
      ],
      "metadata": {
        "id": "joryVzwgyf7I"
      }
    },
    {
      "cell_type": "markdown",
      "source": [
        "#  🕹️ Data Description\n",
        "\n",
        "*   `Name` : 게임 이름\n",
        "*   `Platform` : 게임이 지원되는 플랫폼의 이름\n",
        "*   `Year` : 게임 출시 연도 (1980-2020년)\n",
        "*   `Genre` : 게임의 장르\n",
        "*   `Publisher` : 게임을 제작한 회사\n",
        "*   `NA_Sales` : 북미지역 출고량 (단위 :백만)\n",
        "*   `EU_Sales` : 유럽지역에서의 출고량 (단위 :백만)\n",
        "*   `JP_Sales` : 일본지역에서의 출고량 (단위 :백만)\n",
        "*   `Other_Sales `: 기타지역 출고량 (단위 :백만)"
      ],
      "metadata": {
        "id": "DsTsv33N1RmQ"
      }
    },
    {
      "cell_type": "markdown",
      "source": [
        "#  데이터 탐색\n",
        "\n",
        "\n"
      ],
      "metadata": {
        "id": "T9WFTJce1YDO"
      }
    },
    {
      "cell_type": "markdown",
      "source": [
        "## **1. Gathering Data**"
      ],
      "metadata": {
        "id": "QkzUM0Xd3Yry"
      }
    },
    {
      "cell_type": "code",
      "source": [
        "#라이브러리 불러오기\n",
        "import pandas as pd\n",
        "import numpy as np\n",
        "import matplotlib.pyplot as plt\n",
        "import seaborn as sns\n",
        "\n",
        "pd.set_option('mode.chained_assignment',  None) #warning sign 무시하기\n",
        "\n",
        "!sudo apt-get install -y fonts-nanum  #한글폰트 다운\n",
        "!sudo fc-cache -fv\n",
        "!rm ~/.cache/matplotlib -rf"
      ],
      "metadata": {
        "id": "v5oiXr9o0iwy",
        "colab": {
          "base_uri": "https://localhost:8080/"
        },
        "outputId": "7da98193-ff3c-499b-8b43-8a38abcc5748"
      },
      "execution_count": 835,
      "outputs": [
        {
          "output_type": "stream",
          "name": "stdout",
          "text": [
            "Reading package lists... Done\n",
            "Building dependency tree       \n",
            "Reading state information... Done\n",
            "The following package was automatically installed and is no longer required:\n",
            "  libnvidia-common-460\n",
            "Use 'sudo apt autoremove' to remove it.\n",
            "The following NEW packages will be installed:\n",
            "  fonts-nanum\n",
            "0 upgraded, 1 newly installed, 0 to remove and 49 not upgraded.\n",
            "Need to get 9,604 kB of archives.\n",
            "After this operation, 29.5 MB of additional disk space will be used.\n",
            "Get:1 http://archive.ubuntu.com/ubuntu bionic/universe amd64 fonts-nanum all 20170925-1 [9,604 kB]\n",
            "Fetched 9,604 kB in 0s (24.6 MB/s)\n",
            "debconf: unable to initialize frontend: Dialog\n",
            "debconf: (No usable dialog-like program is installed, so the dialog based frontend cannot be used. at /usr/share/perl5/Debconf/FrontEnd/Dialog.pm line 76, <> line 1.)\n",
            "debconf: falling back to frontend: Readline\n",
            "debconf: unable to initialize frontend: Readline\n",
            "debconf: (This frontend requires a controlling tty.)\n",
            "debconf: falling back to frontend: Teletype\n",
            "dpkg-preconfigure: unable to re-open stdin: \n",
            "Selecting previously unselected package fonts-nanum.\n",
            "(Reading database ... 155639 files and directories currently installed.)\n",
            "Preparing to unpack .../fonts-nanum_20170925-1_all.deb ...\n",
            "Unpacking fonts-nanum (20170925-1) ...\n",
            "Setting up fonts-nanum (20170925-1) ...\n",
            "Processing triggers for fontconfig (2.12.6-0ubuntu2) ...\n",
            "/usr/share/fonts: caching, new cache contents: 0 fonts, 1 dirs\n",
            "/usr/share/fonts/truetype: caching, new cache contents: 0 fonts, 3 dirs\n",
            "/usr/share/fonts/truetype/humor-sans: caching, new cache contents: 1 fonts, 0 dirs\n",
            "/usr/share/fonts/truetype/liberation: caching, new cache contents: 16 fonts, 0 dirs\n",
            "/usr/share/fonts/truetype/nanum: caching, new cache contents: 10 fonts, 0 dirs\n",
            "/usr/local/share/fonts: caching, new cache contents: 0 fonts, 0 dirs\n",
            "/root/.local/share/fonts: skipping, no such directory\n",
            "/root/.fonts: skipping, no such directory\n",
            "/var/cache/fontconfig: cleaning cache directory\n",
            "/root/.cache/fontconfig: not cleaning non-existent cache directory\n",
            "/root/.fontconfig: not cleaning non-existent cache directory\n",
            "fc-cache: succeeded\n"
          ]
        }
      ]
    },
    {
      "cell_type": "code",
      "source": [
        "#데이터셋 불러오기\n",
        "df = pd.read_csv('https://ds-lecture-data.s3.ap-northeast-2.amazonaws.com/datasets/vgames2.csv')\n",
        "df.head()"
      ],
      "metadata": {
        "colab": {
          "base_uri": "https://localhost:8080/",
          "height": 206
        },
        "id": "Sqem_Kl92FEx",
        "outputId": "afc3f02b-46a2-437c-c2b7-6d18de2b4052"
      },
      "execution_count": 836,
      "outputs": [
        {
          "output_type": "execute_result",
          "data": {
            "text/plain": [
              "   Unnamed: 0                                            Name Platform  \\\n",
              "0           1                    Candace Kane's Candy Factory       DS   \n",
              "1           2                                  The Munchables      Wii   \n",
              "2           3  Otome wa Oanesama Boku ni Koi Shiteru Portable      PSP   \n",
              "3           4                Deal or No Deal: Special Edition       DS   \n",
              "4           5       Ben 10 Ultimate Alien: Cosmic Destruction      PS3   \n",
              "\n",
              "     Year      Genre           Publisher NA_Sales EU_Sales JP_Sales  \\\n",
              "0  2008.0     Action           Destineer     0.04        0        0   \n",
              "1  2009.0     Action  Namco Bandai Games     0.17        0        0   \n",
              "2  2010.0  Adventure           Alchemist        0        0     0.02   \n",
              "3  2010.0       Misc           Zoo Games     0.04        0        0   \n",
              "4  2010.0   Platform         D3Publisher     0.12     0.09        0   \n",
              "\n",
              "  Other_Sales  \n",
              "0           0  \n",
              "1        0.01  \n",
              "2           0  \n",
              "3           0  \n",
              "4        0.04  "
            ],
            "text/html": [
              "\n",
              "  <div id=\"df-7341618f-f9a4-4d37-912e-521d7ee60f01\">\n",
              "    <div class=\"colab-df-container\">\n",
              "      <div>\n",
              "<style scoped>\n",
              "    .dataframe tbody tr th:only-of-type {\n",
              "        vertical-align: middle;\n",
              "    }\n",
              "\n",
              "    .dataframe tbody tr th {\n",
              "        vertical-align: top;\n",
              "    }\n",
              "\n",
              "    .dataframe thead th {\n",
              "        text-align: right;\n",
              "    }\n",
              "</style>\n",
              "<table border=\"1\" class=\"dataframe\">\n",
              "  <thead>\n",
              "    <tr style=\"text-align: right;\">\n",
              "      <th></th>\n",
              "      <th>Unnamed: 0</th>\n",
              "      <th>Name</th>\n",
              "      <th>Platform</th>\n",
              "      <th>Year</th>\n",
              "      <th>Genre</th>\n",
              "      <th>Publisher</th>\n",
              "      <th>NA_Sales</th>\n",
              "      <th>EU_Sales</th>\n",
              "      <th>JP_Sales</th>\n",
              "      <th>Other_Sales</th>\n",
              "    </tr>\n",
              "  </thead>\n",
              "  <tbody>\n",
              "    <tr>\n",
              "      <th>0</th>\n",
              "      <td>1</td>\n",
              "      <td>Candace Kane's Candy Factory</td>\n",
              "      <td>DS</td>\n",
              "      <td>2008.0</td>\n",
              "      <td>Action</td>\n",
              "      <td>Destineer</td>\n",
              "      <td>0.04</td>\n",
              "      <td>0</td>\n",
              "      <td>0</td>\n",
              "      <td>0</td>\n",
              "    </tr>\n",
              "    <tr>\n",
              "      <th>1</th>\n",
              "      <td>2</td>\n",
              "      <td>The Munchables</td>\n",
              "      <td>Wii</td>\n",
              "      <td>2009.0</td>\n",
              "      <td>Action</td>\n",
              "      <td>Namco Bandai Games</td>\n",
              "      <td>0.17</td>\n",
              "      <td>0</td>\n",
              "      <td>0</td>\n",
              "      <td>0.01</td>\n",
              "    </tr>\n",
              "    <tr>\n",
              "      <th>2</th>\n",
              "      <td>3</td>\n",
              "      <td>Otome wa Oanesama Boku ni Koi Shiteru Portable</td>\n",
              "      <td>PSP</td>\n",
              "      <td>2010.0</td>\n",
              "      <td>Adventure</td>\n",
              "      <td>Alchemist</td>\n",
              "      <td>0</td>\n",
              "      <td>0</td>\n",
              "      <td>0.02</td>\n",
              "      <td>0</td>\n",
              "    </tr>\n",
              "    <tr>\n",
              "      <th>3</th>\n",
              "      <td>4</td>\n",
              "      <td>Deal or No Deal: Special Edition</td>\n",
              "      <td>DS</td>\n",
              "      <td>2010.0</td>\n",
              "      <td>Misc</td>\n",
              "      <td>Zoo Games</td>\n",
              "      <td>0.04</td>\n",
              "      <td>0</td>\n",
              "      <td>0</td>\n",
              "      <td>0</td>\n",
              "    </tr>\n",
              "    <tr>\n",
              "      <th>4</th>\n",
              "      <td>5</td>\n",
              "      <td>Ben 10 Ultimate Alien: Cosmic Destruction</td>\n",
              "      <td>PS3</td>\n",
              "      <td>2010.0</td>\n",
              "      <td>Platform</td>\n",
              "      <td>D3Publisher</td>\n",
              "      <td>0.12</td>\n",
              "      <td>0.09</td>\n",
              "      <td>0</td>\n",
              "      <td>0.04</td>\n",
              "    </tr>\n",
              "  </tbody>\n",
              "</table>\n",
              "</div>\n",
              "      <button class=\"colab-df-convert\" onclick=\"convertToInteractive('df-7341618f-f9a4-4d37-912e-521d7ee60f01')\"\n",
              "              title=\"Convert this dataframe to an interactive table.\"\n",
              "              style=\"display:none;\">\n",
              "        \n",
              "  <svg xmlns=\"http://www.w3.org/2000/svg\" height=\"24px\"viewBox=\"0 0 24 24\"\n",
              "       width=\"24px\">\n",
              "    <path d=\"M0 0h24v24H0V0z\" fill=\"none\"/>\n",
              "    <path d=\"M18.56 5.44l.94 2.06.94-2.06 2.06-.94-2.06-.94-.94-2.06-.94 2.06-2.06.94zm-11 1L8.5 8.5l.94-2.06 2.06-.94-2.06-.94L8.5 2.5l-.94 2.06-2.06.94zm10 10l.94 2.06.94-2.06 2.06-.94-2.06-.94-.94-2.06-.94 2.06-2.06.94z\"/><path d=\"M17.41 7.96l-1.37-1.37c-.4-.4-.92-.59-1.43-.59-.52 0-1.04.2-1.43.59L10.3 9.45l-7.72 7.72c-.78.78-.78 2.05 0 2.83L4 21.41c.39.39.9.59 1.41.59.51 0 1.02-.2 1.41-.59l7.78-7.78 2.81-2.81c.8-.78.8-2.07 0-2.86zM5.41 20L4 18.59l7.72-7.72 1.47 1.35L5.41 20z\"/>\n",
              "  </svg>\n",
              "      </button>\n",
              "      \n",
              "  <style>\n",
              "    .colab-df-container {\n",
              "      display:flex;\n",
              "      flex-wrap:wrap;\n",
              "      gap: 12px;\n",
              "    }\n",
              "\n",
              "    .colab-df-convert {\n",
              "      background-color: #E8F0FE;\n",
              "      border: none;\n",
              "      border-radius: 50%;\n",
              "      cursor: pointer;\n",
              "      display: none;\n",
              "      fill: #1967D2;\n",
              "      height: 32px;\n",
              "      padding: 0 0 0 0;\n",
              "      width: 32px;\n",
              "    }\n",
              "\n",
              "    .colab-df-convert:hover {\n",
              "      background-color: #E2EBFA;\n",
              "      box-shadow: 0px 1px 2px rgba(60, 64, 67, 0.3), 0px 1px 3px 1px rgba(60, 64, 67, 0.15);\n",
              "      fill: #174EA6;\n",
              "    }\n",
              "\n",
              "    [theme=dark] .colab-df-convert {\n",
              "      background-color: #3B4455;\n",
              "      fill: #D2E3FC;\n",
              "    }\n",
              "\n",
              "    [theme=dark] .colab-df-convert:hover {\n",
              "      background-color: #434B5C;\n",
              "      box-shadow: 0px 1px 3px 1px rgba(0, 0, 0, 0.15);\n",
              "      filter: drop-shadow(0px 1px 2px rgba(0, 0, 0, 0.3));\n",
              "      fill: #FFFFFF;\n",
              "    }\n",
              "  </style>\n",
              "\n",
              "      <script>\n",
              "        const buttonEl =\n",
              "          document.querySelector('#df-7341618f-f9a4-4d37-912e-521d7ee60f01 button.colab-df-convert');\n",
              "        buttonEl.style.display =\n",
              "          google.colab.kernel.accessAllowed ? 'block' : 'none';\n",
              "\n",
              "        async function convertToInteractive(key) {\n",
              "          const element = document.querySelector('#df-7341618f-f9a4-4d37-912e-521d7ee60f01');\n",
              "          const dataTable =\n",
              "            await google.colab.kernel.invokeFunction('convertToInteractive',\n",
              "                                                     [key], {});\n",
              "          if (!dataTable) return;\n",
              "\n",
              "          const docLinkHtml = 'Like what you see? Visit the ' +\n",
              "            '<a target=\"_blank\" href=https://colab.research.google.com/notebooks/data_table.ipynb>data table notebook</a>'\n",
              "            + ' to learn more about interactive tables.';\n",
              "          element.innerHTML = '';\n",
              "          dataTable['output_type'] = 'display_data';\n",
              "          await google.colab.output.renderOutput(dataTable, element);\n",
              "          const docLink = document.createElement('div');\n",
              "          docLink.innerHTML = docLinkHtml;\n",
              "          element.appendChild(docLink);\n",
              "        }\n",
              "      </script>\n",
              "    </div>\n",
              "  </div>\n",
              "  "
            ]
          },
          "metadata": {},
          "execution_count": 836
        }
      ]
    },
    {
      "cell_type": "markdown",
      "source": [
        "## **2. 데이터 탐색 및 정제**"
      ],
      "metadata": {
        "id": "-F1fieCA3B1s"
      }
    },
    {
      "cell_type": "code",
      "source": [
        "#불필요한 행 제거\n",
        "df = df.iloc[:,1:]\n",
        "df.head()"
      ],
      "metadata": {
        "colab": {
          "base_uri": "https://localhost:8080/",
          "height": 206
        },
        "id": "k6AeBxNe3v2c",
        "outputId": "c99cc514-647e-4bda-f5b6-a044ed03f85f"
      },
      "execution_count": 837,
      "outputs": [
        {
          "output_type": "execute_result",
          "data": {
            "text/plain": [
              "                                             Name Platform    Year      Genre  \\\n",
              "0                    Candace Kane's Candy Factory       DS  2008.0     Action   \n",
              "1                                  The Munchables      Wii  2009.0     Action   \n",
              "2  Otome wa Oanesama Boku ni Koi Shiteru Portable      PSP  2010.0  Adventure   \n",
              "3                Deal or No Deal: Special Edition       DS  2010.0       Misc   \n",
              "4       Ben 10 Ultimate Alien: Cosmic Destruction      PS3  2010.0   Platform   \n",
              "\n",
              "            Publisher NA_Sales EU_Sales JP_Sales Other_Sales  \n",
              "0           Destineer     0.04        0        0           0  \n",
              "1  Namco Bandai Games     0.17        0        0        0.01  \n",
              "2           Alchemist        0        0     0.02           0  \n",
              "3           Zoo Games     0.04        0        0           0  \n",
              "4         D3Publisher     0.12     0.09        0        0.04  "
            ],
            "text/html": [
              "\n",
              "  <div id=\"df-5bcdf78c-722b-40cc-9220-005572040804\">\n",
              "    <div class=\"colab-df-container\">\n",
              "      <div>\n",
              "<style scoped>\n",
              "    .dataframe tbody tr th:only-of-type {\n",
              "        vertical-align: middle;\n",
              "    }\n",
              "\n",
              "    .dataframe tbody tr th {\n",
              "        vertical-align: top;\n",
              "    }\n",
              "\n",
              "    .dataframe thead th {\n",
              "        text-align: right;\n",
              "    }\n",
              "</style>\n",
              "<table border=\"1\" class=\"dataframe\">\n",
              "  <thead>\n",
              "    <tr style=\"text-align: right;\">\n",
              "      <th></th>\n",
              "      <th>Name</th>\n",
              "      <th>Platform</th>\n",
              "      <th>Year</th>\n",
              "      <th>Genre</th>\n",
              "      <th>Publisher</th>\n",
              "      <th>NA_Sales</th>\n",
              "      <th>EU_Sales</th>\n",
              "      <th>JP_Sales</th>\n",
              "      <th>Other_Sales</th>\n",
              "    </tr>\n",
              "  </thead>\n",
              "  <tbody>\n",
              "    <tr>\n",
              "      <th>0</th>\n",
              "      <td>Candace Kane's Candy Factory</td>\n",
              "      <td>DS</td>\n",
              "      <td>2008.0</td>\n",
              "      <td>Action</td>\n",
              "      <td>Destineer</td>\n",
              "      <td>0.04</td>\n",
              "      <td>0</td>\n",
              "      <td>0</td>\n",
              "      <td>0</td>\n",
              "    </tr>\n",
              "    <tr>\n",
              "      <th>1</th>\n",
              "      <td>The Munchables</td>\n",
              "      <td>Wii</td>\n",
              "      <td>2009.0</td>\n",
              "      <td>Action</td>\n",
              "      <td>Namco Bandai Games</td>\n",
              "      <td>0.17</td>\n",
              "      <td>0</td>\n",
              "      <td>0</td>\n",
              "      <td>0.01</td>\n",
              "    </tr>\n",
              "    <tr>\n",
              "      <th>2</th>\n",
              "      <td>Otome wa Oanesama Boku ni Koi Shiteru Portable</td>\n",
              "      <td>PSP</td>\n",
              "      <td>2010.0</td>\n",
              "      <td>Adventure</td>\n",
              "      <td>Alchemist</td>\n",
              "      <td>0</td>\n",
              "      <td>0</td>\n",
              "      <td>0.02</td>\n",
              "      <td>0</td>\n",
              "    </tr>\n",
              "    <tr>\n",
              "      <th>3</th>\n",
              "      <td>Deal or No Deal: Special Edition</td>\n",
              "      <td>DS</td>\n",
              "      <td>2010.0</td>\n",
              "      <td>Misc</td>\n",
              "      <td>Zoo Games</td>\n",
              "      <td>0.04</td>\n",
              "      <td>0</td>\n",
              "      <td>0</td>\n",
              "      <td>0</td>\n",
              "    </tr>\n",
              "    <tr>\n",
              "      <th>4</th>\n",
              "      <td>Ben 10 Ultimate Alien: Cosmic Destruction</td>\n",
              "      <td>PS3</td>\n",
              "      <td>2010.0</td>\n",
              "      <td>Platform</td>\n",
              "      <td>D3Publisher</td>\n",
              "      <td>0.12</td>\n",
              "      <td>0.09</td>\n",
              "      <td>0</td>\n",
              "      <td>0.04</td>\n",
              "    </tr>\n",
              "  </tbody>\n",
              "</table>\n",
              "</div>\n",
              "      <button class=\"colab-df-convert\" onclick=\"convertToInteractive('df-5bcdf78c-722b-40cc-9220-005572040804')\"\n",
              "              title=\"Convert this dataframe to an interactive table.\"\n",
              "              style=\"display:none;\">\n",
              "        \n",
              "  <svg xmlns=\"http://www.w3.org/2000/svg\" height=\"24px\"viewBox=\"0 0 24 24\"\n",
              "       width=\"24px\">\n",
              "    <path d=\"M0 0h24v24H0V0z\" fill=\"none\"/>\n",
              "    <path d=\"M18.56 5.44l.94 2.06.94-2.06 2.06-.94-2.06-.94-.94-2.06-.94 2.06-2.06.94zm-11 1L8.5 8.5l.94-2.06 2.06-.94-2.06-.94L8.5 2.5l-.94 2.06-2.06.94zm10 10l.94 2.06.94-2.06 2.06-.94-2.06-.94-.94-2.06-.94 2.06-2.06.94z\"/><path d=\"M17.41 7.96l-1.37-1.37c-.4-.4-.92-.59-1.43-.59-.52 0-1.04.2-1.43.59L10.3 9.45l-7.72 7.72c-.78.78-.78 2.05 0 2.83L4 21.41c.39.39.9.59 1.41.59.51 0 1.02-.2 1.41-.59l7.78-7.78 2.81-2.81c.8-.78.8-2.07 0-2.86zM5.41 20L4 18.59l7.72-7.72 1.47 1.35L5.41 20z\"/>\n",
              "  </svg>\n",
              "      </button>\n",
              "      \n",
              "  <style>\n",
              "    .colab-df-container {\n",
              "      display:flex;\n",
              "      flex-wrap:wrap;\n",
              "      gap: 12px;\n",
              "    }\n",
              "\n",
              "    .colab-df-convert {\n",
              "      background-color: #E8F0FE;\n",
              "      border: none;\n",
              "      border-radius: 50%;\n",
              "      cursor: pointer;\n",
              "      display: none;\n",
              "      fill: #1967D2;\n",
              "      height: 32px;\n",
              "      padding: 0 0 0 0;\n",
              "      width: 32px;\n",
              "    }\n",
              "\n",
              "    .colab-df-convert:hover {\n",
              "      background-color: #E2EBFA;\n",
              "      box-shadow: 0px 1px 2px rgba(60, 64, 67, 0.3), 0px 1px 3px 1px rgba(60, 64, 67, 0.15);\n",
              "      fill: #174EA6;\n",
              "    }\n",
              "\n",
              "    [theme=dark] .colab-df-convert {\n",
              "      background-color: #3B4455;\n",
              "      fill: #D2E3FC;\n",
              "    }\n",
              "\n",
              "    [theme=dark] .colab-df-convert:hover {\n",
              "      background-color: #434B5C;\n",
              "      box-shadow: 0px 1px 3px 1px rgba(0, 0, 0, 0.15);\n",
              "      filter: drop-shadow(0px 1px 2px rgba(0, 0, 0, 0.3));\n",
              "      fill: #FFFFFF;\n",
              "    }\n",
              "  </style>\n",
              "\n",
              "      <script>\n",
              "        const buttonEl =\n",
              "          document.querySelector('#df-5bcdf78c-722b-40cc-9220-005572040804 button.colab-df-convert');\n",
              "        buttonEl.style.display =\n",
              "          google.colab.kernel.accessAllowed ? 'block' : 'none';\n",
              "\n",
              "        async function convertToInteractive(key) {\n",
              "          const element = document.querySelector('#df-5bcdf78c-722b-40cc-9220-005572040804');\n",
              "          const dataTable =\n",
              "            await google.colab.kernel.invokeFunction('convertToInteractive',\n",
              "                                                     [key], {});\n",
              "          if (!dataTable) return;\n",
              "\n",
              "          const docLinkHtml = 'Like what you see? Visit the ' +\n",
              "            '<a target=\"_blank\" href=https://colab.research.google.com/notebooks/data_table.ipynb>data table notebook</a>'\n",
              "            + ' to learn more about interactive tables.';\n",
              "          element.innerHTML = '';\n",
              "          dataTable['output_type'] = 'display_data';\n",
              "          await google.colab.output.renderOutput(dataTable, element);\n",
              "          const docLink = document.createElement('div');\n",
              "          docLink.innerHTML = docLinkHtml;\n",
              "          element.appendChild(docLink);\n",
              "        }\n",
              "      </script>\n",
              "    </div>\n",
              "  </div>\n",
              "  "
            ]
          },
          "metadata": {},
          "execution_count": 837
        }
      ]
    },
    {
      "cell_type": "code",
      "source": [
        "#결측치, 데이터타입 확인\n",
        "#year, genre, publisher에 결측치 존재하고, 출고량과 year의 데이터타입 변경 필요.\n",
        "\n",
        "df.info()"
      ],
      "metadata": {
        "colab": {
          "base_uri": "https://localhost:8080/"
        },
        "id": "X05u0ZHFN_xK",
        "outputId": "b9b090aa-c6e5-44af-a42b-b2a5dad408de"
      },
      "execution_count": 838,
      "outputs": [
        {
          "output_type": "stream",
          "name": "stdout",
          "text": [
            "<class 'pandas.core.frame.DataFrame'>\n",
            "RangeIndex: 16598 entries, 0 to 16597\n",
            "Data columns (total 9 columns):\n",
            " #   Column       Non-Null Count  Dtype  \n",
            "---  ------       --------------  -----  \n",
            " 0   Name         16598 non-null  object \n",
            " 1   Platform     16598 non-null  object \n",
            " 2   Year         16327 non-null  float64\n",
            " 3   Genre        16548 non-null  object \n",
            " 4   Publisher    16540 non-null  object \n",
            " 5   NA_Sales     16598 non-null  object \n",
            " 6   EU_Sales     16598 non-null  object \n",
            " 7   JP_Sales     16598 non-null  object \n",
            " 8   Other_Sales  16598 non-null  object \n",
            "dtypes: float64(1), object(8)\n",
            "memory usage: 1.1+ MB\n"
          ]
        }
      ]
    },
    {
      "cell_type": "code",
      "source": [
        "#분석하기 쉽게 연도,이름순으로 정렬.\n",
        "df.sort_values(by=['Year','Name'],ascending=True,inplace=True)"
      ],
      "metadata": {
        "id": "qd51eIg2aR3t"
      },
      "execution_count": 839,
      "outputs": []
    },
    {
      "cell_type": "code",
      "source": [
        "#'Name'이 고유한지 확인하기 위해 이름의 중복치에 대해 이름과 연도를 기준으로 정렬\n",
        "#같은 이름이어도 여러 플랫폼이 존재함.\n",
        "\n",
        "df[df.duplicated(['Name'],keep=False)]"
      ],
      "metadata": {
        "colab": {
          "base_uri": "https://localhost:8080/",
          "height": 424
        },
        "id": "ime_9gOAYA6V",
        "outputId": "274458e6-ce95-4942-e619-a5317b6fbf29"
      },
      "execution_count": 840,
      "outputs": [
        {
          "output_type": "execute_result",
          "data": {
            "text/plain": [
              "                                  Name Platform  Year     Genre  \\\n",
              "2249                        SplashDown      PS2   1.0    Racing   \n",
              "8144           ESPN NFL Primetime 2002       XB   2.0    Sports   \n",
              "11163            Momotarou Dentetsu 11       GC   2.0      Misc   \n",
              "15612  Rally Fusion: Race of Champions      PS2   2.0    Racing   \n",
              "8765                  Disney's Aladdin      GBA   3.0  Platform   \n",
              "...                                ...      ...   ...       ...   \n",
              "6118                  Wheel of Fortune      PS2   NaN      Misc   \n",
              "8055       Wii de Asobu: Metroid Prime      Wii   NaN   Shooter   \n",
              "9184       Wii de Asobu: Metroid Prime      Wii   NaN   Shooter   \n",
              "15776                  Without Warning       XB   NaN   Shooter   \n",
              "2070                    World of Tanks     X360   NaN   Shooter   \n",
              "\n",
              "                          Publisher NA_Sales EU_Sales JP_Sales Other_Sales  \n",
              "2249                          Atari     0.34     0.27        0        0.09  \n",
              "8144   Konami Digital Entertainment     0.01        0        0           0  \n",
              "11163                   Hudson Soft        0        0     0.07           0  \n",
              "15612                    Activision     0.06     0.05        0        0.02  \n",
              "8765                         Capcom     0.02     0.01        0           0  \n",
              "...                             ...      ...      ...      ...         ...  \n",
              "6118                        Unknown     0.47     0.36        0        0.12  \n",
              "8055                       Nintendo        0        0     0.02           0  \n",
              "9184                       Nintendo        0        0     0.02           0  \n",
              "15776                        Capcom     0.01        0        0           0  \n",
              "2070                            NaN        0     0.03        0           0  \n",
              "\n",
              "[7880 rows x 9 columns]"
            ],
            "text/html": [
              "\n",
              "  <div id=\"df-f633c96a-87d3-4d24-bfe4-d078a1880a5e\">\n",
              "    <div class=\"colab-df-container\">\n",
              "      <div>\n",
              "<style scoped>\n",
              "    .dataframe tbody tr th:only-of-type {\n",
              "        vertical-align: middle;\n",
              "    }\n",
              "\n",
              "    .dataframe tbody tr th {\n",
              "        vertical-align: top;\n",
              "    }\n",
              "\n",
              "    .dataframe thead th {\n",
              "        text-align: right;\n",
              "    }\n",
              "</style>\n",
              "<table border=\"1\" class=\"dataframe\">\n",
              "  <thead>\n",
              "    <tr style=\"text-align: right;\">\n",
              "      <th></th>\n",
              "      <th>Name</th>\n",
              "      <th>Platform</th>\n",
              "      <th>Year</th>\n",
              "      <th>Genre</th>\n",
              "      <th>Publisher</th>\n",
              "      <th>NA_Sales</th>\n",
              "      <th>EU_Sales</th>\n",
              "      <th>JP_Sales</th>\n",
              "      <th>Other_Sales</th>\n",
              "    </tr>\n",
              "  </thead>\n",
              "  <tbody>\n",
              "    <tr>\n",
              "      <th>2249</th>\n",
              "      <td>SplashDown</td>\n",
              "      <td>PS2</td>\n",
              "      <td>1.0</td>\n",
              "      <td>Racing</td>\n",
              "      <td>Atari</td>\n",
              "      <td>0.34</td>\n",
              "      <td>0.27</td>\n",
              "      <td>0</td>\n",
              "      <td>0.09</td>\n",
              "    </tr>\n",
              "    <tr>\n",
              "      <th>8144</th>\n",
              "      <td>ESPN NFL Primetime 2002</td>\n",
              "      <td>XB</td>\n",
              "      <td>2.0</td>\n",
              "      <td>Sports</td>\n",
              "      <td>Konami Digital Entertainment</td>\n",
              "      <td>0.01</td>\n",
              "      <td>0</td>\n",
              "      <td>0</td>\n",
              "      <td>0</td>\n",
              "    </tr>\n",
              "    <tr>\n",
              "      <th>11163</th>\n",
              "      <td>Momotarou Dentetsu 11</td>\n",
              "      <td>GC</td>\n",
              "      <td>2.0</td>\n",
              "      <td>Misc</td>\n",
              "      <td>Hudson Soft</td>\n",
              "      <td>0</td>\n",
              "      <td>0</td>\n",
              "      <td>0.07</td>\n",
              "      <td>0</td>\n",
              "    </tr>\n",
              "    <tr>\n",
              "      <th>15612</th>\n",
              "      <td>Rally Fusion: Race of Champions</td>\n",
              "      <td>PS2</td>\n",
              "      <td>2.0</td>\n",
              "      <td>Racing</td>\n",
              "      <td>Activision</td>\n",
              "      <td>0.06</td>\n",
              "      <td>0.05</td>\n",
              "      <td>0</td>\n",
              "      <td>0.02</td>\n",
              "    </tr>\n",
              "    <tr>\n",
              "      <th>8765</th>\n",
              "      <td>Disney's Aladdin</td>\n",
              "      <td>GBA</td>\n",
              "      <td>3.0</td>\n",
              "      <td>Platform</td>\n",
              "      <td>Capcom</td>\n",
              "      <td>0.02</td>\n",
              "      <td>0.01</td>\n",
              "      <td>0</td>\n",
              "      <td>0</td>\n",
              "    </tr>\n",
              "    <tr>\n",
              "      <th>...</th>\n",
              "      <td>...</td>\n",
              "      <td>...</td>\n",
              "      <td>...</td>\n",
              "      <td>...</td>\n",
              "      <td>...</td>\n",
              "      <td>...</td>\n",
              "      <td>...</td>\n",
              "      <td>...</td>\n",
              "      <td>...</td>\n",
              "    </tr>\n",
              "    <tr>\n",
              "      <th>6118</th>\n",
              "      <td>Wheel of Fortune</td>\n",
              "      <td>PS2</td>\n",
              "      <td>NaN</td>\n",
              "      <td>Misc</td>\n",
              "      <td>Unknown</td>\n",
              "      <td>0.47</td>\n",
              "      <td>0.36</td>\n",
              "      <td>0</td>\n",
              "      <td>0.12</td>\n",
              "    </tr>\n",
              "    <tr>\n",
              "      <th>8055</th>\n",
              "      <td>Wii de Asobu: Metroid Prime</td>\n",
              "      <td>Wii</td>\n",
              "      <td>NaN</td>\n",
              "      <td>Shooter</td>\n",
              "      <td>Nintendo</td>\n",
              "      <td>0</td>\n",
              "      <td>0</td>\n",
              "      <td>0.02</td>\n",
              "      <td>0</td>\n",
              "    </tr>\n",
              "    <tr>\n",
              "      <th>9184</th>\n",
              "      <td>Wii de Asobu: Metroid Prime</td>\n",
              "      <td>Wii</td>\n",
              "      <td>NaN</td>\n",
              "      <td>Shooter</td>\n",
              "      <td>Nintendo</td>\n",
              "      <td>0</td>\n",
              "      <td>0</td>\n",
              "      <td>0.02</td>\n",
              "      <td>0</td>\n",
              "    </tr>\n",
              "    <tr>\n",
              "      <th>15776</th>\n",
              "      <td>Without Warning</td>\n",
              "      <td>XB</td>\n",
              "      <td>NaN</td>\n",
              "      <td>Shooter</td>\n",
              "      <td>Capcom</td>\n",
              "      <td>0.01</td>\n",
              "      <td>0</td>\n",
              "      <td>0</td>\n",
              "      <td>0</td>\n",
              "    </tr>\n",
              "    <tr>\n",
              "      <th>2070</th>\n",
              "      <td>World of Tanks</td>\n",
              "      <td>X360</td>\n",
              "      <td>NaN</td>\n",
              "      <td>Shooter</td>\n",
              "      <td>NaN</td>\n",
              "      <td>0</td>\n",
              "      <td>0.03</td>\n",
              "      <td>0</td>\n",
              "      <td>0</td>\n",
              "    </tr>\n",
              "  </tbody>\n",
              "</table>\n",
              "<p>7880 rows × 9 columns</p>\n",
              "</div>\n",
              "      <button class=\"colab-df-convert\" onclick=\"convertToInteractive('df-f633c96a-87d3-4d24-bfe4-d078a1880a5e')\"\n",
              "              title=\"Convert this dataframe to an interactive table.\"\n",
              "              style=\"display:none;\">\n",
              "        \n",
              "  <svg xmlns=\"http://www.w3.org/2000/svg\" height=\"24px\"viewBox=\"0 0 24 24\"\n",
              "       width=\"24px\">\n",
              "    <path d=\"M0 0h24v24H0V0z\" fill=\"none\"/>\n",
              "    <path d=\"M18.56 5.44l.94 2.06.94-2.06 2.06-.94-2.06-.94-.94-2.06-.94 2.06-2.06.94zm-11 1L8.5 8.5l.94-2.06 2.06-.94-2.06-.94L8.5 2.5l-.94 2.06-2.06.94zm10 10l.94 2.06.94-2.06 2.06-.94-2.06-.94-.94-2.06-.94 2.06-2.06.94z\"/><path d=\"M17.41 7.96l-1.37-1.37c-.4-.4-.92-.59-1.43-.59-.52 0-1.04.2-1.43.59L10.3 9.45l-7.72 7.72c-.78.78-.78 2.05 0 2.83L4 21.41c.39.39.9.59 1.41.59.51 0 1.02-.2 1.41-.59l7.78-7.78 2.81-2.81c.8-.78.8-2.07 0-2.86zM5.41 20L4 18.59l7.72-7.72 1.47 1.35L5.41 20z\"/>\n",
              "  </svg>\n",
              "      </button>\n",
              "      \n",
              "  <style>\n",
              "    .colab-df-container {\n",
              "      display:flex;\n",
              "      flex-wrap:wrap;\n",
              "      gap: 12px;\n",
              "    }\n",
              "\n",
              "    .colab-df-convert {\n",
              "      background-color: #E8F0FE;\n",
              "      border: none;\n",
              "      border-radius: 50%;\n",
              "      cursor: pointer;\n",
              "      display: none;\n",
              "      fill: #1967D2;\n",
              "      height: 32px;\n",
              "      padding: 0 0 0 0;\n",
              "      width: 32px;\n",
              "    }\n",
              "\n",
              "    .colab-df-convert:hover {\n",
              "      background-color: #E2EBFA;\n",
              "      box-shadow: 0px 1px 2px rgba(60, 64, 67, 0.3), 0px 1px 3px 1px rgba(60, 64, 67, 0.15);\n",
              "      fill: #174EA6;\n",
              "    }\n",
              "\n",
              "    [theme=dark] .colab-df-convert {\n",
              "      background-color: #3B4455;\n",
              "      fill: #D2E3FC;\n",
              "    }\n",
              "\n",
              "    [theme=dark] .colab-df-convert:hover {\n",
              "      background-color: #434B5C;\n",
              "      box-shadow: 0px 1px 3px 1px rgba(0, 0, 0, 0.15);\n",
              "      filter: drop-shadow(0px 1px 2px rgba(0, 0, 0, 0.3));\n",
              "      fill: #FFFFFF;\n",
              "    }\n",
              "  </style>\n",
              "\n",
              "      <script>\n",
              "        const buttonEl =\n",
              "          document.querySelector('#df-f633c96a-87d3-4d24-bfe4-d078a1880a5e button.colab-df-convert');\n",
              "        buttonEl.style.display =\n",
              "          google.colab.kernel.accessAllowed ? 'block' : 'none';\n",
              "\n",
              "        async function convertToInteractive(key) {\n",
              "          const element = document.querySelector('#df-f633c96a-87d3-4d24-bfe4-d078a1880a5e');\n",
              "          const dataTable =\n",
              "            await google.colab.kernel.invokeFunction('convertToInteractive',\n",
              "                                                     [key], {});\n",
              "          if (!dataTable) return;\n",
              "\n",
              "          const docLinkHtml = 'Like what you see? Visit the ' +\n",
              "            '<a target=\"_blank\" href=https://colab.research.google.com/notebooks/data_table.ipynb>data table notebook</a>'\n",
              "            + ' to learn more about interactive tables.';\n",
              "          element.innerHTML = '';\n",
              "          dataTable['output_type'] = 'display_data';\n",
              "          await google.colab.output.renderOutput(dataTable, element);\n",
              "          const docLink = document.createElement('div');\n",
              "          docLink.innerHTML = docLinkHtml;\n",
              "          element.appendChild(docLink);\n",
              "        }\n",
              "      </script>\n",
              "    </div>\n",
              "  </div>\n",
              "  "
            ]
          },
          "metadata": {},
          "execution_count": 840
        }
      ]
    },
    {
      "cell_type": "code",
      "source": [
        "df[df.duplicated(['Name','Platform'],keep=False)]\n",
        "\n",
        "# 같은 이름의 게임이어도 출시 년도가 다를 수 있음. (예를들면 재출시 하는 경우)\n",
        "#그에 따라 'Year'은 대체가 불가능 하다고 판단됨.\n",
        "#출고량에 단위가 'K'인것 발견"
      ],
      "metadata": {
        "colab": {
          "base_uri": "https://localhost:8080/",
          "height": 363
        },
        "id": "QBludA8VYhtw",
        "outputId": "246a7806-adf9-456c-a36a-bf53711b557e"
      },
      "execution_count": 841,
      "outputs": [
        {
          "output_type": "execute_result",
          "data": {
            "text/plain": [
              "                              Name Platform    Year     Genre  \\\n",
              "2673   Need for Speed: Most Wanted       PC  2005.0    Racing   \n",
              "12529  Need for Speed: Most Wanted     X360  2005.0    Racing   \n",
              "15705           Sonic the Hedgehog      PS3  2006.0  Platform   \n",
              "7346                 Madden NFL 13      PS3  2012.0    Sports   \n",
              "8717                 Madden NFL 13      PS3  2012.0    Sports   \n",
              "1318   Need for Speed: Most Wanted     X360  2012.0    Racing   \n",
              "13808  Need for Speed: Most Wanted       PC  2012.0    Racing   \n",
              "8651            Sonic the Hedgehog      PS3     NaN  Platform   \n",
              "8055   Wii de Asobu: Metroid Prime      Wii     NaN   Shooter   \n",
              "9184   Wii de Asobu: Metroid Prime      Wii     NaN   Shooter   \n",
              "\n",
              "             Publisher NA_Sales EU_Sales JP_Sales Other_Sales  \n",
              "2673   Electronic Arts      20K     0.23        0        0.05  \n",
              "12529  Electronic Arts        1     0.17     0.02         0.1  \n",
              "15705             Sega     0.41     0.07     0.04        0.66  \n",
              "7346   Electronic Arts     2.11     0.23        0        0.22  \n",
              "8717   Electronic Arts        0     0.01        0           0  \n",
              "1318   Electronic Arts     0.62      0.8     0.01        0.15  \n",
              "13808  Electronic Arts        0     0.06        0        0.02  \n",
              "8651               NaN        0     0.48        0           0  \n",
              "8055          Nintendo        0        0     0.02           0  \n",
              "9184          Nintendo        0        0     0.02           0  "
            ],
            "text/html": [
              "\n",
              "  <div id=\"df-9b37f275-b205-4648-99c5-f79a023e2814\">\n",
              "    <div class=\"colab-df-container\">\n",
              "      <div>\n",
              "<style scoped>\n",
              "    .dataframe tbody tr th:only-of-type {\n",
              "        vertical-align: middle;\n",
              "    }\n",
              "\n",
              "    .dataframe tbody tr th {\n",
              "        vertical-align: top;\n",
              "    }\n",
              "\n",
              "    .dataframe thead th {\n",
              "        text-align: right;\n",
              "    }\n",
              "</style>\n",
              "<table border=\"1\" class=\"dataframe\">\n",
              "  <thead>\n",
              "    <tr style=\"text-align: right;\">\n",
              "      <th></th>\n",
              "      <th>Name</th>\n",
              "      <th>Platform</th>\n",
              "      <th>Year</th>\n",
              "      <th>Genre</th>\n",
              "      <th>Publisher</th>\n",
              "      <th>NA_Sales</th>\n",
              "      <th>EU_Sales</th>\n",
              "      <th>JP_Sales</th>\n",
              "      <th>Other_Sales</th>\n",
              "    </tr>\n",
              "  </thead>\n",
              "  <tbody>\n",
              "    <tr>\n",
              "      <th>2673</th>\n",
              "      <td>Need for Speed: Most Wanted</td>\n",
              "      <td>PC</td>\n",
              "      <td>2005.0</td>\n",
              "      <td>Racing</td>\n",
              "      <td>Electronic Arts</td>\n",
              "      <td>20K</td>\n",
              "      <td>0.23</td>\n",
              "      <td>0</td>\n",
              "      <td>0.05</td>\n",
              "    </tr>\n",
              "    <tr>\n",
              "      <th>12529</th>\n",
              "      <td>Need for Speed: Most Wanted</td>\n",
              "      <td>X360</td>\n",
              "      <td>2005.0</td>\n",
              "      <td>Racing</td>\n",
              "      <td>Electronic Arts</td>\n",
              "      <td>1</td>\n",
              "      <td>0.17</td>\n",
              "      <td>0.02</td>\n",
              "      <td>0.1</td>\n",
              "    </tr>\n",
              "    <tr>\n",
              "      <th>15705</th>\n",
              "      <td>Sonic the Hedgehog</td>\n",
              "      <td>PS3</td>\n",
              "      <td>2006.0</td>\n",
              "      <td>Platform</td>\n",
              "      <td>Sega</td>\n",
              "      <td>0.41</td>\n",
              "      <td>0.07</td>\n",
              "      <td>0.04</td>\n",
              "      <td>0.66</td>\n",
              "    </tr>\n",
              "    <tr>\n",
              "      <th>7346</th>\n",
              "      <td>Madden NFL 13</td>\n",
              "      <td>PS3</td>\n",
              "      <td>2012.0</td>\n",
              "      <td>Sports</td>\n",
              "      <td>Electronic Arts</td>\n",
              "      <td>2.11</td>\n",
              "      <td>0.23</td>\n",
              "      <td>0</td>\n",
              "      <td>0.22</td>\n",
              "    </tr>\n",
              "    <tr>\n",
              "      <th>8717</th>\n",
              "      <td>Madden NFL 13</td>\n",
              "      <td>PS3</td>\n",
              "      <td>2012.0</td>\n",
              "      <td>Sports</td>\n",
              "      <td>Electronic Arts</td>\n",
              "      <td>0</td>\n",
              "      <td>0.01</td>\n",
              "      <td>0</td>\n",
              "      <td>0</td>\n",
              "    </tr>\n",
              "    <tr>\n",
              "      <th>1318</th>\n",
              "      <td>Need for Speed: Most Wanted</td>\n",
              "      <td>X360</td>\n",
              "      <td>2012.0</td>\n",
              "      <td>Racing</td>\n",
              "      <td>Electronic Arts</td>\n",
              "      <td>0.62</td>\n",
              "      <td>0.8</td>\n",
              "      <td>0.01</td>\n",
              "      <td>0.15</td>\n",
              "    </tr>\n",
              "    <tr>\n",
              "      <th>13808</th>\n",
              "      <td>Need for Speed: Most Wanted</td>\n",
              "      <td>PC</td>\n",
              "      <td>2012.0</td>\n",
              "      <td>Racing</td>\n",
              "      <td>Electronic Arts</td>\n",
              "      <td>0</td>\n",
              "      <td>0.06</td>\n",
              "      <td>0</td>\n",
              "      <td>0.02</td>\n",
              "    </tr>\n",
              "    <tr>\n",
              "      <th>8651</th>\n",
              "      <td>Sonic the Hedgehog</td>\n",
              "      <td>PS3</td>\n",
              "      <td>NaN</td>\n",
              "      <td>Platform</td>\n",
              "      <td>NaN</td>\n",
              "      <td>0</td>\n",
              "      <td>0.48</td>\n",
              "      <td>0</td>\n",
              "      <td>0</td>\n",
              "    </tr>\n",
              "    <tr>\n",
              "      <th>8055</th>\n",
              "      <td>Wii de Asobu: Metroid Prime</td>\n",
              "      <td>Wii</td>\n",
              "      <td>NaN</td>\n",
              "      <td>Shooter</td>\n",
              "      <td>Nintendo</td>\n",
              "      <td>0</td>\n",
              "      <td>0</td>\n",
              "      <td>0.02</td>\n",
              "      <td>0</td>\n",
              "    </tr>\n",
              "    <tr>\n",
              "      <th>9184</th>\n",
              "      <td>Wii de Asobu: Metroid Prime</td>\n",
              "      <td>Wii</td>\n",
              "      <td>NaN</td>\n",
              "      <td>Shooter</td>\n",
              "      <td>Nintendo</td>\n",
              "      <td>0</td>\n",
              "      <td>0</td>\n",
              "      <td>0.02</td>\n",
              "      <td>0</td>\n",
              "    </tr>\n",
              "  </tbody>\n",
              "</table>\n",
              "</div>\n",
              "      <button class=\"colab-df-convert\" onclick=\"convertToInteractive('df-9b37f275-b205-4648-99c5-f79a023e2814')\"\n",
              "              title=\"Convert this dataframe to an interactive table.\"\n",
              "              style=\"display:none;\">\n",
              "        \n",
              "  <svg xmlns=\"http://www.w3.org/2000/svg\" height=\"24px\"viewBox=\"0 0 24 24\"\n",
              "       width=\"24px\">\n",
              "    <path d=\"M0 0h24v24H0V0z\" fill=\"none\"/>\n",
              "    <path d=\"M18.56 5.44l.94 2.06.94-2.06 2.06-.94-2.06-.94-.94-2.06-.94 2.06-2.06.94zm-11 1L8.5 8.5l.94-2.06 2.06-.94-2.06-.94L8.5 2.5l-.94 2.06-2.06.94zm10 10l.94 2.06.94-2.06 2.06-.94-2.06-.94-.94-2.06-.94 2.06-2.06.94z\"/><path d=\"M17.41 7.96l-1.37-1.37c-.4-.4-.92-.59-1.43-.59-.52 0-1.04.2-1.43.59L10.3 9.45l-7.72 7.72c-.78.78-.78 2.05 0 2.83L4 21.41c.39.39.9.59 1.41.59.51 0 1.02-.2 1.41-.59l7.78-7.78 2.81-2.81c.8-.78.8-2.07 0-2.86zM5.41 20L4 18.59l7.72-7.72 1.47 1.35L5.41 20z\"/>\n",
              "  </svg>\n",
              "      </button>\n",
              "      \n",
              "  <style>\n",
              "    .colab-df-container {\n",
              "      display:flex;\n",
              "      flex-wrap:wrap;\n",
              "      gap: 12px;\n",
              "    }\n",
              "\n",
              "    .colab-df-convert {\n",
              "      background-color: #E8F0FE;\n",
              "      border: none;\n",
              "      border-radius: 50%;\n",
              "      cursor: pointer;\n",
              "      display: none;\n",
              "      fill: #1967D2;\n",
              "      height: 32px;\n",
              "      padding: 0 0 0 0;\n",
              "      width: 32px;\n",
              "    }\n",
              "\n",
              "    .colab-df-convert:hover {\n",
              "      background-color: #E2EBFA;\n",
              "      box-shadow: 0px 1px 2px rgba(60, 64, 67, 0.3), 0px 1px 3px 1px rgba(60, 64, 67, 0.15);\n",
              "      fill: #174EA6;\n",
              "    }\n",
              "\n",
              "    [theme=dark] .colab-df-convert {\n",
              "      background-color: #3B4455;\n",
              "      fill: #D2E3FC;\n",
              "    }\n",
              "\n",
              "    [theme=dark] .colab-df-convert:hover {\n",
              "      background-color: #434B5C;\n",
              "      box-shadow: 0px 1px 3px 1px rgba(0, 0, 0, 0.15);\n",
              "      filter: drop-shadow(0px 1px 2px rgba(0, 0, 0, 0.3));\n",
              "      fill: #FFFFFF;\n",
              "    }\n",
              "  </style>\n",
              "\n",
              "      <script>\n",
              "        const buttonEl =\n",
              "          document.querySelector('#df-9b37f275-b205-4648-99c5-f79a023e2814 button.colab-df-convert');\n",
              "        buttonEl.style.display =\n",
              "          google.colab.kernel.accessAllowed ? 'block' : 'none';\n",
              "\n",
              "        async function convertToInteractive(key) {\n",
              "          const element = document.querySelector('#df-9b37f275-b205-4648-99c5-f79a023e2814');\n",
              "          const dataTable =\n",
              "            await google.colab.kernel.invokeFunction('convertToInteractive',\n",
              "                                                     [key], {});\n",
              "          if (!dataTable) return;\n",
              "\n",
              "          const docLinkHtml = 'Like what you see? Visit the ' +\n",
              "            '<a target=\"_blank\" href=https://colab.research.google.com/notebooks/data_table.ipynb>data table notebook</a>'\n",
              "            + ' to learn more about interactive tables.';\n",
              "          element.innerHTML = '';\n",
              "          dataTable['output_type'] = 'display_data';\n",
              "          await google.colab.output.renderOutput(dataTable, element);\n",
              "          const docLink = document.createElement('div');\n",
              "          docLink.innerHTML = docLinkHtml;\n",
              "          element.appendChild(docLink);\n",
              "        }\n",
              "      </script>\n",
              "    </div>\n",
              "  </div>\n",
              "  "
            ]
          },
          "metadata": {},
          "execution_count": 841
        }
      ]
    },
    {
      "cell_type": "code",
      "source": [
        "# Year 결측치들 제거\n",
        "df.dropna(subset=['Year'],inplace=True)"
      ],
      "metadata": {
        "id": "uXkLFA8jGeYC"
      },
      "execution_count": 842,
      "outputs": []
    },
    {
      "cell_type": "code",
      "source": [
        "#'Year'가 1900미만인 데이터 삭제.\n",
        "df= df[df['Year'] > 1900]"
      ],
      "metadata": {
        "id": "_a9Am-6upark"
      },
      "execution_count": 843,
      "outputs": []
    },
    {
      "cell_type": "code",
      "source": [
        "#Genre의 결측치와 같은 게임이름의 데이터를 가진 다른 열이 있는지 확인\n",
        "missing_G = df[df['Genre'].isnull()]\n",
        "yes_G = df.copy()                       #원래 데이터를 복사해서 사용\n",
        "yes_G = yes_G.dropna(subset=['Genre']) # 'Publisher'가 nan값인 행들만 제거!\n",
        "\n",
        "have_G =[]\n",
        "for data in yes_G['Name']:\n",
        "    if data in missing_G['Name'].unique():\n",
        "        have_G.append(data)\n",
        "\n",
        "len(list(set(have_G)))  #20개의 데이터 대체 가능!"
      ],
      "metadata": {
        "colab": {
          "base_uri": "https://localhost:8080/"
        },
        "id": "-s1lbt7fajbz",
        "outputId": "e18c63fc-7093-4865-fcca-d8b602cd33ff"
      },
      "execution_count": 844,
      "outputs": [
        {
          "output_type": "execute_result",
          "data": {
            "text/plain": [
              "20"
            ]
          },
          "metadata": {},
          "execution_count": 844
        }
      ]
    },
    {
      "cell_type": "code",
      "source": [
        "missing_G['Genre']  = missing_G['Name'].map(lambda x : yes_G.query('Name == \"'+x+'\"').Genre.iloc[0] if len(yes_G.query('Name == \"'+x+'\"')) > 0 else np.NaN)"
      ],
      "metadata": {
        "id": "aGv0dSezKv16"
      },
      "execution_count": 845,
      "outputs": []
    },
    {
      "cell_type": "code",
      "source": [
        "missing_G.isnull().sum() #20개 대체완료."
      ],
      "metadata": {
        "colab": {
          "base_uri": "https://localhost:8080/"
        },
        "id": "ThhAbN4cRPMZ",
        "outputId": "df27a047-6774-47f2-94ff-1f0272d1287c"
      },
      "execution_count": 846,
      "outputs": [
        {
          "output_type": "execute_result",
          "data": {
            "text/plain": [
              "Name            0\n",
              "Platform        0\n",
              "Year            0\n",
              "Genre          30\n",
              "Publisher       0\n",
              "NA_Sales        0\n",
              "EU_Sales        0\n",
              "JP_Sales        0\n",
              "Other_Sales     0\n",
              "dtype: int64"
            ]
          },
          "metadata": {},
          "execution_count": 846
        }
      ]
    },
    {
      "cell_type": "code",
      "source": [
        "#df에 해당 데이터 덮어씌우기\n",
        "\n",
        "df.update(missing_G,overwrite=True)"
      ],
      "metadata": {
        "id": "C_g5FgwZWfL-"
      },
      "execution_count": 847,
      "outputs": []
    },
    {
      "cell_type": "code",
      "source": [
        "#같은방법으로 'Publisher'확인 \n",
        "missing_P = df[df['Publisher'].isnull()]\n",
        "yes_P = df.copy()                       #원래 데이터를 복사해서 사용\n",
        "yes_P = yes_P.dropna(subset=['Publisher']) # 'Publisher'가 nan값인 행들만 제거!\n",
        "\n",
        "#기존데이터의 'Name'과 'Publisher'결측치의 'Name'이 같은 데이터가 있는지 확인.\n",
        "have_P = []\n",
        "\n",
        "for data in yes_P['Name']:           \n",
        "    if data in missing_P['Name'].unique():\n",
        "        have_P.append(data)\n",
        "have_P                                #1개의 데이터 대체가능."
      ],
      "metadata": {
        "colab": {
          "base_uri": "https://localhost:8080/"
        },
        "id": "FqLedRulyvOh",
        "outputId": "235d7fe9-df87-4e5b-9b69-51af6270c87a"
      },
      "execution_count": 848,
      "outputs": [
        {
          "output_type": "execute_result",
          "data": {
            "text/plain": [
              "['Bound By Flame']"
            ]
          },
          "metadata": {},
          "execution_count": 848
        }
      ]
    },
    {
      "cell_type": "code",
      "source": [
        "missing_P['Publisher']  = missing_P['Name'].map(lambda x : yes_P.query('Name == \"'+x+'\"').Publisher.iloc[0] if len(yes_P.query('Name == \"'+x+'\"')) > 0 else np.NaN)"
      ],
      "metadata": {
        "id": "WawPnVNwXFfi"
      },
      "execution_count": 849,
      "outputs": []
    },
    {
      "cell_type": "code",
      "source": [
        "df.update(missing_P,overwrite=True) #덮어쓰기"
      ],
      "metadata": {
        "id": "vgYUhcCNX3TQ"
      },
      "execution_count": 850,
      "outputs": []
    },
    {
      "cell_type": "code",
      "source": [
        "df.isnull().sum() "
      ],
      "metadata": {
        "colab": {
          "base_uri": "https://localhost:8080/"
        },
        "id": "bUhxlztNX8XM",
        "outputId": "93e39d03-816f-40e2-f0e9-cfb19761dba9"
      },
      "execution_count": 851,
      "outputs": [
        {
          "output_type": "execute_result",
          "data": {
            "text/plain": [
              "Name            0\n",
              "Platform        0\n",
              "Year            0\n",
              "Genre          30\n",
              "Publisher      35\n",
              "NA_Sales        0\n",
              "EU_Sales        0\n",
              "JP_Sales        0\n",
              "Other_Sales     0\n",
              "dtype: int64"
            ]
          },
          "metadata": {},
          "execution_count": 851
        }
      ]
    },
    {
      "cell_type": "code",
      "source": [
        "#결측치 삭제\n",
        "df.dropna(inplace=True)"
      ],
      "metadata": {
        "id": "KP3KpENG8VC8"
      },
      "execution_count": 852,
      "outputs": []
    },
    {
      "cell_type": "code",
      "source": [
        "#'Name','Platform','Year' 이 같은 항목 삭제\n",
        "df.drop_duplicates(['Name','Platform','Year'],keep=False,inplace=True)"
      ],
      "metadata": {
        "id": "00fxQqkl0KdO"
      },
      "execution_count": 853,
      "outputs": []
    },
    {
      "cell_type": "code",
      "source": [
        "df.reset_index(drop=True,inplace=True) #인덱스 재정렬."
      ],
      "metadata": {
        "id": "WW0P6J76gyON"
      },
      "execution_count": 854,
      "outputs": []
    },
    {
      "cell_type": "code",
      "source": [
        "#출고량에 숫자이외의 문자가 들어있는 항목 전부 뽑아내기.\n",
        "import re                \n",
        "\n",
        "def has_errors(inputString):\n",
        "  return bool(re.search('[a-zA-Z]+', inputString))\n",
        "\n",
        "error_condition = df.NA_Sales.apply(has_errors)|df.EU_Sales.apply(has_errors)|df.JP_Sales.apply(has_errors)|df.Other_Sales.apply(has_errors)\n",
        "error= df[error_condition]"
      ],
      "metadata": {
        "id": "hpTzzJC8ripy"
      },
      "execution_count": 855,
      "outputs": []
    },
    {
      "cell_type": "code",
      "source": [
        "#출고량에 'K'나 'M'등 문자로 이루어진 데이터 변환해줌.\n",
        "#'M'은 원래 단위와 같으니 지워주고\n",
        "# 'K'인 데이터는 *0.001 을 해준다.\n",
        "\n",
        "Sales= ['NA_Sales','EU_Sales','JP_Sales','Other_Sales']\n",
        "\n",
        "for i in Sales:\n",
        "  df[i] =df[i].replace({\"K\":\"*0.001\", \"M\":\"\"}, regex=True).map(pd.eval)\n"
      ],
      "metadata": {
        "id": "95aYHMv8qU5S"
      },
      "execution_count": 856,
      "outputs": []
    },
    {
      "cell_type": "code",
      "source": [
        "#year 의 데이터 타입 정수로 바꿔주기.\n",
        "df['Year']=df['Year'].astype(np.int64)"
      ],
      "metadata": {
        "id": "WNpf5lUdA3t5"
      },
      "execution_count": 857,
      "outputs": []
    },
    {
      "cell_type": "markdown",
      "source": [
        "#Feature Engineering"
      ],
      "metadata": {
        "id": "LjTIV2Fc_o4L"
      }
    },
    {
      "cell_type": "markdown",
      "source": [
        "## **1. 의미있는 Feature 추가**"
      ],
      "metadata": {
        "id": "Sf7qFEvNArMI"
      }
    },
    {
      "cell_type": "code",
      "source": [
        "# 전 세계 통합 판매량을 알아보기 위해 Feature 를 추가한다.\n",
        "df['Global_Sales']=df['NA_Sales']+df['EU_Sales']+df['JP_Sales']+df['Other_Sales']"
      ],
      "metadata": {
        "id": "9q9XtUaO_lyW"
      },
      "execution_count": 858,
      "outputs": []
    },
    {
      "cell_type": "markdown",
      "source": [
        "#\b지역별 선호 게임장르"
      ],
      "metadata": {
        "id": "rH5NskDttEQM"
      }
    },
    {
      "cell_type": "markdown",
      "source": [
        "## **1. 가설 설정 및 검정**"
      ],
      "metadata": {
        "id": "sO59z5dPbEGe"
      }
    },
    {
      "cell_type": "markdown",
      "source": [
        "H0 : 지역이 달라도 선호하는 게임의 장르는 같다.\n",
        "\n",
        "H1 : 적어도 한 지역은 선호하는 게임의 장르가 다르다."
      ],
      "metadata": {
        "id": "QopJkd0abRdr"
      }
    },
    {
      "cell_type": "code",
      "source": [
        "#라이브러리 불러오기\n",
        "import scipy.stats as stats"
      ],
      "metadata": {
        "id": "SJmUbF4ygukQ"
      },
      "execution_count": 859,
      "outputs": []
    },
    {
      "cell_type": "code",
      "source": [
        "#가설검정에 앞서 지역별 게임판매량의 평균을 알아보자.\n",
        "\n",
        "Sales_means = df.groupby('Genre',as_index=False)[Sales].mean()\n",
        "Sales_means"
      ],
      "metadata": {
        "colab": {
          "base_uri": "https://localhost:8080/",
          "height": 426
        },
        "id": "UWjHEFKutUZz",
        "outputId": "c228123c-0d07-4f7b-eaed-5221952410d1"
      },
      "execution_count": 860,
      "outputs": [
        {
          "output_type": "execute_result",
          "data": {
            "text/plain": [
              "           Genre  NA_Sales  EU_Sales  JP_Sales  Other_Sales\n",
              "0         Action  0.265161  0.159087  0.048214     0.056950\n",
              "1      Adventure  0.080039  0.050032  0.040948     0.013144\n",
              "2       Fighting  0.265663  0.120265  0.104096     0.043542\n",
              "3           Misc  0.235963  0.124234  0.062028     0.043397\n",
              "4       Platform  0.511028  0.230266  0.149215     0.059076\n",
              "5         Puzzle  0.216846  0.090305  0.100699     0.022204\n",
              "6         Racing  0.292995  0.193894  0.045726     0.062987\n",
              "7   Role-Playing  0.210617  0.120933  0.230624     0.037524\n",
              "8        Shooter  0.450055  0.242110  0.029402     0.079417\n",
              "9     Simulation  0.215012  0.133860  0.075368     0.037114\n",
              "10        Sports  0.290161  0.161353  0.058717     0.057509\n",
              "11      Strategy  0.102139  0.067319  0.072485     0.016867"
            ],
            "text/html": [
              "\n",
              "  <div id=\"df-1f804c54-f8d4-422c-ba5f-31396eade07f\">\n",
              "    <div class=\"colab-df-container\">\n",
              "      <div>\n",
              "<style scoped>\n",
              "    .dataframe tbody tr th:only-of-type {\n",
              "        vertical-align: middle;\n",
              "    }\n",
              "\n",
              "    .dataframe tbody tr th {\n",
              "        vertical-align: top;\n",
              "    }\n",
              "\n",
              "    .dataframe thead th {\n",
              "        text-align: right;\n",
              "    }\n",
              "</style>\n",
              "<table border=\"1\" class=\"dataframe\">\n",
              "  <thead>\n",
              "    <tr style=\"text-align: right;\">\n",
              "      <th></th>\n",
              "      <th>Genre</th>\n",
              "      <th>NA_Sales</th>\n",
              "      <th>EU_Sales</th>\n",
              "      <th>JP_Sales</th>\n",
              "      <th>Other_Sales</th>\n",
              "    </tr>\n",
              "  </thead>\n",
              "  <tbody>\n",
              "    <tr>\n",
              "      <th>0</th>\n",
              "      <td>Action</td>\n",
              "      <td>0.265161</td>\n",
              "      <td>0.159087</td>\n",
              "      <td>0.048214</td>\n",
              "      <td>0.056950</td>\n",
              "    </tr>\n",
              "    <tr>\n",
              "      <th>1</th>\n",
              "      <td>Adventure</td>\n",
              "      <td>0.080039</td>\n",
              "      <td>0.050032</td>\n",
              "      <td>0.040948</td>\n",
              "      <td>0.013144</td>\n",
              "    </tr>\n",
              "    <tr>\n",
              "      <th>2</th>\n",
              "      <td>Fighting</td>\n",
              "      <td>0.265663</td>\n",
              "      <td>0.120265</td>\n",
              "      <td>0.104096</td>\n",
              "      <td>0.043542</td>\n",
              "    </tr>\n",
              "    <tr>\n",
              "      <th>3</th>\n",
              "      <td>Misc</td>\n",
              "      <td>0.235963</td>\n",
              "      <td>0.124234</td>\n",
              "      <td>0.062028</td>\n",
              "      <td>0.043397</td>\n",
              "    </tr>\n",
              "    <tr>\n",
              "      <th>4</th>\n",
              "      <td>Platform</td>\n",
              "      <td>0.511028</td>\n",
              "      <td>0.230266</td>\n",
              "      <td>0.149215</td>\n",
              "      <td>0.059076</td>\n",
              "    </tr>\n",
              "    <tr>\n",
              "      <th>5</th>\n",
              "      <td>Puzzle</td>\n",
              "      <td>0.216846</td>\n",
              "      <td>0.090305</td>\n",
              "      <td>0.100699</td>\n",
              "      <td>0.022204</td>\n",
              "    </tr>\n",
              "    <tr>\n",
              "      <th>6</th>\n",
              "      <td>Racing</td>\n",
              "      <td>0.292995</td>\n",
              "      <td>0.193894</td>\n",
              "      <td>0.045726</td>\n",
              "      <td>0.062987</td>\n",
              "    </tr>\n",
              "    <tr>\n",
              "      <th>7</th>\n",
              "      <td>Role-Playing</td>\n",
              "      <td>0.210617</td>\n",
              "      <td>0.120933</td>\n",
              "      <td>0.230624</td>\n",
              "      <td>0.037524</td>\n",
              "    </tr>\n",
              "    <tr>\n",
              "      <th>8</th>\n",
              "      <td>Shooter</td>\n",
              "      <td>0.450055</td>\n",
              "      <td>0.242110</td>\n",
              "      <td>0.029402</td>\n",
              "      <td>0.079417</td>\n",
              "    </tr>\n",
              "    <tr>\n",
              "      <th>9</th>\n",
              "      <td>Simulation</td>\n",
              "      <td>0.215012</td>\n",
              "      <td>0.133860</td>\n",
              "      <td>0.075368</td>\n",
              "      <td>0.037114</td>\n",
              "    </tr>\n",
              "    <tr>\n",
              "      <th>10</th>\n",
              "      <td>Sports</td>\n",
              "      <td>0.290161</td>\n",
              "      <td>0.161353</td>\n",
              "      <td>0.058717</td>\n",
              "      <td>0.057509</td>\n",
              "    </tr>\n",
              "    <tr>\n",
              "      <th>11</th>\n",
              "      <td>Strategy</td>\n",
              "      <td>0.102139</td>\n",
              "      <td>0.067319</td>\n",
              "      <td>0.072485</td>\n",
              "      <td>0.016867</td>\n",
              "    </tr>\n",
              "  </tbody>\n",
              "</table>\n",
              "</div>\n",
              "      <button class=\"colab-df-convert\" onclick=\"convertToInteractive('df-1f804c54-f8d4-422c-ba5f-31396eade07f')\"\n",
              "              title=\"Convert this dataframe to an interactive table.\"\n",
              "              style=\"display:none;\">\n",
              "        \n",
              "  <svg xmlns=\"http://www.w3.org/2000/svg\" height=\"24px\"viewBox=\"0 0 24 24\"\n",
              "       width=\"24px\">\n",
              "    <path d=\"M0 0h24v24H0V0z\" fill=\"none\"/>\n",
              "    <path d=\"M18.56 5.44l.94 2.06.94-2.06 2.06-.94-2.06-.94-.94-2.06-.94 2.06-2.06.94zm-11 1L8.5 8.5l.94-2.06 2.06-.94-2.06-.94L8.5 2.5l-.94 2.06-2.06.94zm10 10l.94 2.06.94-2.06 2.06-.94-2.06-.94-.94-2.06-.94 2.06-2.06.94z\"/><path d=\"M17.41 7.96l-1.37-1.37c-.4-.4-.92-.59-1.43-.59-.52 0-1.04.2-1.43.59L10.3 9.45l-7.72 7.72c-.78.78-.78 2.05 0 2.83L4 21.41c.39.39.9.59 1.41.59.51 0 1.02-.2 1.41-.59l7.78-7.78 2.81-2.81c.8-.78.8-2.07 0-2.86zM5.41 20L4 18.59l7.72-7.72 1.47 1.35L5.41 20z\"/>\n",
              "  </svg>\n",
              "      </button>\n",
              "      \n",
              "  <style>\n",
              "    .colab-df-container {\n",
              "      display:flex;\n",
              "      flex-wrap:wrap;\n",
              "      gap: 12px;\n",
              "    }\n",
              "\n",
              "    .colab-df-convert {\n",
              "      background-color: #E8F0FE;\n",
              "      border: none;\n",
              "      border-radius: 50%;\n",
              "      cursor: pointer;\n",
              "      display: none;\n",
              "      fill: #1967D2;\n",
              "      height: 32px;\n",
              "      padding: 0 0 0 0;\n",
              "      width: 32px;\n",
              "    }\n",
              "\n",
              "    .colab-df-convert:hover {\n",
              "      background-color: #E2EBFA;\n",
              "      box-shadow: 0px 1px 2px rgba(60, 64, 67, 0.3), 0px 1px 3px 1px rgba(60, 64, 67, 0.15);\n",
              "      fill: #174EA6;\n",
              "    }\n",
              "\n",
              "    [theme=dark] .colab-df-convert {\n",
              "      background-color: #3B4455;\n",
              "      fill: #D2E3FC;\n",
              "    }\n",
              "\n",
              "    [theme=dark] .colab-df-convert:hover {\n",
              "      background-color: #434B5C;\n",
              "      box-shadow: 0px 1px 3px 1px rgba(0, 0, 0, 0.15);\n",
              "      filter: drop-shadow(0px 1px 2px rgba(0, 0, 0, 0.3));\n",
              "      fill: #FFFFFF;\n",
              "    }\n",
              "  </style>\n",
              "\n",
              "      <script>\n",
              "        const buttonEl =\n",
              "          document.querySelector('#df-1f804c54-f8d4-422c-ba5f-31396eade07f button.colab-df-convert');\n",
              "        buttonEl.style.display =\n",
              "          google.colab.kernel.accessAllowed ? 'block' : 'none';\n",
              "\n",
              "        async function convertToInteractive(key) {\n",
              "          const element = document.querySelector('#df-1f804c54-f8d4-422c-ba5f-31396eade07f');\n",
              "          const dataTable =\n",
              "            await google.colab.kernel.invokeFunction('convertToInteractive',\n",
              "                                                     [key], {});\n",
              "          if (!dataTable) return;\n",
              "\n",
              "          const docLinkHtml = 'Like what you see? Visit the ' +\n",
              "            '<a target=\"_blank\" href=https://colab.research.google.com/notebooks/data_table.ipynb>data table notebook</a>'\n",
              "            + ' to learn more about interactive tables.';\n",
              "          element.innerHTML = '';\n",
              "          dataTable['output_type'] = 'display_data';\n",
              "          await google.colab.output.renderOutput(dataTable, element);\n",
              "          const docLink = document.createElement('div');\n",
              "          docLink.innerHTML = docLinkHtml;\n",
              "          element.appendChild(docLink);\n",
              "        }\n",
              "      </script>\n",
              "    </div>\n",
              "  </div>\n",
              "  "
            ]
          },
          "metadata": {},
          "execution_count": 860
        }
      ]
    },
    {
      "cell_type": "code",
      "source": [
        "NA_Sales = Sales_means['NA_Sales']\n",
        "EU_Sales = Sales_means['EU_Sales']\n",
        "JP_Sales = Sales_means['JP_Sales']\n",
        "Other_Sales = Sales_means['Other_Sales']\n",
        "\n",
        "\n",
        "\n",
        "F_statistic, pVal = stats.f_oneway(NA_Sales,EU_Sales,JP_Sales,Other_Sales)\n",
        "\n",
        "print('분석 결과 : F={0:.1f}, p={1:.8f}'.format(F_statistic, pVal))\n",
        "if pVal < 0.05:\n",
        "    print('P-value 값이 충분히 작음으로 인해 귀무가설이 기각, 적어도 한지역은 선호하는 게임이 통계적으로 유의미하게 다릅니다.')"
      ],
      "metadata": {
        "id": "k2qX-fyNeR5L",
        "outputId": "565918a1-1767-4820-fe16-baad3e5f1fe9",
        "colab": {
          "base_uri": "https://localhost:8080/"
        }
      },
      "execution_count": 861,
      "outputs": [
        {
          "output_type": "stream",
          "name": "stdout",
          "text": [
            "분석 결과 : F=19.3, p=0.00000004\n",
            "P-value 값이 충분히 작음으로 인해 귀무가설이 기각, 적어도 한지역은 선호하는 게임이 통계적으로 유의미하게 다릅니다.\n"
          ]
        }
      ]
    },
    {
      "cell_type": "markdown",
      "source": [
        "## **2. 사후 분석 및 시각화**"
      ],
      "metadata": {
        "id": "uPSgGCwajbxr"
      }
    },
    {
      "cell_type": "code",
      "source": [
        "#그래프를 선호도순으로 나열하기 위해 내림차순으로 정렬한다.\n",
        "NA_Sales = Sales_means.sort_values(by='NA_Sales',ascending = False)\n",
        "EU_Sales = Sales_means.sort_values(by='EU_Sales',ascending = False)\n",
        "JP_Sales = Sales_means.sort_values(by='JP_Sales',ascending = False)\n",
        "Other_Sales = Sales_means.sort_values(by='Other_Sales',ascending = False)\n"
      ],
      "metadata": {
        "id": "afguEmQV69mM"
      },
      "execution_count": 862,
      "outputs": []
    },
    {
      "cell_type": "code",
      "source": [
        "# 그렇다면 각 지역별로 장르선호도가 어떻게 다를까\n",
        "\n",
        "plt.style.use('fivethirtyeight')\n",
        "\n",
        "fig = plt.figure(figsize=(14,12))\n",
        "plt.subplot(221)\n",
        "ax1 = sns.barplot(x=NA_Sales['NA_Sales'], y= NA_Sales['Genre'])\n",
        "ax = plt.gca()\n",
        "plt.title('North America Sales',fontsize=20, fontweight='semibold')\n",
        "ax1.set(xlabel=None , ylabel=None)\n",
        "plt.tick_params(axis='x', which='both',bottom=False, top=False,labelbottom=False)\n",
        "\n",
        "plt.subplot(222)\n",
        "ax2 = sns.barplot(x=EU_Sales['EU_Sales'], y= EU_Sales['Genre'])\n",
        "plt.title('Europeon Union Sales',fontsize=18.5, fontweight='semibold')\n",
        "ax2.set(xlabel=None , ylabel=None)\n",
        "plt.tick_params(axis='x', which='both',bottom=False, top=False,labelbottom=False)\n",
        "\n",
        "plt.subplot(223)\n",
        "ax3 = sns.barplot(x=JP_Sales['JP_Sales'], y= JP_Sales['Genre'])\n",
        "plt.title('Japan Sales',fontsize=18.5, fontweight='semibold')\n",
        "ax3.set(xlabel=None , ylabel=None)\n",
        "plt.tick_params(axis='x', which='both',bottom=False, top=False,labelbottom=False)\n",
        "\n",
        "plt.subplot(224)\n",
        "ax4 = sns.barplot(x=Other_Sales['Other_Sales'], y= Other_Sales['Genre'])\n",
        "plt.title('Other Countries Sales',fontsize=18.5, fontweight='semibold')\n",
        "ax4.set(xlabel=None , ylabel=None)\n",
        "plt.tick_params(axis='x', which='both',bottom=False, top=False,labelbottom=False)\n",
        "\n",
        "fig.tight_layout()\n",
        "plt.show;"
      ],
      "metadata": {
        "id": "bTo7456SjavA",
        "outputId": "02b049ec-ffc9-4c28-f874-7677c0a1288b",
        "colab": {
          "base_uri": "https://localhost:8080/",
          "height": 882
        }
      },
      "execution_count": 863,
      "outputs": [
        {
          "output_type": "stream",
          "name": "stderr",
          "text": [
            "findfont: Font family ['AppleGothic'] not found. Falling back to DejaVu Sans.\n"
          ]
        },
        {
          "output_type": "display_data",
          "data": {
            "text/plain": [
              "<Figure size 1008x864 with 4 Axes>"
            ],
            "image/png": "[encoded data removed]"
          },
          "metadata": {}
        }
      ]
    },
    {
      "cell_type": "markdown",
      "source": [
        "미국과 유럽, 기타국가들은 슈팅게임를 아주 선호하는 것으로 보이나 일본의 경우는 슈팅게임을 제일 선호하지 않는다. \n",
        "\n",
        "다른나라들은 모두 비슷한 장르를 선호하는 것으로 보이나 일본의 경우는 다른 양상을 띈다. "
      ],
      "metadata": {
        "id": "SCCKJhUy80ET"
      }
    },
    {
      "cell_type": "markdown",
      "source": [
        "#\b연도별 게임 트랜드"
      ],
      "metadata": {
        "id": "H8VpYEFz-OwR"
      }
    },
    {
      "cell_type": "markdown",
      "source": [
        "제일 먼저 연도별 게임의 출시 현황을 살펴 본 다음,\n",
        "연도별 선호 장르추이가 어떻게 변하는지 살펴보자"
      ],
      "metadata": {
        "id": "92PR1NChCmlJ"
      }
    },
    {
      "cell_type": "code",
      "source": [
        "# 연도별 게임 출시 현황을 살펴 본 결과 2005~2011년 사이에 가장 많은 게임이 출시되었다.\n",
        "\n",
        "release_by_year =df.groupby('Year',as_index=False)[['Name']].count()\n",
        "\n",
        "#시각화로 살펴보자\n",
        "from matplotlib import rc\n",
        "\n",
        "plt.rc('font', family='NanumBarunGothic') \n",
        "\n",
        "fig = plt.figure(figsize=(10,7))\n",
        "ax = sns.lineplot(x=release_by_year.Year ,y=release_by_year.Name)\n",
        "ax.set(xlabel=None , ylabel='count')\n",
        "plt.title('연도별 게임출시현황')\n",
        "plt.show;"
      ],
      "metadata": {
        "id": "OOgrjldeB33w",
        "outputId": "e759b99e-f57e-483e-9de2-92c033f3a707",
        "colab": {
          "base_uri": "https://localhost:8080/",
          "height": 1000
        }
      },
      "execution_count": 864,
      "outputs": [
        {
          "output_type": "stream",
          "name": "stderr",
          "text": [
            "findfont: Font family ['NanumBarunGothic'] not found. Falling back to DejaVu Sans.\n",
            "/usr/local/lib/python3.7/dist-packages/matplotlib/backends/backend_agg.py:214: RuntimeWarning: Glyph 50672 missing from current font.\n",
            "  font.set_text(s, 0.0, flags=flags)\n",
            "/usr/local/lib/python3.7/dist-packages/matplotlib/backends/backend_agg.py:214: RuntimeWarning: Glyph 46020 missing from current font.\n",
            "  font.set_text(s, 0.0, flags=flags)\n",
            "/usr/local/lib/python3.7/dist-packages/matplotlib/backends/backend_agg.py:214: RuntimeWarning: Glyph 48324 missing from current font.\n",
            "  font.set_text(s, 0.0, flags=flags)\n",
            "/usr/local/lib/python3.7/dist-packages/matplotlib/backends/backend_agg.py:214: RuntimeWarning: Glyph 44172 missing from current font.\n",
            "  font.set_text(s, 0.0, flags=flags)\n",
            "/usr/local/lib/python3.7/dist-packages/matplotlib/backends/backend_agg.py:214: RuntimeWarning: Glyph 51076 missing from current font.\n",
            "  font.set_text(s, 0.0, flags=flags)\n",
            "/usr/local/lib/python3.7/dist-packages/matplotlib/backends/backend_agg.py:214: RuntimeWarning: Glyph 52636 missing from current font.\n",
            "  font.set_text(s, 0.0, flags=flags)\n",
            "/usr/local/lib/python3.7/dist-packages/matplotlib/backends/backend_agg.py:214: RuntimeWarning: Glyph 49884 missing from current font.\n",
            "  font.set_text(s, 0.0, flags=flags)\n",
            "/usr/local/lib/python3.7/dist-packages/matplotlib/backends/backend_agg.py:214: RuntimeWarning: Glyph 54788 missing from current font.\n",
            "  font.set_text(s, 0.0, flags=flags)\n",
            "/usr/local/lib/python3.7/dist-packages/matplotlib/backends/backend_agg.py:214: RuntimeWarning: Glyph 54889 missing from current font.\n",
            "  font.set_text(s, 0.0, flags=flags)\n",
            "findfont: Font family ['NanumBarunGothic'] not found. Falling back to DejaVu Sans.\n",
            "findfont: Font family ['NanumBarunGothic'] not found. Falling back to DejaVu Sans.\n",
            "/usr/local/lib/python3.7/dist-packages/matplotlib/backends/backend_agg.py:183: RuntimeWarning: Glyph 50672 missing from current font.\n",
            "  font.set_text(s, 0, flags=flags)\n",
            "/usr/local/lib/python3.7/dist-packages/matplotlib/backends/backend_agg.py:183: RuntimeWarning: Glyph 46020 missing from current font.\n",
            "  font.set_text(s, 0, flags=flags)\n",
            "/usr/local/lib/python3.7/dist-packages/matplotlib/backends/backend_agg.py:183: RuntimeWarning: Glyph 48324 missing from current font.\n",
            "  font.set_text(s, 0, flags=flags)\n",
            "/usr/local/lib/python3.7/dist-packages/matplotlib/backends/backend_agg.py:183: RuntimeWarning: Glyph 44172 missing from current font.\n",
            "  font.set_text(s, 0, flags=flags)\n",
            "/usr/local/lib/python3.7/dist-packages/matplotlib/backends/backend_agg.py:183: RuntimeWarning: Glyph 51076 missing from current font.\n",
            "  font.set_text(s, 0, flags=flags)\n",
            "/usr/local/lib/python3.7/dist-packages/matplotlib/backends/backend_agg.py:183: RuntimeWarning: Glyph 52636 missing from current font.\n",
            "  font.set_text(s, 0, flags=flags)\n",
            "/usr/local/lib/python3.7/dist-packages/matplotlib/backends/backend_agg.py:183: RuntimeWarning: Glyph 49884 missing from current font.\n",
            "  font.set_text(s, 0, flags=flags)\n",
            "/usr/local/lib/python3.7/dist-packages/matplotlib/backends/backend_agg.py:183: RuntimeWarning: Glyph 54788 missing from current font.\n",
            "  font.set_text(s, 0, flags=flags)\n",
            "/usr/local/lib/python3.7/dist-packages/matplotlib/backends/backend_agg.py:183: RuntimeWarning: Glyph 54889 missing from current font.\n",
            "  font.set_text(s, 0, flags=flags)\n"
          ]
        },
        {
          "output_type": "display_data",
          "data": {
            "text/plain": [
              "<Figure size 720x504 with 1 Axes>"
            ],
            "image/png": "[encoded data removed]"
          },
          "metadata": {}
        }
      ]
    },
    {
      "cell_type": "code",
      "source": [
        "by_year = df.groupby(['Year','Genre'],as_index=False)['Global_Sales'].mean()"
      ],
      "metadata": {
        "id": "yQ_pKoqa8wFy"
      },
      "execution_count": 865,
      "outputs": []
    },
    {
      "cell_type": "code",
      "source": [
        "by_year"
      ],
      "metadata": {
        "id": "arVIttYI-x9y",
        "outputId": "889615e5-9861-477f-fb4a-e37fe4458022",
        "colab": {
          "base_uri": "https://localhost:8080/",
          "height": 424
        }
      },
      "execution_count": 866,
      "outputs": [
        {
          "output_type": "execute_result",
          "data": {
            "text/plain": [
              "     Year         Genre  Global_Sales\n",
              "0    1980        Action      0.340000\n",
              "1    1980      Fighting      0.770000\n",
              "2    1980          Misc      0.675000\n",
              "3    1980       Shooter      3.535000\n",
              "4    1980        Sports      0.500000\n",
              "..    ...           ...           ...\n",
              "384  2016        Sports      0.390811\n",
              "385  2016      Strategy      0.052000\n",
              "386  2017        Action      0.010000\n",
              "387  2017  Role-Playing      0.020000\n",
              "388  2020    Simulation      0.290000\n",
              "\n",
              "[389 rows x 3 columns]"
            ],
            "text/html": [
              "\n",
              "  <div id=\"df-c8d2919a-f89f-40e8-ac80-47c63971cf38\">\n",
              "    <div class=\"colab-df-container\">\n",
              "      <div>\n",
              "<style scoped>\n",
              "    .dataframe tbody tr th:only-of-type {\n",
              "        vertical-align: middle;\n",
              "    }\n",
              "\n",
              "    .dataframe tbody tr th {\n",
              "        vertical-align: top;\n",
              "    }\n",
              "\n",
              "    .dataframe thead th {\n",
              "        text-align: right;\n",
              "    }\n",
              "</style>\n",
              "<table border=\"1\" class=\"dataframe\">\n",
              "  <thead>\n",
              "    <tr style=\"text-align: right;\">\n",
              "      <th></th>\n",
              "      <th>Year</th>\n",
              "      <th>Genre</th>\n",
              "      <th>Global_Sales</th>\n",
              "    </tr>\n",
              "  </thead>\n",
              "  <tbody>\n",
              "    <tr>\n",
              "      <th>0</th>\n",
              "      <td>1980</td>\n",
              "      <td>Action</td>\n",
              "      <td>0.340000</td>\n",
              "    </tr>\n",
              "    <tr>\n",
              "      <th>1</th>\n",
              "      <td>1980</td>\n",
              "      <td>Fighting</td>\n",
              "      <td>0.770000</td>\n",
              "    </tr>\n",
              "    <tr>\n",
              "      <th>2</th>\n",
              "      <td>1980</td>\n",
              "      <td>Misc</td>\n",
              "      <td>0.675000</td>\n",
              "    </tr>\n",
              "    <tr>\n",
              "      <th>3</th>\n",
              "      <td>1980</td>\n",
              "      <td>Shooter</td>\n",
              "      <td>3.535000</td>\n",
              "    </tr>\n",
              "    <tr>\n",
              "      <th>4</th>\n",
              "      <td>1980</td>\n",
              "      <td>Sports</td>\n",
              "      <td>0.500000</td>\n",
              "    </tr>\n",
              "    <tr>\n",
              "      <th>...</th>\n",
              "      <td>...</td>\n",
              "      <td>...</td>\n",
              "      <td>...</td>\n",
              "    </tr>\n",
              "    <tr>\n",
              "      <th>384</th>\n",
              "      <td>2016</td>\n",
              "      <td>Sports</td>\n",
              "      <td>0.390811</td>\n",
              "    </tr>\n",
              "    <tr>\n",
              "      <th>385</th>\n",
              "      <td>2016</td>\n",
              "      <td>Strategy</td>\n",
              "      <td>0.052000</td>\n",
              "    </tr>\n",
              "    <tr>\n",
              "      <th>386</th>\n",
              "      <td>2017</td>\n",
              "      <td>Action</td>\n",
              "      <td>0.010000</td>\n",
              "    </tr>\n",
              "    <tr>\n",
              "      <th>387</th>\n",
              "      <td>2017</td>\n",
              "      <td>Role-Playing</td>\n",
              "      <td>0.020000</td>\n",
              "    </tr>\n",
              "    <tr>\n",
              "      <th>388</th>\n",
              "      <td>2020</td>\n",
              "      <td>Simulation</td>\n",
              "      <td>0.290000</td>\n",
              "    </tr>\n",
              "  </tbody>\n",
              "</table>\n",
              "<p>389 rows × 3 columns</p>\n",
              "</div>\n",
              "      <button class=\"colab-df-convert\" onclick=\"convertToInteractive('df-c8d2919a-f89f-40e8-ac80-47c63971cf38')\"\n",
              "              title=\"Convert this dataframe to an interactive table.\"\n",
              "              style=\"display:none;\">\n",
              "        \n",
              "  <svg xmlns=\"http://www.w3.org/2000/svg\" height=\"24px\"viewBox=\"0 0 24 24\"\n",
              "       width=\"24px\">\n",
              "    <path d=\"M0 0h24v24H0V0z\" fill=\"none\"/>\n",
              "    <path d=\"M18.56 5.44l.94 2.06.94-2.06 2.06-.94-2.06-.94-.94-2.06-.94 2.06-2.06.94zm-11 1L8.5 8.5l.94-2.06 2.06-.94-2.06-.94L8.5 2.5l-.94 2.06-2.06.94zm10 10l.94 2.06.94-2.06 2.06-.94-2.06-.94-.94-2.06-.94 2.06-2.06.94z\"/><path d=\"M17.41 7.96l-1.37-1.37c-.4-.4-.92-.59-1.43-.59-.52 0-1.04.2-1.43.59L10.3 9.45l-7.72 7.72c-.78.78-.78 2.05 0 2.83L4 21.41c.39.39.9.59 1.41.59.51 0 1.02-.2 1.41-.59l7.78-7.78 2.81-2.81c.8-.78.8-2.07 0-2.86zM5.41 20L4 18.59l7.72-7.72 1.47 1.35L5.41 20z\"/>\n",
              "  </svg>\n",
              "      </button>\n",
              "      \n",
              "  <style>\n",
              "    .colab-df-container {\n",
              "      display:flex;\n",
              "      flex-wrap:wrap;\n",
              "      gap: 12px;\n",
              "    }\n",
              "\n",
              "    .colab-df-convert {\n",
              "      background-color: #E8F0FE;\n",
              "      border: none;\n",
              "      border-radius: 50%;\n",
              "      cursor: pointer;\n",
              "      display: none;\n",
              "      fill: #1967D2;\n",
              "      height: 32px;\n",
              "      padding: 0 0 0 0;\n",
              "      width: 32px;\n",
              "    }\n",
              "\n",
              "    .colab-df-convert:hover {\n",
              "      background-color: #E2EBFA;\n",
              "      box-shadow: 0px 1px 2px rgba(60, 64, 67, 0.3), 0px 1px 3px 1px rgba(60, 64, 67, 0.15);\n",
              "      fill: #174EA6;\n",
              "    }\n",
              "\n",
              "    [theme=dark] .colab-df-convert {\n",
              "      background-color: #3B4455;\n",
              "      fill: #D2E3FC;\n",
              "    }\n",
              "\n",
              "    [theme=dark] .colab-df-convert:hover {\n",
              "      background-color: #434B5C;\n",
              "      box-shadow: 0px 1px 3px 1px rgba(0, 0, 0, 0.15);\n",
              "      filter: drop-shadow(0px 1px 2px rgba(0, 0, 0, 0.3));\n",
              "      fill: #FFFFFF;\n",
              "    }\n",
              "  </style>\n",
              "\n",
              "      <script>\n",
              "        const buttonEl =\n",
              "          document.querySelector('#df-c8d2919a-f89f-40e8-ac80-47c63971cf38 button.colab-df-convert');\n",
              "        buttonEl.style.display =\n",
              "          google.colab.kernel.accessAllowed ? 'block' : 'none';\n",
              "\n",
              "        async function convertToInteractive(key) {\n",
              "          const element = document.querySelector('#df-c8d2919a-f89f-40e8-ac80-47c63971cf38');\n",
              "          const dataTable =\n",
              "            await google.colab.kernel.invokeFunction('convertToInteractive',\n",
              "                                                     [key], {});\n",
              "          if (!dataTable) return;\n",
              "\n",
              "          const docLinkHtml = 'Like what you see? Visit the ' +\n",
              "            '<a target=\"_blank\" href=https://colab.research.google.com/notebooks/data_table.ipynb>data table notebook</a>'\n",
              "            + ' to learn more about interactive tables.';\n",
              "          element.innerHTML = '';\n",
              "          dataTable['output_type'] = 'display_data';\n",
              "          await google.colab.output.renderOutput(dataTable, element);\n",
              "          const docLink = document.createElement('div');\n",
              "          docLink.innerHTML = docLinkHtml;\n",
              "          element.appendChild(docLink);\n",
              "        }\n",
              "      </script>\n",
              "    </div>\n",
              "  </div>\n",
              "  "
            ]
          },
          "metadata": {},
          "execution_count": 866
        }
      ]
    },
    {
      "cell_type": "code",
      "source": [
        "plt.style.use('fivethirtyeight')\n",
        "\n",
        "fig = plt.figure(figsize=(10,8))\n",
        "ax = sns.lineplot(x=release_by_year.Year ,y=release_by_year.Name)"
      ],
      "metadata": {
        "id": "V0YpbOtN_g6i",
        "outputId": "8fb8eb6c-ac79-4598-e819-5a8c4365a5d9",
        "colab": {
          "base_uri": "https://localhost:8080/",
          "height": 537
        }
      },
      "execution_count": 867,
      "outputs": [
        {
          "output_type": "display_data",
          "data": {
            "text/plain": [
              "<Figure size 720x576 with 1 Axes>"
            ],
            "image/png": "[encoded data removed]"
          },
          "metadata": {}
        }
      ]
    }
  ]
}