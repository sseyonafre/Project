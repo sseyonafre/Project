{
  "nbformat": 4,
  "nbformat_minor": 0,
  "metadata": {
    "colab": {
      "name": "AI_14_고세희_Section2.ipynb",
      "provenance": [],
      "toc_visible": true,
      "authorship_tag": "ABX9TyPQKoLoPXIRaNkz/9HEL91M",
      "include_colab_link": true
    },
    "kernelspec": {
      "name": "python3",
      "display_name": "Python 3"
    },
    "language_info": {
      "name": "python"
    }
  },
  "cells": [
    {
      "cell_type": "markdown",
      "metadata": {
        "id": "view-in-github",
        "colab_type": "text"
      },
      "source": [
        "<a href=\"https://colab.research.google.com/github/sseyonafre/Project/blob/main/AI_14_%E1%84%80%E1%85%A9%E1%84%89%E1%85%A6%E1%84%92%E1%85%B4_Section2.ipynb\" target=\"_parent\"><img src=\"https://colab.research.google.com/assets/colab-badge.svg\" alt=\"Open In Colab\"/></a>"
      ]
    },
    {
      "cell_type": "markdown",
      "source": [
        "# *DATA SCIENCE / SECTION 2 / PROJECT*"
      ],
      "metadata": {
        "id": "IvAHU7YKM7sw"
      }
    },
    {
      "cell_type": "markdown",
      "source": [
        "# 🏆 프로젝트 목표\n",
        ">타격데이터를 통한 2022년 프로야구 승패예측모델 만들기"
      ],
      "metadata": {
        "id": "2PU3M-I8NAeH"
      }
    },
    {
      "cell_type": "markdown",
      "source": [
        "#  ⚾️ Data Description\n"
      ],
      "metadata": {
        "id": "NhQo_4rONDqg"
      }
    },
    {
      "cell_type": "markdown",
      "source": [
        "#  데이터 탐색\n"
      ],
      "metadata": {
        "id": "t4L6SEriNUdh"
      }
    },
    {
      "cell_type": "markdown",
      "source": [
        "## **1. Gathering Data**"
      ],
      "metadata": {
        "id": "tUtsOxhaNXKE"
      }
    },
    {
      "cell_type": "markdown",
      "source": [
        "## **2. 데이터 탐색 및 정제**"
      ],
      "metadata": {
        "id": "Pxp5YhWgNbBE"
      }
    },
    {
      "cell_type": "markdown",
      "source": [
        "#Feature Engineering"
      ],
      "metadata": {
        "id": "vTt56QE5Ne97"
      }
    },
    {
      "cell_type": "code",
      "source": [
        ""
      ],
      "metadata": {
        "id": "GS1EwaoYNada"
      },
      "execution_count": null,
      "outputs": []
    },
    {
      "cell_type": "code",
      "source": [
        ""
      ],
      "metadata": {
        "id": "AcGiFd8aNA74"
      },
      "execution_count": null,
      "outputs": []
    },
    {
      "cell_type": "code",
      "source": [
        ""
      ],
      "metadata": {
        "id": "pqITIYepM8BX"
      },
      "execution_count": null,
      "outputs": []
    },
    {
      "cell_type": "code",
      "execution_count": null,
      "metadata": {
        "id": "9T-zKzHgMySB"
      },
      "outputs": [],
      "source": [
        ""
      ]
    }
  ]
}